{
 "cells": [
  {
   "cell_type": "markdown",
   "metadata": {},
   "source": [
    "# 13 Tests on Discrete Data"
   ]
  },
  {
   "cell_type": "markdown",
   "metadata": {},
   "source": [
    "<div id=\"toc\"></div>"
   ]
  },
  {
   "cell_type": "markdown",
   "metadata": {},
   "source": [
    "## 13.1 Comparing Groups of Ranked Data"
   ]
  },
  {
   "cell_type": "markdown",
   "metadata": {},
   "source": [
    "* book(https://github.com/thomas-haslwanter/dobson)."
   ]
  },
  {
   "cell_type": "markdown",
   "metadata": {},
   "source": [
    "## 13.2 Logistic Regression"
   ]
  },
  {
   "cell_type": "markdown",
   "metadata": {},
   "source": [
    "### 13.2.1 Example: The Challenger Disaster"
   ]
  },
  {
   "cell_type": "code",
   "execution_count": null,
   "metadata": {
    "collapsed": false
   },
   "outputs": [],
   "source": [
    "# %load ch13/L13_1_logitShort.py\n",
    "# Import standard packages\n",
    "import numpy as np\n",
    "import os\n",
    "import pandas as pd\n",
    "\n",
    "# additional packages\n",
    "from statsmodels.formula.api import glm\n",
    "from statsmodels.genmod.families import Binomial\n",
    "\n",
    "# Get the data\n",
    "inFile = 'challenger_data.csv'\n",
    "challenger_data = np.genfromtxt(inFile, skip_header=1,\n",
    "                    usecols=[1, 2], missing_values='NA',\n",
    "                    delimiter=',')\n",
    "# Eliminate NaNs\n",
    "challenger_data = challenger_data[~np.isnan(challenger_data[:, 1])]\n",
    "\n",
    "# Create a dataframe, with suitable columns for the fit\n",
    "df = pd.DataFrame()\n",
    "df['temp'] = np.unique(challenger_data[:,0])\n",
    "df['failed'] = 0\n",
    "df['ok'] = 0\n",
    "df['total'] = 0\n",
    "df.index = df.temp.values\n",
    "\n",
    "# Count the number of starts and failures\n",
    "for ii in range(challenger_data.shape[0]):\n",
    "    curTemp = challenger_data[ii,0]\n",
    "    curVal  = challenger_data[ii,1]\n",
    "    df.loc[curTemp,'total'] += 1\n",
    "    if curVal == 1:\n",
    "        df.loc[curTemp, 'failed'] += 1\n",
    "    else:\n",
    "        df.loc[curTemp, 'ok'] += 1\n",
    "\n",
    "# fit the model\n",
    "\n",
    "# --- >>> START stats <<< ---\n",
    "model = glm('ok + failed ~ temp', data=df, family=Binomial()).fit()\n",
    "# --- >>> STOP stats <<< ---\n",
    "\n",
    "print(model.summary())\n"
   ]
  },
  {
   "cell_type": "markdown",
   "metadata": {},
   "source": [
    "* https://github.com/thomas-haslwanter/statsintro_python/tree/master/ISP/Code_Quantlets/13_LogisticRegression/LogisticRegression."
   ]
  },
  {
   "cell_type": "markdown",
   "metadata": {},
   "source": [
    "## 13.3 Generalized Linear Models"
   ]
  },
  {
   "cell_type": "markdown",
   "metadata": {},
   "source": [
    "### 13.3.1 Exponential Family of Distributions"
   ]
  },
  {
   "cell_type": "markdown",
   "metadata": {},
   "source": [
    "### 13.3.2 Linear Predictor and Link Function"
   ]
  },
  {
   "cell_type": "markdown",
   "metadata": {},
   "source": [
    "## 13.4 Ordinal Logistic Regression"
   ]
  },
  {
   "cell_type": "markdown",
   "metadata": {},
   "source": [
    "### 13.4.1 Problem Definition"
   ]
  },
  {
   "cell_type": "markdown",
   "metadata": {},
   "source": [
    "* This section has been taken with permission from Fabian Pedregosa’s blog on ordinal logistic regression, http://fa.bianp.net/blog/2013/logistic-ordinal-regression/."
   ]
  },
  {
   "cell_type": "markdown",
   "metadata": {},
   "source": [
    "### 13.4.2 Optimization"
   ]
  },
  {
   "cell_type": "markdown",
   "metadata": {},
   "source": [
    "### 13.4.3 Code"
   ]
  },
  {
   "cell_type": "markdown",
   "metadata": {},
   "source": [
    "### 13.4.4 Performance"
   ]
  },
  {
   "cell_type": "markdown",
   "metadata": {},
   "source": [
    "* https://github.com/thomas-haslwanter/statsintro_python/tree/master/ISP/Code_Quantlets/13_LogisticRegression/OrdinalLogisticRegression."
   ]
  },
  {
   "cell_type": "code",
   "execution_count": null,
   "metadata": {
    "collapsed": true
   },
   "outputs": [],
   "source": []
  }
 ],
 "metadata": {
  "kernelspec": {
   "display_name": "Python 3",
   "language": "python",
   "name": "python3"
  },
  "language_info": {
   "codemirror_mode": {
    "name": "ipython",
    "version": 3
   },
   "file_extension": ".py",
   "mimetype": "text/x-python",
   "name": "python",
   "nbconvert_exporter": "python",
   "pygments_lexer": "ipython3",
   "version": "3.6.0"
  }
 },
 "nbformat": 4,
 "nbformat_minor": 1
}
