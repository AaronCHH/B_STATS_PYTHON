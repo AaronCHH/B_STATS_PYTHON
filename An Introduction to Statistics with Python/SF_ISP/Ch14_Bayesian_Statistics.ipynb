{
 "cells": [
  {
   "cell_type": "markdown",
   "metadata": {},
   "source": [
    "# 14 Bayesian Statistics"
   ]
  },
  {
   "cell_type": "markdown",
   "metadata": {},
   "source": [
    "<div id=\"toc\"></div>"
   ]
  },
  {
   "cell_type": "markdown",
   "metadata": {},
   "source": [
    "## 14.1 Bayesian vs. Frequentist Interpretation"
   ]
  },
  {
   "cell_type": "markdown",
   "metadata": {},
   "source": [
    "### 14.1.1 Bayesian Example"
   ]
  },
  {
   "cell_type": "markdown",
   "metadata": {},
   "source": [
    "## 14.2 The Bayesian Approach in the Age of Computers"
   ]
  },
  {
   "cell_type": "markdown",
   "metadata": {},
   "source": [
    "For more information on that topic, check out (in order of rising complexity)  \n",
    "* Wikipedia, which has some nice explanations under “Bayes :: :”  \n",
    "* Bayesian Methods for Hackers (http://camdavidsonpilon.github.io/Probabilistic-Programming-and-Bayesian-Methods-for-Hackers/), a nice, free ebook, provid- ing a practical introduction to the use of PyMC (see below).  \n",
    "* The PyMC User Guide (http://pymc-devs.github.io/pymc/): PyMC is a very powerful Python package which makes the application of MCMC techniques very simple.  \n",
    "* Pattern Classification, does not avoid the mathematics, but uses it in a practical manner to help you gain a deeper understanding of the most important machine learning techniques (Duda 2004).  \n",
    "* Pattern Recognition and Machine Learning, a comprehensive, but often quite technical book by Bishop (2007).  \n",
    "  \n"
   ]
  },
  {
   "cell_type": "markdown",
   "metadata": {},
   "source": [
    "## 14.3 Example: Analysis of the Challenger Disaster with a Markov-Chain–Monte-Carlo  Simulation"
   ]
  },
  {
   "cell_type": "code",
   "execution_count": null,
   "metadata": {
    "collapsed": false
   },
   "outputs": [],
   "source": [
    "# --- Perform the MCMC-simulations ---\n",
    "temperature = challenger_data[:, 0]\n",
    "D = challenger_data[:, 1] # defect or not?\n",
    "# Define the prior distributions for alpha and beta\n",
    "# 'value' sets the start parameter for the simulation\n",
    "# The second parameter for the normal distributions is the\n",
    "# \"precision\", i.e. the inverse of the standard deviation\n",
    "beta = pm.Normal(\"beta\", 0, 0.001, value=0)\n",
    "alpha = pm.Normal(\"alpha\", 0, 0.001, value=0)\n",
    "# Define the model-function for the temperature\n",
    "@pm.deterministic\n",
    "def p(t=temperature, alpha=alpha, beta=beta):\n",
    "    return 1.0 / (1. + np.exp(beta * t + alpha))\n",
    "# connect the probabilities in `p` with our observations\n",
    "# through a Bernoulli random variable.\n",
    "observed = pm.Bernoulli(\"bernoulli_obs\", p, value=D,\n",
    "observed=True)\n",
    "# Combine the values to a model\n",
    "model = pm.Model([observed, beta, alpha])\n",
    "# Perform the simulations\n",
    "map_ = pm.MAP(model)\n",
    "map_.fit()\n",
    "mcmc = pm.MCMC(model)\n",
    "mcmc.sample(120000, 100000, 2)"
   ]
  },
  {
   "cell_type": "markdown",
   "metadata": {},
   "source": [
    "* https://github.com/thomas-haslwanter/statsintro_python/tree/master/ISP/Code_Quantlets/14_Bayesian/bayesianStats."
   ]
  },
  {
   "cell_type": "markdown",
   "metadata": {},
   "source": [
    "## 14.4 Summing Up"
   ]
  },
  {
   "cell_type": "code",
   "execution_count": null,
   "metadata": {
    "collapsed": true
   },
   "outputs": [],
   "source": []
  }
 ],
 "metadata": {
  "kernelspec": {
   "display_name": "Python 3",
   "language": "python",
   "name": "python3"
  },
  "language_info": {
   "codemirror_mode": {
    "name": "ipython",
    "version": 3
   },
   "file_extension": ".py",
   "mimetype": "text/x-python",
   "name": "python",
   "nbconvert_exporter": "python",
   "pygments_lexer": "ipython3",
   "version": "3.6.0"
  }
 },
 "nbformat": 4,
 "nbformat_minor": 1
}
