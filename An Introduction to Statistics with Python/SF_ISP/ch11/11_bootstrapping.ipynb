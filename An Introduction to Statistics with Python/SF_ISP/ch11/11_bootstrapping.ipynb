{
 "cells": [
  {
   "cell_type": "markdown",
   "metadata": {},
   "source": [
    "# Bootstrapping"
   ]
  },
  {
   "cell_type": "markdown",
   "metadata": {},
   "source": [
    "Example of bootstrapping the confidence interval for the mean of a sample distribution\n",
    "Since no bootstrapping is implemented in Python, this function requires\n",
    "\"bootstrap.py\", which is included.\n",
    "\n",
    "Note: The original scikits-bootstrapping module, which works only under\n",
    "Python 2, is available from http://github.org/cgevans/scikits-bootstrap\n",
    "   \n",
    "Author:  Thomas Haslwanter, Date:    July-2015"
   ]
  },
  {
   "cell_type": "code",
   "execution_count": 1,
   "metadata": {
    "collapsed": false
   },
   "outputs": [],
   "source": [
    "%matplotlib inline\n",
    "import scipy as sp\n",
    "import matplotlib.pyplot as plt\n",
    "from scipy import stats\n",
    "import scikits.bootstrap as bootstrap"
   ]
  },
  {
   "cell_type": "code",
   "execution_count": 2,
   "metadata": {
    "collapsed": false
   },
   "outputs": [
    {
     "data": {
      "text/plain": [
       "<matplotlib.text.Text at 0x89d31d0>"
      ]
     },
     "execution_count": 2,
     "metadata": {},
     "output_type": "execute_result"
    },
    {
     "data": {
      "image/png": "[encoded data removed]",
      "text/plain": [
       "<matplotlib.figure.Figure at 0x8991590>"
      ]
     },
     "metadata": {},
     "output_type": "display_data"
    }
   ],
   "source": [
    "# Generate a non-normally distributed datasample\n",
    "data = stats.poisson.rvs(2, size=1000)\n",
    "\n",
    "# Show the data\n",
    "plt.plot(data, '.')\n",
    "plt.title('Non-normally distributed dataset: Press any key to continue')\n"
   ]
  },
  {
   "cell_type": "code",
   "execution_count": 3,
   "metadata": {
    "collapsed": false
   },
   "outputs": [
    {
     "name": "stdout",
     "output_type": "stream",
     "text": [
      "The conficence intervals for the mean are: 1.894 - 2.067\n"
     ]
    }
   ],
   "source": [
    "# Calculate the bootstrap\n",
    "CIs = bootstrap.ci(data=data, statfunction=sp.mean)\n",
    "\n",
    "# Print the data: the \"*\" turns the array CIs into a list\n",
    "print('The conficence intervals for the mean are: {0} - {1}'.format(*CIs))"
   ]
  }
 ],
 "metadata": {
  "kernelspec": {
   "display_name": "Python 3",
   "language": "python",
   "name": "python3"
  },
  "language_info": {
   "codemirror_mode": {
    "name": "ipython",
    "version": 3
   },
   "file_extension": ".py",
   "mimetype": "text/x-python",
   "name": "python",
   "nbconvert_exporter": "python",
   "pygments_lexer": "ipython3",
   "version": "3.4.3"
  }
 },
 "nbformat": 4,
 "nbformat_minor": 0
}
