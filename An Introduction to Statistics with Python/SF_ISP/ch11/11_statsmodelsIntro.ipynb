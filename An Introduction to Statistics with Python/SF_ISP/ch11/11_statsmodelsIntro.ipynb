{
 "cells": [
  {
   "cell_type": "markdown",
   "metadata": {},
   "source": [
    "# Introductions into using \"statsmodels\" and \"Pandas\""
   ]
  },
  {
   "cell_type": "markdown",
   "metadata": {},
   "source": [
    "*pandas* has quickly become almost a standard for working with structured data in Python. It often makes code much clearer to\n",
    "read, and it also offers powerful tools for simple import and export of data.\n",
    "\n",
    "*statsmodels* is an advanced package for statistical modeling with Python. Here we will only touch the surface of its extensive functionality. A more extensive introduction is available under\n",
    "http://nbviewer.ipython.org/gist/vincentarelbundock/3485014\n",
    "\n",
    "Author : Thomas Haslwanter, Oct-2015"
   ]
  },
  {
   "cell_type": "code",
   "execution_count": 1,
   "metadata": {
    "collapsed": false
   },
   "outputs": [],
   "source": [
    "# Here I import numpy explicitly, so as to make clear where each function comes from\n",
    "import numpy as np\n",
    "import pandas as pd\n",
    "from scipy import stats\n",
    "import statsmodels.formula.api as sm\n",
    "import sys\n",
    "\n",
    "# \"urlopen\" is in a different locations in Python2 and Python3\n",
    "if sys.version_info[0] == 3:\n",
    "    from urllib.request import urlopen\n",
    "else:\n",
    "    from urllib import urlopen\n",
    "    \n",
    "# Show plots inline\n",
    "%matplotlib inline"
   ]
  },
  {
   "cell_type": "markdown",
   "metadata": {},
   "source": [
    "## Example: Linear regression fit"
   ]
  },
  {
   "cell_type": "code",
   "execution_count": 2,
   "metadata": {
    "collapsed": false
   },
   "outputs": [
    {
     "name": "stdout",
     "output_type": "stream",
     "text": [
      "                            OLS Regression Results                            \n",
      "==============================================================================\n",
      "Dep. Variable:                      y   R-squared:                       0.995\n",
      "Model:                            OLS   Adj. R-squared:                  0.995\n",
      "Method:                 Least Squares   F-statistic:                 1.819e+04\n",
      "Date:                Sun, 01 Nov 2015   Prob (F-statistic):          4.31e-113\n",
      "Time:                        18:44:13   Log-Likelihood:                -147.60\n",
      "No. Observations:                 100   AIC:                             299.2\n",
      "Df Residuals:                      98   BIC:                             304.4\n",
      "Df Model:                           1                                         \n",
      "Covariance Type:            nonrobust                                         \n",
      "==============================================================================\n",
      "                 coef    std err          t      P>|t|      [95.0% Conf. Int.]\n",
      "------------------------------------------------------------------------------\n",
      "Intercept    -19.9742      0.212    -94.083      0.000       -20.396   -19.553\n",
      "x              0.4996      0.004    134.857      0.000         0.492     0.507\n",
      "==============================================================================\n",
      "Omnibus:                        1.158   Durbin-Watson:                   2.037\n",
      "Prob(Omnibus):                  0.560   Jarque-Bera (JB):                1.038\n",
      "Skew:                          -0.030   Prob(JB):                        0.595\n",
      "Kurtosis:                       2.504   Cond. No.                         114.\n",
      "==============================================================================\n",
      "\n",
      "Warnings:\n",
      "[1] Standard Errors assume that the covariance matrix of the errors is correctly specified.\n"
     ]
    }
   ],
   "source": [
    "# To get reproducable values, I provide a seed value\n",
    "np.random.seed(987654321)   \n",
    "\n",
    "# Generate a noisy line\n",
    "x = np.arange(100)\n",
    "y = 0.5*x - 20 + np.random.randn(len(x))\n",
    "df = pd.DataFrame({'x':x, 'y':y})\n",
    "\n",
    "# Fit a linear model ...\n",
    "# Note the formula language used to denote the relationship between \"x\" and \"y\"\n",
    "model = sm.ols('y~x', data=df).fit()\n",
    "\n",
    "# ... and print an extensive summary of the fit results and model properties\n",
    "print((model.summary()))"
   ]
  },
  {
   "cell_type": "markdown",
   "metadata": {},
   "source": [
    "## Example from Altman \"Practical statistics for medical research"
   ]
  },
  {
   "cell_type": "markdown",
   "metadata": {},
   "source": [
    "Here I just show how to bring data into the *pandas* format, and how to use its object oriented notation:"
   ]
  },
  {
   "cell_type": "code",
   "execution_count": 5,
   "metadata": {
    "collapsed": false
   },
   "outputs": [],
   "source": [
    "# Get the data from the web\n",
    "inFile = 'altman_94.txt'\n",
    "url_base = 'https://raw.githubusercontent.com/thomas-haslwanter/statsintro_python/master/ipynb/Data/data_altman/'\n",
    "url = url_base + inFile\n",
    "data = np.genfromtxt(urlopen(url), delimiter=',')"
   ]
  },
  {
   "cell_type": "code",
   "execution_count": 6,
   "metadata": {
    "collapsed": false
   },
   "outputs": [],
   "source": [
    "# Bring them into pandas format\n",
    "lean = pd.Series(data[data[:,1]==1,0])\n",
    "obese = pd.Series(data[data[:,1]==0,0])\n",
    "\n",
    "df = pd.DataFrame({'lean':lean, 'obese':obese})\n",
    "\n"
   ]
  },
  {
   "cell_type": "code",
   "execution_count": 7,
   "metadata": {
    "collapsed": false
   },
   "outputs": [
    {
     "name": "stdout",
     "output_type": "stream",
     "text": [
      "lean      8.066154\n",
      "obese    10.297778\n",
      "dtype: float64\n",
      "There is a significant difference: p = 0.0007989982111700593\n"
     ]
    },
    {
     "data": {
      "image/png": "[encoded data removed]",
      "text/plain": [
       "<matplotlib.figure.Figure at 0x83604d0>"
      ]
     },
     "metadata": {},
     "output_type": "display_data"
    }
   ],
   "source": [
    "# Calculate the mean, ...\n",
    "print(df.mean())\n",
    "\n",
    "# ..., show a boxplot, ...\n",
    "# Note that by using data-frames, the display can get automatically labelled correctly\n",
    "# - also for the next plot\n",
    "df.boxplot(return_type='axes')\n",
    "\n",
    "# ... and find the p-value:\n",
    "t, pVal = stats.ttest_ind(lean, obese)\n",
    "if pVal < 0.05:\n",
    "    print('There is a significant difference: p = {0}'.format(pVal))"
   ]
  }
 ],
 "metadata": {
  "kernelspec": {
   "display_name": "Python 3",
   "language": "python",
   "name": "python3"
  },
  "language_info": {
   "codemirror_mode": {
    "name": "ipython",
    "version": 3
   },
   "file_extension": ".py",
   "mimetype": "text/x-python",
   "name": "python",
   "nbconvert_exporter": "python",
   "pygments_lexer": "ipython3",
   "version": "3.4.3"
  }
 },
 "nbformat": 4,
 "nbformat_minor": 0
}
