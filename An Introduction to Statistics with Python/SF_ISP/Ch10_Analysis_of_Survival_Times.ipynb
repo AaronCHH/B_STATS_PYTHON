{
 "cells": [
  {
   "cell_type": "markdown",
   "metadata": {},
   "source": [
    "# 10 Analysis of Survival Times"
   ]
  },
  {
   "cell_type": "markdown",
   "metadata": {},
   "source": [
    "<div id=\"toc\"></div>"
   ]
  },
  {
   "cell_type": "markdown",
   "metadata": {},
   "source": [
    "## 10.1 Survival Distributions"
   ]
  },
  {
   "cell_type": "code",
   "execution_count": 2,
   "metadata": {
    "collapsed": false
   },
   "outputs": [
    {
     "name": "stdout",
     "output_type": "stream",
     "text": [
      "The fitted Weibull modulus is  1.43, compared to the exact value of 1.5 .\n"
     ]
    }
   ],
   "source": [
    "# %load ch10/L10_1_weibullDemo.py\n",
    "''' Example of fitting the Weibull modulus. '''\n",
    "\n",
    "# author: Thomas Haslwanter, date: Jun-2015\n",
    "\n",
    "# Import standard packages\n",
    "import matplotlib.pyplot as plt\n",
    "import scipy as sp\n",
    "from scipy import stats\n",
    "\n",
    "# Generate some sample data, with a Weibull modulus of 1.5\n",
    "WeibullDist = stats.weibull_min(1.5)\n",
    "data = WeibullDist.rvs(500)\n",
    "\n",
    "# Now fit the parameter\n",
    "fitPars = stats.weibull_min.fit(data)\n",
    "\n",
    "# Note: fitPars contains (WeibullModulus, Location, Scale)\n",
    "print('The fitted Weibull modulus is {0:5.2f}, compared to the exact value of 1.5 .'.format(fitPars[0]))"
   ]
  },
  {
   "cell_type": "markdown",
   "metadata": {},
   "source": [
    "## 10.2 Survival Probabilities"
   ]
  },
  {
   "cell_type": "markdown",
   "metadata": {},
   "source": [
    "### 10.2.1 Censorship"
   ]
  },
  {
   "cell_type": "markdown",
   "metadata": {},
   "source": [
    "### 10.2.2 Kaplan–Meier Survival Curve"
   ]
  },
  {
   "cell_type": "markdown",
   "metadata": {},
   "source": [
    "* https://github.com/thomas-haslwanter/statsintro_python/tree/master/ISP/Code_Quantlets/10_SurvivalAnalysis/lifelinesDemo."
   ]
  },
  {
   "cell_type": "code",
   "execution_count": null,
   "metadata": {
    "collapsed": false
   },
   "outputs": [],
   "source": [
    "# %load ch10/L10_2_lifelinesSurvival.py\n",
    "''' Graphical representation of survival curves, and comparison of two\n",
    "curves with logrank test.\n",
    "\"miR-137\" is a short non-coding RNA molecule that functions to regulate\n",
    "the expression levels of other genes.\n",
    "'''\n",
    "# author: Thomas Haslwanter, date: Jun-2015\n",
    "\n",
    "# Import standard packages\n",
    "import matplotlib.pyplot as plt\n",
    "\n",
    "# additional packages\n",
    "import sys\n",
    "sys.path.append(r'..\\Quantlets\\Utilities')\n",
    "import ISP_mystyle \n",
    "\n",
    "from lifelines.datasets import load_waltons\n",
    "from lifelines import KaplanMeierFitter\n",
    "from lifelines.statistics import logrank_test\n",
    "\n",
    "# Set my favorite font\n",
    "ISP_mystyle.setFonts(18)\n",
    "\n",
    "# Load and show the data\n",
    "df = load_waltons() # returns a Pandas DataFrame\n",
    "\n",
    "print(df.head())\n",
    "'''\n",
    "    T  E    group\n",
    "0   6  1  miR-137\n",
    "1  13  1  miR-137\n",
    "2  13  1  miR-137\n",
    "3  13  1  miR-137\n",
    "4  19  1  miR-137\n",
    "'''\n",
    "\n",
    "T = df['T']\n",
    "E = df['E']\n",
    "\n",
    "groups = df['group']\n",
    "ix = (groups == 'miR-137')\n",
    "\n",
    "kmf = KaplanMeierFitter()\n",
    "\n",
    "kmf.fit(T[~ix], E[~ix], label='control')\n",
    "ax = kmf.plot()\n",
    "\n",
    "kmf.fit(T[ix], E[ix], label='miR-137')\n",
    "kmf.plot(ax=ax)\n",
    "\n",
    "plt.ylabel('Survival Probability')\n",
    "outFile = 'lifelines_survival.png'\n",
    "ISP_mystyle.showData(outFile)\n",
    "\n",
    "# Compare the two curves\n",
    "results = logrank_test(T[ix], T[~ix], event_observed_A=E[ix], event_observed_B=E[~ix])\n",
    "results.print_summary()\n"
   ]
  },
  {
   "cell_type": "markdown",
   "metadata": {},
   "source": [
    "## 10.3 Comparing Survival Curves in Two Groups"
   ]
  },
  {
   "cell_type": "code",
   "execution_count": null,
   "metadata": {
    "collapsed": true
   },
   "outputs": [],
   "source": []
  }
 ],
 "metadata": {
  "kernelspec": {
   "display_name": "Python 3",
   "language": "python",
   "name": "python3"
  },
  "language_info": {
   "codemirror_mode": {
    "name": "ipython",
    "version": 3
   },
   "file_extension": ".py",
   "mimetype": "text/x-python",
   "name": "python",
   "nbconvert_exporter": "python",
   "pygments_lexer": "ipython3",
   "version": "3.6.0"
  }
 },
 "nbformat": 4,
 "nbformat_minor": 1
}
