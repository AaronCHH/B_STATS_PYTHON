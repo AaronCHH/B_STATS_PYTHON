{
 "cells": [
  {
   "cell_type": "markdown",
   "metadata": {},
   "source": [
    "## 2.1.7 First Python Programs"
   ]
  },
  {
   "cell_type": "code",
   "execution_count": 7,
   "metadata": {
    "collapsed": true
   },
   "outputs": [],
   "source": [
    "%matplotlib inline"
   ]
  },
  {
   "cell_type": "code",
   "execution_count": null,
   "metadata": {
    "collapsed": true
   },
   "outputs": [],
   "source": [
    "# %load squareMe.py\n",
    "# This file shows the square of the numbers from 0 to 5.\n",
    "\n",
    "def squared(x):\n",
    "    return x**2\n",
    "\n",
    "for ii in range(6):\n",
    "    print(ii, squared(ii))\n",
    "\n",
    "print('Done')\n"
   ]
  },
  {
   "cell_type": "code",
   "execution_count": 2,
   "metadata": {
    "collapsed": false
   },
   "outputs": [
    {
     "name": "stdout",
     "output_type": "stream",
     "text": [
      "(0, 0)\n",
      "(1, 1)\n",
      "(2, 4)\n",
      "(3, 9)\n",
      "(4, 16)\n",
      "(5, 25)\n",
      "Done\n"
     ]
    }
   ],
   "source": [
    "%run squareMe.py"
   ]
  },
  {
   "cell_type": "markdown",
   "metadata": {},
   "source": [
    "## 2.2 Python Data Structures"
   ]
  },
  {
   "cell_type": "markdown",
   "metadata": {},
   "source": [
    "* Tuple ( )"
   ]
  },
  {
   "cell_type": "code",
   "execution_count": 3,
   "metadata": {
    "collapsed": false
   },
   "outputs": [
    {
     "data": {
      "text/plain": [
       "2.5"
      ]
     },
     "execution_count": 3,
     "metadata": {},
     "output_type": "execute_result"
    }
   ],
   "source": [
    "import numpy as np\n",
    "myTuple = ('abc', np.arange(0,3,0.2), 2.5)\n",
    "myTuple[2]"
   ]
  },
  {
   "cell_type": "markdown",
   "metadata": {},
   "source": [
    "## 2.4 Developing Python Programs\n",
    "### 2.4.1 Converting Interactive Commands into a Python Program"
   ]
  },
  {
   "cell_type": "code",
   "execution_count": 9,
   "metadata": {
    "collapsed": false
   },
   "outputs": [
    {
     "data": {
      "image/png": "[encoded data removed]",
      "text/plain": [
       "<matplotlib.figure.Figure at 0x70ed898>"
      ]
     },
     "metadata": {},
     "output_type": "display_data"
    }
   ],
   "source": [
    "# %load L2_4_pythonScript.py\n",
    "'''\n",
    "Short demonstration of a Python script.\n",
    "\n",
    "author: Thomas Haslwanter\n",
    "date:   May-2015\n",
    "ver:    1.0\n",
    "'''\n",
    "\n",
    "# Import standard packages\n",
    "import numpy as np\n",
    "import matplotlib.pyplot as plt\n",
    "\n",
    "# Generate the time-values\n",
    "t = np.r_[0:10:0.1]\n",
    "\n",
    "# Set the frequency, and calculate the sine-value\n",
    "freq = 0.5\n",
    "x = np.sin(2*np.pi*freq*t)\n",
    "\n",
    "# Plot the data\n",
    "plt.plot(t,x)\n",
    "\n",
    "# Format the plot\n",
    "plt.xlabel('Time[sec]')\n",
    "plt.ylabel('Values')\n",
    "\n",
    "# Generate a figure, one directory up\n",
    "plt.savefig(r'Sinewave.png', dpi=200)\n",
    "\n",
    "# Put it on the screen\n",
    "plt.show()\n"
   ]
  },
  {
   "cell_type": "markdown",
   "metadata": {},
   "source": [
    "## 2.4.2 Functions, Modules, and Packages"
   ]
  },
  {
   "cell_type": "code",
   "execution_count": null,
   "metadata": {
    "collapsed": true
   },
   "outputs": [],
   "source": [
    "# %load L2_4_pythonFunction.py\n",
    "'''Demonstration of a Python Function\n",
    "\n",
    "author: thomas haslwanter, date: May-2015\n",
    "'''\n",
    "\n",
    "# Import standard packages\n",
    "import numpy as np\n",
    "\n",
    "def incomeAndExpenses(data):\n",
    "    '''Find the sum of the positive numbers, and the sum of the negative ones.'''\n",
    "    income = np.sum(data[data>0])\n",
    "    expenses = np.sum(data[data<0])\n",
    "    \n",
    "    return (income, expenses)\n",
    "\n",
    "if __name__=='__main__':\n",
    "    testData = np.array([-5, 12, 3, -6, -4, 8])\n",
    "    \n",
    "    # If only real banks would be so nice ;)\n",
    "    if testData[0] < 0:\n",
    "        print('Your first transaction was a loss, and will be dropped.')\n",
    "        testData = np.delete(testData, 0)\n",
    "    else:\n",
    "        print('Congratulations: Your first transaction was a gain!')\n",
    "        \n",
    "    (myIncome, myExpenses) = incomeAndExpenses(testData)\n",
    "    print('You have earned {0:5.2f} EUR, and spent {1:5.2f} EUR.'.format(myIncome, -myExpenses))\n",
    "\n"
   ]
  },
  {
   "cell_type": "code",
   "execution_count": 14,
   "metadata": {
    "collapsed": false
   },
   "outputs": [
    {
     "name": "stdout",
     "output_type": "stream",
     "text": [
      "Your first transaction was a loss, and will be dropped.\n",
      "You have earned 23.00 EUR, and spent 10.00 EUR.\n"
     ]
    }
   ],
   "source": [
    "%run L2_4_pythonFunction"
   ]
  },
  {
   "cell_type": "code",
   "execution_count": null,
   "metadata": {
    "collapsed": true
   },
   "outputs": [],
   "source": [
    "# %load L2_4_pythonImport.py\n",
    "'''Demonstration of importing a Python module\n",
    "\n",
    "author: ThH, date: May-2015'''\n",
    "\n",
    "# Import standard packages\n",
    "import numpy as np\n",
    "\n",
    "# additional packages: this imports the function defined above\n",
    "import L2_4_pythonFunction\n",
    "\n",
    "# Generate test-data\n",
    "testData = np.arange(-5, 10)\n",
    "\n",
    "# Use a function from the imported module\n",
    "out = L2_4_pythonFunction.incomeAndExpenses(testData)\n",
    "\n",
    "# Show some results\n",
    "print('You have earned {0:5.2f} EUR, and spent {1:5.2f} EUR.'.format(out[0], -out[1]))\n"
   ]
  },
  {
   "cell_type": "code",
   "execution_count": 19,
   "metadata": {
    "collapsed": false
   },
   "outputs": [
    {
     "name": "stdout",
     "output_type": "stream",
     "text": [
      "You have earned 45.00 EUR, and spent 15.00 EUR.\n"
     ]
    }
   ],
   "source": [
    "%run L2_4_pythonImport.py"
   ]
  },
  {
   "cell_type": "markdown",
   "metadata": {},
   "source": [
    "## 2.5 Pandas: Data Structures for Statistics\n",
    "### 2.5.1 Data Handling"
   ]
  },
  {
   "cell_type": "code",
   "execution_count": 21,
   "metadata": {
    "collapsed": true
   },
   "outputs": [],
   "source": [
    "import numpy as np\n",
    "import pandas as pd\n",
    "t = np.arange(0,10,0.1)\n",
    "x = np.sin(t)\n",
    "y = np.cos(t)\n",
    "df = pd.DataFrame({'Time':t, 'x':x, 'y':y})"
   ]
  },
  {
   "cell_type": "code",
   "execution_count": 22,
   "metadata": {
    "collapsed": true
   },
   "outputs": [
    {
     "data": {
      "text/plain": [
       "0     0.0\n",
       "1     0.1\n",
       "2     0.2\n",
       "3     0.3\n",
       "4     0.4\n",
       "5     0.5\n",
       "6     0.6\n",
       "7     0.7\n",
       "8     0.8\n",
       "9     0.9\n",
       "10    1.0\n",
       "11    1.1\n",
       "12    1.2\n",
       "13    1.3\n",
       "14    1.4\n",
       "15    1.5\n",
       "16    1.6\n",
       "17    1.7\n",
       "18    1.8\n",
       "19    1.9\n",
       "20    2.0\n",
       "21    2.1\n",
       "22    2.2\n",
       "23    2.3\n",
       "24    2.4\n",
       "25    2.5\n",
       "26    2.6\n",
       "27    2.7\n",
       "28    2.8\n",
       "29    2.9\n",
       "     ... \n",
       "70    7.0\n",
       "71    7.1\n",
       "72    7.2\n",
       "73    7.3\n",
       "74    7.4\n",
       "75    7.5\n",
       "76    7.6\n",
       "77    7.7\n",
       "78    7.8\n",
       "79    7.9\n",
       "80    8.0\n",
       "81    8.1\n",
       "82    8.2\n",
       "83    8.3\n",
       "84    8.4\n",
       "85    8.5\n",
       "86    8.6\n",
       "87    8.7\n",
       "88    8.8\n",
       "89    8.9\n",
       "90    9.0\n",
       "91    9.1\n",
       "92    9.2\n",
       "93    9.3\n",
       "94    9.4\n",
       "95    9.5\n",
       "96    9.6\n",
       "97    9.7\n",
       "98    9.8\n",
       "99    9.9\n",
       "Name: Time, dtype: float64"
      ]
     },
     "execution_count": 22,
     "metadata": {},
     "output_type": "execute_result"
    }
   ],
   "source": [
    "df.Time"
   ]
  },
  {
   "cell_type": "code",
   "execution_count": 23,
   "metadata": {
    "collapsed": true
   },
   "outputs": [
    {
     "data": {
      "text/plain": [
       "0     0.0\n",
       "1     0.1\n",
       "2     0.2\n",
       "3     0.3\n",
       "4     0.4\n",
       "5     0.5\n",
       "6     0.6\n",
       "7     0.7\n",
       "8     0.8\n",
       "9     0.9\n",
       "10    1.0\n",
       "11    1.1\n",
       "12    1.2\n",
       "13    1.3\n",
       "14    1.4\n",
       "15    1.5\n",
       "16    1.6\n",
       "17    1.7\n",
       "18    1.8\n",
       "19    1.9\n",
       "20    2.0\n",
       "21    2.1\n",
       "22    2.2\n",
       "23    2.3\n",
       "24    2.4\n",
       "25    2.5\n",
       "26    2.6\n",
       "27    2.7\n",
       "28    2.8\n",
       "29    2.9\n",
       "     ... \n",
       "70    7.0\n",
       "71    7.1\n",
       "72    7.2\n",
       "73    7.3\n",
       "74    7.4\n",
       "75    7.5\n",
       "76    7.6\n",
       "77    7.7\n",
       "78    7.8\n",
       "79    7.9\n",
       "80    8.0\n",
       "81    8.1\n",
       "82    8.2\n",
       "83    8.3\n",
       "84    8.4\n",
       "85    8.5\n",
       "86    8.6\n",
       "87    8.7\n",
       "88    8.8\n",
       "89    8.9\n",
       "90    9.0\n",
       "91    9.1\n",
       "92    9.2\n",
       "93    9.3\n",
       "94    9.4\n",
       "95    9.5\n",
       "96    9.6\n",
       "97    9.7\n",
       "98    9.8\n",
       "99    9.9\n",
       "Name: Time, dtype: float64"
      ]
     },
     "execution_count": 23,
     "metadata": {},
     "output_type": "execute_result"
    }
   ],
   "source": [
    "df['Time']"
   ]
  },
  {
   "cell_type": "code",
   "execution_count": 24,
   "metadata": {
    "collapsed": true
   },
   "outputs": [],
   "source": [
    "data = df[['Time', 'y']]"
   ]
  },
  {
   "cell_type": "code",
   "execution_count": 25,
   "metadata": {
    "collapsed": false
   },
   "outputs": [
    {
     "data": {
      "text/html": [
       "<div>\n",
       "<table border=\"1\" class=\"dataframe\">\n",
       "  <thead>\n",
       "    <tr style=\"text-align: right;\">\n",
       "      <th></th>\n",
       "      <th>Time</th>\n",
       "      <th>y</th>\n",
       "    </tr>\n",
       "  </thead>\n",
       "  <tbody>\n",
       "    <tr>\n",
       "      <th>0</th>\n",
       "      <td>0.0</td>\n",
       "      <td>1.000000</td>\n",
       "    </tr>\n",
       "    <tr>\n",
       "      <th>1</th>\n",
       "      <td>0.1</td>\n",
       "      <td>0.995004</td>\n",
       "    </tr>\n",
       "    <tr>\n",
       "      <th>2</th>\n",
       "      <td>0.2</td>\n",
       "      <td>0.980067</td>\n",
       "    </tr>\n",
       "    <tr>\n",
       "      <th>3</th>\n",
       "      <td>0.3</td>\n",
       "      <td>0.955336</td>\n",
       "    </tr>\n",
       "    <tr>\n",
       "      <th>4</th>\n",
       "      <td>0.4</td>\n",
       "      <td>0.921061</td>\n",
       "    </tr>\n",
       "  </tbody>\n",
       "</table>\n",
       "</div>"
      ],
      "text/plain": [
       "   Time         y\n",
       "0   0.0  1.000000\n",
       "1   0.1  0.995004\n",
       "2   0.2  0.980067\n",
       "3   0.3  0.955336\n",
       "4   0.4  0.921061"
      ]
     },
     "execution_count": 25,
     "metadata": {},
     "output_type": "execute_result"
    }
   ],
   "source": [
    "data.head()"
   ]
  },
  {
   "cell_type": "code",
   "execution_count": 26,
   "metadata": {
    "collapsed": false
   },
   "outputs": [
    {
     "data": {
      "text/html": [
       "<div>\n",
       "<table border=\"1\" class=\"dataframe\">\n",
       "  <thead>\n",
       "    <tr style=\"text-align: right;\">\n",
       "      <th></th>\n",
       "      <th>Time</th>\n",
       "      <th>y</th>\n",
       "    </tr>\n",
       "  </thead>\n",
       "  <tbody>\n",
       "    <tr>\n",
       "      <th>95</th>\n",
       "      <td>9.5</td>\n",
       "      <td>-0.997172</td>\n",
       "    </tr>\n",
       "    <tr>\n",
       "      <th>96</th>\n",
       "      <td>9.6</td>\n",
       "      <td>-0.984688</td>\n",
       "    </tr>\n",
       "    <tr>\n",
       "      <th>97</th>\n",
       "      <td>9.7</td>\n",
       "      <td>-0.962365</td>\n",
       "    </tr>\n",
       "    <tr>\n",
       "      <th>98</th>\n",
       "      <td>9.8</td>\n",
       "      <td>-0.930426</td>\n",
       "    </tr>\n",
       "    <tr>\n",
       "      <th>99</th>\n",
       "      <td>9.9</td>\n",
       "      <td>-0.889191</td>\n",
       "    </tr>\n",
       "  </tbody>\n",
       "</table>\n",
       "</div>"
      ],
      "text/plain": [
       "    Time         y\n",
       "95   9.5 -0.997172\n",
       "96   9.6 -0.984688\n",
       "97   9.7 -0.962365\n",
       "98   9.8 -0.930426\n",
       "99   9.9 -0.889191"
      ]
     },
     "execution_count": 26,
     "metadata": {},
     "output_type": "execute_result"
    }
   ],
   "source": [
    "data.tail()"
   ]
  },
  {
   "cell_type": "code",
   "execution_count": 27,
   "metadata": {
    "collapsed": false
   },
   "outputs": [
    {
     "data": {
      "text/html": [
       "<div>\n",
       "<table border=\"1\" class=\"dataframe\">\n",
       "  <thead>\n",
       "    <tr style=\"text-align: right;\">\n",
       "      <th></th>\n",
       "      <th>Time</th>\n",
       "      <th>y</th>\n",
       "    </tr>\n",
       "  </thead>\n",
       "  <tbody>\n",
       "    <tr>\n",
       "      <th>4</th>\n",
       "      <td>0.4</td>\n",
       "      <td>0.921061</td>\n",
       "    </tr>\n",
       "    <tr>\n",
       "      <th>5</th>\n",
       "      <td>0.5</td>\n",
       "      <td>0.877583</td>\n",
       "    </tr>\n",
       "    <tr>\n",
       "      <th>6</th>\n",
       "      <td>0.6</td>\n",
       "      <td>0.825336</td>\n",
       "    </tr>\n",
       "    <tr>\n",
       "      <th>7</th>\n",
       "      <td>0.7</td>\n",
       "      <td>0.764842</td>\n",
       "    </tr>\n",
       "    <tr>\n",
       "      <th>8</th>\n",
       "      <td>0.8</td>\n",
       "      <td>0.696707</td>\n",
       "    </tr>\n",
       "    <tr>\n",
       "      <th>9</th>\n",
       "      <td>0.9</td>\n",
       "      <td>0.621610</td>\n",
       "    </tr>\n",
       "  </tbody>\n",
       "</table>\n",
       "</div>"
      ],
      "text/plain": [
       "   Time         y\n",
       "4   0.4  0.921061\n",
       "5   0.5  0.877583\n",
       "6   0.6  0.825336\n",
       "7   0.7  0.764842\n",
       "8   0.8  0.696707\n",
       "9   0.9  0.621610"
      ]
     },
     "execution_count": 27,
     "metadata": {},
     "output_type": "execute_result"
    }
   ],
   "source": [
    "data[4:10]"
   ]
  },
  {
   "cell_type": "code",
   "execution_count": 28,
   "metadata": {
    "collapsed": false
   },
   "outputs": [
    {
     "data": {
      "text/html": [
       "<div>\n",
       "<table border=\"1\" class=\"dataframe\">\n",
       "  <thead>\n",
       "    <tr style=\"text-align: right;\">\n",
       "      <th></th>\n",
       "      <th>Time</th>\n",
       "      <th>y</th>\n",
       "    </tr>\n",
       "  </thead>\n",
       "  <tbody>\n",
       "    <tr>\n",
       "      <th>4</th>\n",
       "      <td>0.4</td>\n",
       "      <td>0.921061</td>\n",
       "    </tr>\n",
       "    <tr>\n",
       "      <th>5</th>\n",
       "      <td>0.5</td>\n",
       "      <td>0.877583</td>\n",
       "    </tr>\n",
       "    <tr>\n",
       "      <th>6</th>\n",
       "      <td>0.6</td>\n",
       "      <td>0.825336</td>\n",
       "    </tr>\n",
       "    <tr>\n",
       "      <th>7</th>\n",
       "      <td>0.7</td>\n",
       "      <td>0.764842</td>\n",
       "    </tr>\n",
       "    <tr>\n",
       "      <th>8</th>\n",
       "      <td>0.8</td>\n",
       "      <td>0.696707</td>\n",
       "    </tr>\n",
       "    <tr>\n",
       "      <th>9</th>\n",
       "      <td>0.9</td>\n",
       "      <td>0.621610</td>\n",
       "    </tr>\n",
       "  </tbody>\n",
       "</table>\n",
       "</div>"
      ],
      "text/plain": [
       "   Time         y\n",
       "4   0.4  0.921061\n",
       "5   0.5  0.877583\n",
       "6   0.6  0.825336\n",
       "7   0.7  0.764842\n",
       "8   0.8  0.696707\n",
       "9   0.9  0.621610"
      ]
     },
     "execution_count": 28,
     "metadata": {},
     "output_type": "execute_result"
    }
   ],
   "source": [
    "df[['Time', 'y']][4:10]"
   ]
  },
  {
   "cell_type": "code",
   "execution_count": 29,
   "metadata": {
    "collapsed": false
   },
   "outputs": [
    {
     "data": {
      "text/html": [
       "<div>\n",
       "<table border=\"1\" class=\"dataframe\">\n",
       "  <thead>\n",
       "    <tr style=\"text-align: right;\">\n",
       "      <th></th>\n",
       "      <th>Time</th>\n",
       "      <th>y</th>\n",
       "    </tr>\n",
       "  </thead>\n",
       "  <tbody>\n",
       "    <tr>\n",
       "      <th>4</th>\n",
       "      <td>0.4</td>\n",
       "      <td>0.921061</td>\n",
       "    </tr>\n",
       "    <tr>\n",
       "      <th>5</th>\n",
       "      <td>0.5</td>\n",
       "      <td>0.877583</td>\n",
       "    </tr>\n",
       "    <tr>\n",
       "      <th>6</th>\n",
       "      <td>0.6</td>\n",
       "      <td>0.825336</td>\n",
       "    </tr>\n",
       "    <tr>\n",
       "      <th>7</th>\n",
       "      <td>0.7</td>\n",
       "      <td>0.764842</td>\n",
       "    </tr>\n",
       "    <tr>\n",
       "      <th>8</th>\n",
       "      <td>0.8</td>\n",
       "      <td>0.696707</td>\n",
       "    </tr>\n",
       "    <tr>\n",
       "      <th>9</th>\n",
       "      <td>0.9</td>\n",
       "      <td>0.621610</td>\n",
       "    </tr>\n",
       "  </tbody>\n",
       "</table>\n",
       "</div>"
      ],
      "text/plain": [
       "   Time         y\n",
       "4   0.4  0.921061\n",
       "5   0.5  0.877583\n",
       "6   0.6  0.825336\n",
       "7   0.7  0.764842\n",
       "8   0.8  0.696707\n",
       "9   0.9  0.621610"
      ]
     },
     "execution_count": 29,
     "metadata": {},
     "output_type": "execute_result"
    }
   ],
   "source": [
    "df.iloc[4:10, [0,2]]"
   ]
  },
  {
   "cell_type": "code",
   "execution_count": 30,
   "metadata": {
    "collapsed": true
   },
   "outputs": [
    {
     "data": {
      "text/plain": [
       "array([[ 0.        ,  1.        ],\n",
       "       [ 0.1       ,  0.99500417],\n",
       "       [ 0.2       ,  0.98006658],\n",
       "       [ 0.3       ,  0.95533649],\n",
       "       [ 0.4       ,  0.92106099],\n",
       "       [ 0.5       ,  0.87758256],\n",
       "       [ 0.6       ,  0.82533561],\n",
       "       [ 0.7       ,  0.76484219],\n",
       "       [ 0.8       ,  0.69670671],\n",
       "       [ 0.9       ,  0.62160997],\n",
       "       [ 1.        ,  0.54030231],\n",
       "       [ 1.1       ,  0.45359612],\n",
       "       [ 1.2       ,  0.36235775],\n",
       "       [ 1.3       ,  0.26749883],\n",
       "       [ 1.4       ,  0.16996714],\n",
       "       [ 1.5       ,  0.0707372 ],\n",
       "       [ 1.6       , -0.02919952],\n",
       "       [ 1.7       , -0.12884449],\n",
       "       [ 1.8       , -0.22720209],\n",
       "       [ 1.9       , -0.32328957],\n",
       "       [ 2.        , -0.41614684],\n",
       "       [ 2.1       , -0.5048461 ],\n",
       "       [ 2.2       , -0.58850112],\n",
       "       [ 2.3       , -0.66627602],\n",
       "       [ 2.4       , -0.73739372],\n",
       "       [ 2.5       , -0.80114362],\n",
       "       [ 2.6       , -0.85688875],\n",
       "       [ 2.7       , -0.90407214],\n",
       "       [ 2.8       , -0.94222234],\n",
       "       [ 2.9       , -0.97095817],\n",
       "       [ 3.        , -0.9899925 ],\n",
       "       [ 3.1       , -0.99913515],\n",
       "       [ 3.2       , -0.99829478],\n",
       "       [ 3.3       , -0.98747977],\n",
       "       [ 3.4       , -0.96679819],\n",
       "       [ 3.5       , -0.93645669],\n",
       "       [ 3.6       , -0.89675842],\n",
       "       [ 3.7       , -0.84810003],\n",
       "       [ 3.8       , -0.79096771],\n",
       "       [ 3.9       , -0.7259323 ],\n",
       "       [ 4.        , -0.65364362],\n",
       "       [ 4.1       , -0.57482395],\n",
       "       [ 4.2       , -0.49026082],\n",
       "       [ 4.3       , -0.40079917],\n",
       "       [ 4.4       , -0.30733287],\n",
       "       [ 4.5       , -0.2107958 ],\n",
       "       [ 4.6       , -0.11215253],\n",
       "       [ 4.7       , -0.01238866],\n",
       "       [ 4.8       ,  0.08749898],\n",
       "       [ 4.9       ,  0.18651237],\n",
       "       [ 5.        ,  0.28366219],\n",
       "       [ 5.1       ,  0.37797774],\n",
       "       [ 5.2       ,  0.46851667],\n",
       "       [ 5.3       ,  0.55437434],\n",
       "       [ 5.4       ,  0.63469288],\n",
       "       [ 5.5       ,  0.70866977],\n",
       "       [ 5.6       ,  0.77556588],\n",
       "       [ 5.7       ,  0.83471278],\n",
       "       [ 5.8       ,  0.88551952],\n",
       "       [ 5.9       ,  0.92747843],\n",
       "       [ 6.        ,  0.96017029],\n",
       "       [ 6.1       ,  0.98326844],\n",
       "       [ 6.2       ,  0.9965421 ],\n",
       "       [ 6.3       ,  0.99985864],\n",
       "       [ 6.4       ,  0.99318492],\n",
       "       [ 6.5       ,  0.97658763],\n",
       "       [ 6.6       ,  0.95023259],\n",
       "       [ 6.7       ,  0.91438315],\n",
       "       [ 6.8       ,  0.86939749],\n",
       "       [ 6.9       ,  0.8157251 ],\n",
       "       [ 7.        ,  0.75390225],\n",
       "       [ 7.1       ,  0.68454667],\n",
       "       [ 7.2       ,  0.60835131],\n",
       "       [ 7.3       ,  0.52607752],\n",
       "       [ 7.4       ,  0.43854733],\n",
       "       [ 7.5       ,  0.34663532],\n",
       "       [ 7.6       ,  0.25125984],\n",
       "       [ 7.7       ,  0.15337386],\n",
       "       [ 7.8       ,  0.05395542],\n",
       "       [ 7.9       , -0.04600213],\n",
       "       [ 8.        , -0.14550003],\n",
       "       [ 8.1       , -0.24354415],\n",
       "       [ 8.2       , -0.33915486],\n",
       "       [ 8.3       , -0.43137684],\n",
       "       [ 8.4       , -0.51928865],\n",
       "       [ 8.5       , -0.6020119 ],\n",
       "       [ 8.6       , -0.67872005],\n",
       "       [ 8.7       , -0.74864665],\n",
       "       [ 8.8       , -0.81109301],\n",
       "       [ 8.9       , -0.86543521],\n",
       "       [ 9.        , -0.91113026],\n",
       "       [ 9.1       , -0.9477216 ],\n",
       "       [ 9.2       , -0.97484362],\n",
       "       [ 9.3       , -0.99222533],\n",
       "       [ 9.4       , -0.99969304],\n",
       "       [ 9.5       , -0.99717216],\n",
       "       [ 9.6       , -0.98468786],\n",
       "       [ 9.7       , -0.96236488],\n",
       "       [ 9.8       , -0.93042627],\n",
       "       [ 9.9       , -0.88919115]])"
      ]
     },
     "execution_count": 30,
     "metadata": {},
     "output_type": "execute_result"
    }
   ],
   "source": [
    "data.values"
   ]
  },
  {
   "cell_type": "code",
   "execution_count": 31,
   "metadata": {
    "collapsed": false
   },
   "outputs": [
    {
     "name": "stdout",
     "output_type": "stream",
     "text": [
      "                    TV\n",
      "Gender                \n",
      "f      count  5.000000\n",
      "       mean   4.080000\n",
      "       std    0.769415\n",
      "       min    3.400000\n",
      "       25%    3.500000\n",
      "       50%    3.700000\n",
      "       75%    4.700000\n",
      "       max    5.100000\n",
      "m      count  6.000000\n",
      "       mean   3.516667\n",
      "       std    0.926103\n",
      "       min    2.100000\n",
      "       25%    2.925000\n",
      "       50%    4.000000\n",
      "       75%    4.100000\n",
      "       max    4.300000\n"
     ]
    },
    {
     "name": "stderr",
     "output_type": "stream",
     "text": [
      "C:\\Anaconda2\\lib\\site-packages\\pandas\\tools\\plotting.py:3079: FutureWarning: \n",
      "The default value for 'return_type' will change to 'axes' in a future release.\n",
      " To use the future behavior now, set return_type='axes'.\n",
      " To keep the previous behavior and silence this warning, set return_type='dict'.\n",
      "  rot=rot, grid=grid, **kwds)\n"
     ]
    },
    {
     "data": {
      "image/png": "[encoded data removed]",
      "text/plain": [
       "<matplotlib.figure.Figure at 0xb399b00>"
      ]
     },
     "metadata": {},
     "output_type": "display_data"
    }
   ],
   "source": [
    "import matplotlib.pyplot as plt\n",
    "data = pd.DataFrame({\n",
    "        'Gender': ['f', 'f', 'm', 'f', 'm',\n",
    "           'm', 'f', 'm', 'f', 'm', 'm'],\n",
    "        'TV': [3.4, 3.5, 2.6, 4.7, 4.1, 4.1,\n",
    "               5.1, 3.9, 3.7, 2.1, 4.3]\n",
    "    })\n",
    "#--------------------------------------------\n",
    "# Group the data\n",
    "grouped = data.groupby('Gender')\n",
    "# Do some overview statistics\n",
    "print(grouped.describe())\n",
    "# Plot the data:\n",
    "grouped.boxplot()\n",
    "plt.show()\n",
    "#--------------------------------------------\n",
    "# Get the groups as DataFrames\n",
    "df_female = grouped.get_group('f')\n",
    "# Get the corresponding numpy-array\n",
    "values_female = grouped.get_group('f').values"
   ]
  },
  {
   "cell_type": "markdown",
   "metadata": {},
   "source": [
    "## 2.6 Statsmodels: Tools for Statistical Modeling"
   ]
  },
  {
   "cell_type": "code",
   "execution_count": 33,
   "metadata": {
    "collapsed": false
   },
   "outputs": [
    {
     "name": "stdout",
     "output_type": "stream",
     "text": [
      "                            OLS Regression Results                            \n",
      "==============================================================================\n",
      "Dep. Variable:                      y   R-squared:                       0.996\n",
      "Model:                            OLS   Adj. R-squared:                  0.996\n",
      "Method:                 Least Squares   F-statistic:                 2.465e+04\n",
      "Date:                Sun, 31 Jul 2016   Prob (F-statistic):          1.55e-119\n",
      "Time:                        21:13:04   Log-Likelihood:                -132.61\n",
      "No. Observations:                 100   AIC:                             269.2\n",
      "Df Residuals:                      98   BIC:                             274.4\n",
      "Df Model:                           1                                         \n",
      "Covariance Type:            nonrobust                                         \n",
      "==============================================================================\n",
      "                 coef    std err          t      P>|t|      [95.0% Conf. Int.]\n",
      "------------------------------------------------------------------------------\n",
      "Intercept    -19.8513      0.183   -108.631      0.000       -20.214   -19.489\n",
      "x              0.5007      0.003    157.013      0.000         0.494     0.507\n",
      "==============================================================================\n",
      "Omnibus:                        2.065   Durbin-Watson:                   1.558\n",
      "Prob(Omnibus):                  0.356   Jarque-Bera (JB):                1.699\n",
      "Skew:                           0.170   Prob(JB):                        0.428\n",
      "Kurtosis:                       2.459   Cond. No.                         114.\n",
      "==============================================================================\n",
      "\n",
      "Warnings:\n",
      "[1] Standard Errors assume that the covariance matrix of the errors is correctly specified.\n"
     ]
    }
   ],
   "source": [
    "import numpy as np\n",
    "import pandas as pd\n",
    "import statsmodels.formula.api as sm\n",
    "# Generate a noisy line, and save the data in a pandas-DataFrame\n",
    "x = np.arange(100)\n",
    "y = 0.5*x - 20 + np.random.randn(len(x))\n",
    "df = pd.DataFrame({'x':x, 'y':y})\n",
    "# Fit a linear model, using the \"formula\" language\n",
    "# added by the package \"patsy\"\n",
    "model = sm.ols('y~x', data=df).fit()\n",
    "print( model.summary() )"
   ]
  },
  {
   "cell_type": "markdown",
   "metadata": {},
   "source": [
    "## 2.7 Seaborn: Data Visualization"
   ]
  },
  {
   "cell_type": "code",
   "execution_count": 35,
   "metadata": {
    "collapsed": false
   },
   "outputs": [
    {
     "data": {
      "image/png": "[encoded data removed]",
      "text/plain": [
       "<matplotlib.figure.Figure at 0xc4c4f28>"
      ]
     },
     "metadata": {},
     "output_type": "display_data"
    }
   ],
   "source": [
    "import numpy as np\n",
    "import matplotlib.pyplot as plt\n",
    "import pandas as pd\n",
    "import seaborn as sns\n",
    "x = np.linspace(1, 7, 50)\n",
    "y = 3 + 2*x + 1.5*np.random.randn(len(x))\n",
    "df = pd.DataFrame({'xData':x, 'yData':y})\n",
    "sns.regplot('xData', 'yData', data=df)\n",
    "plt.show()"
   ]
  },
  {
   "cell_type": "code",
   "execution_count": null,
   "metadata": {
    "collapsed": true
   },
   "outputs": [],
   "source": []
  }
 ],
 "metadata": {
  "kernelspec": {
   "display_name": "Python 2",
   "language": "python",
   "name": "python2"
  },
  "language_info": {
   "codemirror_mode": {
    "name": "ipython",
    "version": 2
   },
   "file_extension": ".py",
   "mimetype": "text/x-python",
   "name": "python",
   "nbconvert_exporter": "python",
   "pygments_lexer": "ipython2",
   "version": "2.7.11"
  }
 },
 "nbformat": 4,
 "nbformat_minor": 0
}
