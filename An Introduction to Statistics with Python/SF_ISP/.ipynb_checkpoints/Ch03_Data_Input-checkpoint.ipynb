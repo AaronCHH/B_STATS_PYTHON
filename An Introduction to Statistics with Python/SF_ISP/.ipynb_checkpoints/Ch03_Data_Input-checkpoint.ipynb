{
 "cells": [
  {
   "cell_type": "markdown",
   "metadata": {},
   "source": [
    "# 3 Data Input"
   ]
  },
  {
   "cell_type": "markdown",
   "metadata": {
    "deletable": true,
    "editable": true
   },
   "source": [
    "<div id=\"toc\"></div>"
   ]
  },
  {
   "cell_type": "markdown",
   "metadata": {},
   "source": [
    "## 3.1 Input from Text Files"
   ]
  },
  {
   "cell_type": "markdown",
   "metadata": {},
   "source": [
    "### 3.1.1 Visual Inspection"
   ]
  },
  {
   "cell_type": "markdown",
   "metadata": {},
   "source": [
    "### 3.1.2 Reading ASCII-Data into Python"
   ]
  },
  {
   "cell_type": "code",
   "execution_count": 4,
   "metadata": {
    "collapsed": false
   },
   "outputs": [],
   "source": [
    "import sys, os\n",
    "import pandas as pd\n",
    "# cd 'C:\\Data\\storage'\n",
    "sys.path.append(\"./Data/storage/\")"
   ]
  },
  {
   "cell_type": "code",
   "execution_count": 5,
   "metadata": {
    "collapsed": false
   },
   "outputs": [
    {
     "data": {
      "text/plain": [
       "'I:\\\\BOOKS\\\\SC_STATS\\\\PYTHON\\\\An Introduction to Statistics with Python\\\\SF_ISP'"
      ]
     },
     "execution_count": 5,
     "metadata": {},
     "output_type": "execute_result"
    }
   ],
   "source": [
    "pwd # Check if you were successful"
   ]
  },
  {
   "cell_type": "code",
   "execution_count": 8,
   "metadata": {
    "collapsed": false
   },
   "outputs": [
    {
     "data": {
      "text/plain": [
       "'data.txt'"
      ]
     },
     "execution_count": 8,
     "metadata": {},
     "output_type": "execute_result"
    }
   ],
   "source": [
    "#ls # List the files in that directory\n",
    "inFile = 'data.txt'"
   ]
  },
  {
   "cell_type": "code",
   "execution_count": 10,
   "metadata": {
    "collapsed": false,
    "scrolled": false
   },
   "outputs": [],
   "source": [
    "df = pd.read_csv('Data/storage/'+inFile)"
   ]
  },
  {
   "cell_type": "code",
   "execution_count": 11,
   "metadata": {
    "collapsed": false
   },
   "outputs": [
    {
     "data": {
      "text/html": [
       "<div>\n",
       "<table border=\"1\" class=\"dataframe\">\n",
       "  <thead>\n",
       "    <tr style=\"text-align: right;\">\n",
       "      <th></th>\n",
       "      <th>1</th>\n",
       "      <th>1.3</th>\n",
       "      <th>0.6</th>\n",
       "    </tr>\n",
       "  </thead>\n",
       "  <tbody>\n",
       "    <tr>\n",
       "      <th>0</th>\n",
       "      <td>2</td>\n",
       "      <td>2.1</td>\n",
       "      <td>0.7</td>\n",
       "    </tr>\n",
       "    <tr>\n",
       "      <th>1</th>\n",
       "      <td>3</td>\n",
       "      <td>4.8</td>\n",
       "      <td>0.8</td>\n",
       "    </tr>\n",
       "    <tr>\n",
       "      <th>2</th>\n",
       "      <td>4</td>\n",
       "      <td>3.3</td>\n",
       "      <td>0.9</td>\n",
       "    </tr>\n",
       "  </tbody>\n",
       "</table>\n",
       "</div>"
      ],
      "text/plain": [
       "   1   1.3   0.6\n",
       "0  2   2.1   0.7\n",
       "1  3   4.8   0.8\n",
       "2  4   3.3   0.9"
      ]
     },
     "execution_count": 11,
     "metadata": {},
     "output_type": "execute_result"
    }
   ],
   "source": [
    "df.head() # Check if first line is ok"
   ]
  },
  {
   "cell_type": "code",
   "execution_count": 12,
   "metadata": {
    "collapsed": false
   },
   "outputs": [
    {
     "data": {
      "text/html": [
       "<div>\n",
       "<table border=\"1\" class=\"dataframe\">\n",
       "  <thead>\n",
       "    <tr style=\"text-align: right;\">\n",
       "      <th></th>\n",
       "      <th>1</th>\n",
       "      <th>1.3</th>\n",
       "      <th>0.6</th>\n",
       "    </tr>\n",
       "  </thead>\n",
       "  <tbody>\n",
       "    <tr>\n",
       "      <th>0</th>\n",
       "      <td>2</td>\n",
       "      <td>2.1</td>\n",
       "      <td>0.7</td>\n",
       "    </tr>\n",
       "    <tr>\n",
       "      <th>1</th>\n",
       "      <td>3</td>\n",
       "      <td>4.8</td>\n",
       "      <td>0.8</td>\n",
       "    </tr>\n",
       "    <tr>\n",
       "      <th>2</th>\n",
       "      <td>4</td>\n",
       "      <td>3.3</td>\n",
       "      <td>0.9</td>\n",
       "    </tr>\n",
       "  </tbody>\n",
       "</table>\n",
       "</div>"
      ],
      "text/plain": [
       "   1   1.3   0.6\n",
       "0  2   2.1   0.7\n",
       "1  3   4.8   0.8\n",
       "2  4   3.3   0.9"
      ]
     },
     "execution_count": 12,
     "metadata": {},
     "output_type": "execute_result"
    }
   ],
   "source": [
    "df.tail() # Check the last line"
   ]
  },
  {
   "cell_type": "markdown",
   "metadata": {},
   "source": [
    "* a) Simple Text-Files"
   ]
  },
  {
   "cell_type": "code",
   "execution_count": 14,
   "metadata": {
    "collapsed": false
   },
   "outputs": [
    {
     "data": {
      "text/plain": [
       "array([[ 1. ,  1.3,  0.6],\n",
       "       [ 2. ,  2.1,  0.7],\n",
       "       [ 3. ,  4.8,  0.8],\n",
       "       [ 4. ,  3.3,  0.9]])"
      ]
     },
     "execution_count": 14,
     "metadata": {},
     "output_type": "execute_result"
    }
   ],
   "source": [
    "import numpy as np\n",
    "data = np.loadtxt('Data/storage/data.txt', delimiter=',')\n",
    "data"
   ]
  },
  {
   "cell_type": "code",
   "execution_count": 15,
   "metadata": {
    "collapsed": false
   },
   "outputs": [
    {
     "data": {
      "text/html": [
       "<div>\n",
       "<table border=\"1\" class=\"dataframe\">\n",
       "  <thead>\n",
       "    <tr style=\"text-align: right;\">\n",
       "      <th></th>\n",
       "      <th>0</th>\n",
       "      <th>1</th>\n",
       "      <th>2</th>\n",
       "    </tr>\n",
       "  </thead>\n",
       "  <tbody>\n",
       "    <tr>\n",
       "      <th>0</th>\n",
       "      <td>1</td>\n",
       "      <td>1.3</td>\n",
       "      <td>0.6</td>\n",
       "    </tr>\n",
       "    <tr>\n",
       "      <th>1</th>\n",
       "      <td>2</td>\n",
       "      <td>2.1</td>\n",
       "      <td>0.7</td>\n",
       "    </tr>\n",
       "    <tr>\n",
       "      <th>2</th>\n",
       "      <td>3</td>\n",
       "      <td>4.8</td>\n",
       "      <td>0.8</td>\n",
       "    </tr>\n",
       "    <tr>\n",
       "      <th>3</th>\n",
       "      <td>4</td>\n",
       "      <td>3.3</td>\n",
       "      <td>0.9</td>\n",
       "    </tr>\n",
       "  </tbody>\n",
       "</table>\n",
       "</div>"
      ],
      "text/plain": [
       "   0    1    2\n",
       "0  1  1.3  0.6\n",
       "1  2  2.1  0.7\n",
       "2  3  4.8  0.8\n",
       "3  4  3.3  0.9"
      ]
     },
     "execution_count": 15,
     "metadata": {},
     "output_type": "execute_result"
    }
   ],
   "source": [
    "df = pd.read_csv('Data/storage/data.txt', header=None)\n",
    "df"
   ]
  },
  {
   "cell_type": "code",
   "execution_count": 16,
   "metadata": {
    "collapsed": false
   },
   "outputs": [
    {
     "data": {
      "text/html": [
       "<div>\n",
       "<table border=\"1\" class=\"dataframe\">\n",
       "  <thead>\n",
       "    <tr style=\"text-align: right;\">\n",
       "      <th></th>\n",
       "      <th>1</th>\n",
       "      <th>1.3</th>\n",
       "      <th>0.6</th>\n",
       "    </tr>\n",
       "  </thead>\n",
       "  <tbody>\n",
       "    <tr>\n",
       "      <th>0</th>\n",
       "      <td>2</td>\n",
       "      <td>2.1</td>\n",
       "      <td>0.7</td>\n",
       "    </tr>\n",
       "    <tr>\n",
       "      <th>1</th>\n",
       "      <td>3</td>\n",
       "      <td>4.8</td>\n",
       "      <td>0.8</td>\n",
       "    </tr>\n",
       "    <tr>\n",
       "      <th>2</th>\n",
       "      <td>4</td>\n",
       "      <td>3.3</td>\n",
       "      <td>0.9</td>\n",
       "    </tr>\n",
       "  </tbody>\n",
       "</table>\n",
       "</div>"
      ],
      "text/plain": [
       "   1   1.3   0.6\n",
       "0  2   2.1   0.7\n",
       "1  3   4.8   0.8\n",
       "2  4   3.3   0.9"
      ]
     },
     "execution_count": 16,
     "metadata": {},
     "output_type": "execute_result"
    }
   ],
   "source": [
    "df = pd.read_csv('Data/storage/data.txt')\n",
    "df"
   ]
  },
  {
   "cell_type": "code",
   "execution_count": null,
   "metadata": {
    "collapsed": true
   },
   "outputs": [],
   "source": []
  },
  {
   "cell_type": "markdown",
   "metadata": {},
   "source": [
    "* b) More Complex Text-Files"
   ]
  },
  {
   "cell_type": "code",
   "execution_count": 21,
   "metadata": {
    "collapsed": false
   },
   "outputs": [
    {
     "name": "stderr",
     "output_type": "stream",
     "text": [
      "C:\\Anaconda36\\lib\\site-packages\\ipykernel\\__main__.py:1: ParserWarning: Falling back to the 'python' engine because the 'c' engine does not support skipfooter; you can avoid this warning by specifying engine='python'.\n",
      "  if __name__ == '__main__':\n"
     ]
    },
    {
     "data": {
      "text/html": [
       "<div>\n",
       "<table border=\"1\" class=\"dataframe\">\n",
       "  <thead>\n",
       "    <tr style=\"text-align: right;\">\n",
       "      <th></th>\n",
       "      <th>ID</th>\n",
       "      <th>Weight</th>\n",
       "      <th>Value</th>\n",
       "    </tr>\n",
       "  </thead>\n",
       "  <tbody>\n",
       "    <tr>\n",
       "      <th>0</th>\n",
       "      <td>1</td>\n",
       "      <td>1.3</td>\n",
       "      <td>0.6</td>\n",
       "    </tr>\n",
       "    <tr>\n",
       "      <th>1</th>\n",
       "      <td>2</td>\n",
       "      <td>2.1</td>\n",
       "      <td>0.7</td>\n",
       "    </tr>\n",
       "    <tr>\n",
       "      <th>2</th>\n",
       "      <td>3</td>\n",
       "      <td>4.8</td>\n",
       "      <td>0.8</td>\n",
       "    </tr>\n",
       "  </tbody>\n",
       "</table>\n",
       "</div>"
      ],
      "text/plain": [
       "   ID  Weight  Value\n",
       "0   1     1.3    0.6\n",
       "1   2     2.1    0.7\n",
       "2   3     4.8    0.8"
      ]
     },
     "execution_count": 21,
     "metadata": {},
     "output_type": "execute_result"
    }
   ],
   "source": [
    "df2 = pd.read_csv('Data/storage/data2.txt', skipfooter=1, delimiter='[ ,] *')\n",
    "df2"
   ]
  },
  {
   "cell_type": "markdown",
   "metadata": {},
   "source": [
    "* c) Regular Expressions"
   ]
  },
  {
   "cell_type": "markdown",
   "metadata": {},
   "source": [
    "Working with text data often requires the use of simple regular expressions.  \n",
    "Regular expressions are a very powerful way of finding and/or manipulating text strings.  \n",
    "Many books have been written about them, and good, concise information on regular expressions can be found on the web, for example at:  \n",
    "* https://www.debuggex.com/cheatsheet/regex/python provides a convenient cheat sheet for regular expressions in Python.  \n",
    "* http://www.regular-expressions.info gives a comprehensive description of regular expressions.  \n",
    "  \n",
    "Let me give two examples how pandas can make use of regular expressions:  \n",
    "1. Reading in data from a file, separated by a combination of commas, semicolons, or white-spaces:  \n",
    "```  \n",
    "df = pd.read_csv(inFile, sep='[ ;,]+')  \n",
    "```  \n",
    "The square brackets indicate a combination ```(“[:: :]”)``` of ```:::```  \n",
    "The plus indicates one or more (“+”)     \n",
    "2. Extracting columns with certain name-patterns from a pandas DataFrame. In the following example, I will extract all the columns starting with Vel:  \n"
   ]
  },
  {
   "cell_type": "code",
   "execution_count": 22,
   "metadata": {
    "collapsed": true
   },
   "outputs": [],
   "source": [
    "data = np.round(np.random.randn(100,7), 2)"
   ]
  },
  {
   "cell_type": "code",
   "execution_count": 23,
   "metadata": {
    "collapsed": false,
    "deletable": true,
    "editable": true
   },
   "outputs": [
    {
     "data": {
      "text/html": [
       "<div>\n",
       "<table border=\"1\" class=\"dataframe\">\n",
       "  <thead>\n",
       "    <tr style=\"text-align: right;\">\n",
       "      <th></th>\n",
       "      <th>Time</th>\n",
       "      <th>PosX</th>\n",
       "      <th>PosY</th>\n",
       "      <th>PosZ</th>\n",
       "      <th>VelX</th>\n",
       "      <th>VelY</th>\n",
       "      <th>VelZ</th>\n",
       "    </tr>\n",
       "  </thead>\n",
       "  <tbody>\n",
       "    <tr>\n",
       "      <th>0</th>\n",
       "      <td>-0.40</td>\n",
       "      <td>0.50</td>\n",
       "      <td>-0.05</td>\n",
       "      <td>3.18</td>\n",
       "      <td>-1.35</td>\n",
       "      <td>1.01</td>\n",
       "      <td>1.12</td>\n",
       "    </tr>\n",
       "    <tr>\n",
       "      <th>1</th>\n",
       "      <td>0.50</td>\n",
       "      <td>1.70</td>\n",
       "      <td>-0.28</td>\n",
       "      <td>-1.26</td>\n",
       "      <td>-0.00</td>\n",
       "      <td>0.53</td>\n",
       "      <td>0.32</td>\n",
       "    </tr>\n",
       "    <tr>\n",
       "      <th>2</th>\n",
       "      <td>-1.04</td>\n",
       "      <td>1.01</td>\n",
       "      <td>0.56</td>\n",
       "      <td>-1.07</td>\n",
       "      <td>-1.42</td>\n",
       "      <td>-0.28</td>\n",
       "      <td>-1.53</td>\n",
       "    </tr>\n",
       "    <tr>\n",
       "      <th>3</th>\n",
       "      <td>1.96</td>\n",
       "      <td>-2.86</td>\n",
       "      <td>1.32</td>\n",
       "      <td>-0.03</td>\n",
       "      <td>-1.02</td>\n",
       "      <td>-0.10</td>\n",
       "      <td>-0.79</td>\n",
       "    </tr>\n",
       "    <tr>\n",
       "      <th>4</th>\n",
       "      <td>1.84</td>\n",
       "      <td>1.25</td>\n",
       "      <td>-1.71</td>\n",
       "      <td>-0.04</td>\n",
       "      <td>1.49</td>\n",
       "      <td>-0.71</td>\n",
       "      <td>-0.59</td>\n",
       "    </tr>\n",
       "  </tbody>\n",
       "</table>\n",
       "</div>"
      ],
      "text/plain": [
       "   Time  PosX  PosY  PosZ  VelX  VelY  VelZ\n",
       "0 -0.40  0.50 -0.05  3.18 -1.35  1.01  1.12\n",
       "1  0.50  1.70 -0.28 -1.26 -0.00  0.53  0.32\n",
       "2 -1.04  1.01  0.56 -1.07 -1.42 -0.28 -1.53\n",
       "3  1.96 -2.86  1.32 -0.03 -1.02 -0.10 -0.79\n",
       "4  1.84  1.25 -1.71 -0.04  1.49 -0.71 -0.59"
      ]
     },
     "execution_count": 23,
     "metadata": {},
     "output_type": "execute_result"
    }
   ],
   "source": [
    "df = pd.DataFrame(data, columns=['Time','PosX', 'PosY', 'PosZ', 'VelX', 'VelY', 'VelZ'])\n",
    "df.head()"
   ]
  },
  {
   "cell_type": "code",
   "execution_count": 24,
   "metadata": {
    "collapsed": false
   },
   "outputs": [
    {
     "data": {
      "text/html": [
       "<div>\n",
       "<table border=\"1\" class=\"dataframe\">\n",
       "  <thead>\n",
       "    <tr style=\"text-align: right;\">\n",
       "      <th></th>\n",
       "      <th>VelX</th>\n",
       "      <th>VelY</th>\n",
       "      <th>VelZ</th>\n",
       "    </tr>\n",
       "  </thead>\n",
       "  <tbody>\n",
       "    <tr>\n",
       "      <th>0</th>\n",
       "      <td>-1.35</td>\n",
       "      <td>1.01</td>\n",
       "      <td>1.12</td>\n",
       "    </tr>\n",
       "    <tr>\n",
       "      <th>1</th>\n",
       "      <td>-0.00</td>\n",
       "      <td>0.53</td>\n",
       "      <td>0.32</td>\n",
       "    </tr>\n",
       "    <tr>\n",
       "      <th>2</th>\n",
       "      <td>-1.42</td>\n",
       "      <td>-0.28</td>\n",
       "      <td>-1.53</td>\n",
       "    </tr>\n",
       "    <tr>\n",
       "      <th>3</th>\n",
       "      <td>-1.02</td>\n",
       "      <td>-0.10</td>\n",
       "      <td>-0.79</td>\n",
       "    </tr>\n",
       "    <tr>\n",
       "      <th>4</th>\n",
       "      <td>1.49</td>\n",
       "      <td>-0.71</td>\n",
       "      <td>-0.59</td>\n",
       "    </tr>\n",
       "  </tbody>\n",
       "</table>\n",
       "</div>"
      ],
      "text/plain": [
       "   VelX  VelY  VelZ\n",
       "0 -1.35  1.01  1.12\n",
       "1 -0.00  0.53  0.32\n",
       "2 -1.42 -0.28 -1.53\n",
       "3 -1.02 -0.10 -0.79\n",
       "4  1.49 -0.71 -0.59"
      ]
     },
     "execution_count": 24,
     "metadata": {},
     "output_type": "execute_result"
    }
   ],
   "source": [
    "vel = df.filter(regex='Vel*')\n",
    "vel.head()"
   ]
  },
  {
   "cell_type": "markdown",
   "metadata": {},
   "source": [
    "## 3.2 Input from MS Excel"
   ]
  },
  {
   "cell_type": "markdown",
   "metadata": {},
   "source": [
    "There are two approaches to reading a Microsoft Excel file in pandas: the function  \n",
    "read_excel, and the class ExcelFile.1  \n",
    "* read_excel is for reading one file with file-specific arguments (i.e., identical data formats across sheets).  \n",
    "* ExcelFile is for reading one file with sheet-specific arguments (i.e., different data formats across sheets).  \n",
    "Choosing the approach is largely a question of code readability and execution speed.  \n",
    "  \n",
    "The following commands show equivalent class and function approaches to read a single sheet:  \n",
    "```py  \n",
    "# using the ExcelFile class  \n",
    "xls = pd.ExcelFile('path_to_file.xls')  \n",
    "data = xls.parse('Sheet1', index_col=None,  \n",
    "na_values=['NA'])  \n",
    "  \n",
    "# using the read_excel function  \n",
    "data = pd.read_excel('path_to_file.xls', 'Sheet1', index_col=None, na_values=['NA'])  \n",
    "```  \n",
    "  \n",
    "If this fails, give it a try with the Python package ```xlrd```.  \n",
    "The following advanced script shows how to directly import data from an Excel file which is stored in a zipped archive on the web:  \n"
   ]
  },
  {
   "cell_type": "code",
   "execution_count": 26,
   "metadata": {
    "collapsed": false
   },
   "outputs": [
    {
     "name": "stdout",
     "output_type": "stream",
     "text": [
      "    man  before  after\n",
      "0     1   100.8   97.0\n",
      "1     2   102.0  107.5\n",
      "2     3   105.9   97.0\n",
      "3     4   108.0  108.0\n",
      "4     5    92.0   84.0\n",
      "5     6   116.7  111.5\n",
      "6     7   110.2  102.5\n",
      "7     8   135.0  127.5\n",
      "8     9   123.5  118.5\n",
      "9    10    95.0   94.2\n",
      "10   11   105.0  105.0\n",
      "11   12    85.0   82.4\n",
      "12   13   107.2   98.2\n",
      "13   14    80.0   83.6\n",
      "14   15   115.1  115.0\n",
      "15   16   103.5  103.0\n",
      "16   17    82.0   80.0\n",
      "17   18   101.5  101.5\n",
      "18   19   103.5  102.6\n",
      "19   20    93.0   93.0\n",
      "All done!1\n"
     ]
    }
   ],
   "source": [
    "# %load ch03/L3_2_readZip.py\n",
    "'''Get data from MS-Excel files, which are stored zipped on the WWW. '''\n",
    "\n",
    "# author: Thomas Haslwanter, date: Nov-2015\n",
    "\n",
    "# Import standard packages\n",
    "import pandas as pd\n",
    "\n",
    "# additional packages\n",
    "import io\n",
    "import zipfile\n",
    "\n",
    "# Python 2/3 use different packages for \"urlopen\"\n",
    "import sys\n",
    "if sys.version_info[0] == 3:\n",
    "    from urllib.request import urlopen\n",
    "else:\n",
    "    from urllib import urlopen\n",
    "    \n",
    "def getDataDobson(url, inFile):\n",
    "    '''Extract data from a zipped-archive on the web'''\n",
    "\n",
    "    # get the zip-archive\n",
    "    GLM_archive = urlopen(url).read()\n",
    "\n",
    "    # make the archive available as a byte-stream\n",
    "    zipdata = io.BytesIO()\n",
    "    zipdata.write(GLM_archive)\n",
    "\n",
    "    # extract the requested file from the archive, as a pandas XLS-file\n",
    "    myzipfile = zipfile.ZipFile(zipdata)\n",
    "    xlsfile = myzipfile.open(inFile)\n",
    "\n",
    "    # read the xls-file into Python, using Pandas, and return the extracted data\n",
    "    xls = pd.ExcelFile(xlsfile)\n",
    "    df  = xls.parse('Sheet1', skiprows=2)\n",
    "\n",
    "    return df\n",
    "\n",
    "if __name__ == '__main__':\n",
    "    # Select archive (on the web) and the file in the archive\n",
    "    url = 'http://cdn.crcpress.com/downloads/C9500/GLM_data.zip'\n",
    "    inFile = r'GLM_data/Table 2.8 Waist loss.xls'\n",
    "\n",
    "    df = getDataDobson(url, inFile)\n",
    "    print(df)\n",
    "\n",
    "    input('All done!')\n"
   ]
  },
  {
   "cell_type": "markdown",
   "metadata": {},
   "source": [
    "## 3.3 Input from Other Formats"
   ]
  },
  {
   "cell_type": "markdown",
   "metadata": {},
   "source": [
    "* __Matlab__  Support for data input from Matlab files is built into scipy, with the command __scipy.io.loadmat__.  \n",
    "* __Clipboard__ If you have data in your clipboard, you can import them directly with __pd.read_clipboard()__  \n",
    "* __Otherfile formats__ Also SQL databases and a number of additional formats are supported by pandas.  \n",
    "The simplest way to access them is typing __pd.read_ + TAB__, which shows all currently available options for reading data into pandas DataFrames.  \n"
   ]
  },
  {
   "cell_type": "markdown",
   "metadata": {
    "collapsed": true,
    "deletable": true,
    "editable": true
   },
   "source": [
    "### 3.3.1 Matlab"
   ]
  },
  {
   "cell_type": "markdown",
   "metadata": {},
   "source": [
    "The following commands return string, number, vector, and matrix variables from a Matlab file “data.mat”, as well as the content of a structure with two entries (a vector and a string).  \n",
    "The Matlab variables containing the scalar, string, vector, matrix, and structure are called number, text, vector, matrix, and structure, respectively.  \n",
    "    \n"
   ]
  },
  {
   "cell_type": "code",
   "execution_count": 30,
   "metadata": {
    "collapsed": true
   },
   "outputs": [],
   "source": [
    "from scipy.io import loadmat \n",
    "data = loadmat('Data/storage/data.mat')"
   ]
  },
  {
   "cell_type": "code",
   "execution_count": 31,
   "metadata": {
    "collapsed": false
   },
   "outputs": [
    {
     "data": {
      "text/plain": [
       "{'__globals__': [],\n",
       " '__header__': b'MATLAB 5.0 MAT-file, Platform: PCWIN64, Created on: Sun Apr 02 23:18:49 2017',\n",
       " '__version__': '1.0',\n",
       " 'data': array([[ 1. ,  1.3,  0.6],\n",
       "        [ 2. ,  2.1,  0.7],\n",
       "        [ 3. ,  4.8,  0.8],\n",
       "        [ 4. ,  3.3,  0.9]])}"
      ]
     },
     "execution_count": 31,
     "metadata": {},
     "output_type": "execute_result"
    }
   ],
   "source": [
    "data"
   ]
  },
  {
   "cell_type": "code",
   "execution_count": null,
   "metadata": {
    "collapsed": false,
    "scrolled": true
   },
   "outputs": [],
   "source": [
    "number = data['number'][0,0] \n",
    "text = data['text'][0]\n",
    "vector = data['vector'][0] \n",
    "matrix = data['matrix']\n",
    "struct_values = data['structure'][0,0][0][0]\n",
    "strunct_string = data['structure'][0,0][1][0]"
   ]
  },
  {
   "cell_type": "code",
   "execution_count": null,
   "metadata": {
    "collapsed": true
   },
   "outputs": [],
   "source": []
  }
 ],
 "metadata": {
  "kernelspec": {
   "display_name": "Python 3",
   "language": "python",
   "name": "python3"
  },
  "language_info": {
   "codemirror_mode": {
    "name": "ipython",
    "version": 3
   },
   "file_extension": ".py",
   "mimetype": "text/x-python",
   "name": "python",
   "nbconvert_exporter": "python",
   "pygments_lexer": "ipython3",
   "version": "3.6.0"
  }
 },
 "nbformat": 4,
 "nbformat_minor": 1
}
