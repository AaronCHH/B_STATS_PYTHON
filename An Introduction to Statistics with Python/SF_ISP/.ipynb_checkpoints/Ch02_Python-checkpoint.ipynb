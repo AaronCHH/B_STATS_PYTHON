{
 "cells": [
  {
   "cell_type": "markdown",
   "metadata": {
    "deletable": true,
    "editable": true
   },
   "source": [
    "# 2 Python"
   ]
  },
  {
   "cell_type": "markdown",
   "metadata": {
    "deletable": true,
    "editable": true
   },
   "source": [
    "<div id=\"toc\"></div>"
   ]
  },
  {
   "cell_type": "markdown",
   "metadata": {
    "deletable": true,
    "editable": true
   },
   "source": [
    "## 2.1 Getting Started"
   ]
  },
  {
   "cell_type": "markdown",
   "metadata": {
    "deletable": true,
    "editable": true
   },
   "source": [
    "Python is a very popular open source programming language.  \n",
    "At the time of writing, codeeval was rating Python “the most popular language” for the fourth year in a row (http://blog.codeeval.com/codeevalblog).  \n",
    "There are three reasons why I have switched from other programming languages to Python:  \n",
    "1. It is the most elegant programming language that I know.  \n",
    "2. It is free.  \n",
    "3. It is powerful.  \n"
   ]
  },
  {
   "cell_type": "markdown",
   "metadata": {
    "deletable": true,
    "editable": true
   },
   "source": [
    "### 2.1.1 Conventions"
   ]
  },
  {
   "cell_type": "markdown",
   "metadata": {
    "deletable": true,
    "editable": true
   },
   "source": [
    "### 2.1.2 Distributions and Packages\n",
    "  * a) Python Packages for Statistics\n",
    "  * b) PyPI: The Python Package Index"
   ]
  },
  {
   "cell_type": "markdown",
   "metadata": {
    "deletable": true,
    "editable": true
   },
   "source": [
    "### 2.1.3 Installation of Python\n",
    "  * a) Under Windows\n",
    "  * b) Under Linux\n",
    "  * c) Under Mac OS X"
   ]
  },
  {
   "cell_type": "markdown",
   "metadata": {
    "deletable": true,
    "editable": true
   },
   "source": [
    "### 2.1.4 Installation of R and rpy2\n",
    "  * a) Under Windows\n",
    "  * b) Under Linux"
   ]
  },
  {
   "cell_type": "markdown",
   "metadata": {
    "deletable": true,
    "editable": true
   },
   "source": [
    "### 2.1.5 Personalizing IPython/Jupyter\n",
    "  * a) In Windows\n",
    "  * b) In Linux\n",
    "  * c) In Mac OS X"
   ]
  },
  {
   "cell_type": "markdown",
   "metadata": {
    "deletable": true,
    "editable": true
   },
   "source": [
    "### 2.1.6 Python Resources"
   ]
  },
  {
   "cell_type": "markdown",
   "metadata": {
    "deletable": true,
    "editable": true
   },
   "source": [
    "If you have some programming experience, this book may be all you need to get the statistical analysis of your data going.  \n",
    "But if required, very good additional information can be found on the web, where tutorials as well as good free books are available online.  \n",
    "The following links are all recommendable sources of information if you are starting with Python:  \n",
    "\n",
    "• Python Scientific Lecture Notes If you don’t read anything else, read this! (http://scipy-lectures.github.com)  \n",
    "• NumPy for Matlab Users Start here if you have Matlab experience. (https://docs.scipy.org/doc/numpy-dev/user/numpy-for-matlab-users.html; also check http://mathesaurus.sourceforge.net/matlab-numpy.html)  \n",
    "• Lectures on scientific computing with Python Great Jupyter Notebooks, from JR Johansson! (https://github.com/jrjohansson/scientific-python-lectures)  \n",
    "• The Python tutorial The official introduction. (http://docs.python.org/3/tutorial)  \n",
    "\n",
    "In addition free Python books are available, for different levels of programming skills:  \n",
    "• A Byte of Python A very good book, at the introductory level. (http://swaroopch.com/notes/python)  \n",
    "• Learn Python the Hard Way (3rd Ed) A popular book that you can work through. (http://learnpythonthehardway.org/book/)  \n",
    "• Think Python For advanced programmers. (http://www.greenteapress.com/thinkpython)  \n",
    "• Introduction to Python for Econometrics, Statistics and Data Analysis Introduces Python with a focus on statistics (Sheppard 2015).  \n",
    "• Probabilistic Programming and Bayesian Methods for Hackers An excellent introduction into Bayesian thinking. The section on Bayesian statistics in this book is also based on that book (Pilon 2015).  \n",
    "  \n",
    "I have not seen many textbooks on Python that I have really liked.  \n",
    "My favorite introductory books are Harms and McDonald (2010), and the more recent Scopatz and Huff (2015).  \n",
    "  \n",
    "When I run into a problem while developing a new piece of code, most of the time I just google; thereby I stick primarily (a) to the official Python documentation pages, and (b) to http://stackoverflow.com/.  \n",
    "Also, I have found user groups surprisingly active and helpful!  \n"
   ]
  },
  {
   "cell_type": "markdown",
   "metadata": {},
   "source": [
    "### 2.1.7 First Python Programs\n",
    "  * a) Hello World"
   ]
  },
  {
   "cell_type": "code",
   "execution_count": 2,
   "metadata": {
    "collapsed": false
   },
   "outputs": [
    {
     "name": "stdout",
     "output_type": "stream",
     "text": [
      "Hello World\n"
     ]
    }
   ],
   "source": [
    "print('Hello World')"
   ]
  },
  {
   "cell_type": "markdown",
   "metadata": {
    "deletable": true,
    "editable": true
   },
   "source": [
    "  * b) SquareMe"
   ]
  },
  {
   "cell_type": "code",
   "execution_count": 3,
   "metadata": {
    "collapsed": false
   },
   "outputs": [
    {
     "name": "stdout",
     "output_type": "stream",
     "text": [
      "0 0\n",
      "1 1\n",
      "2 4\n",
      "3 9\n",
      "4 16\n",
      "5 25\n",
      "Done\n"
     ]
    }
   ],
   "source": [
    "# %load ch02/squareMe.py\n",
    "# This file shows the square of the numbers from 0 to 5.\n",
    "\n",
    "def squared(x):\n",
    "    return x**2\n",
    "\n",
    "for ii in range(6):\n",
    "    print(ii, squared(ii))\n",
    "\n",
    "print('Done')\n"
   ]
  },
  {
   "cell_type": "markdown",
   "metadata": {
    "deletable": true,
    "editable": true
   },
   "source": [
    "## 2.2 Python Data Structures"
   ]
  },
  {
   "cell_type": "markdown",
   "metadata": {
    "deletable": true,
    "editable": true
   },
   "source": [
    "### 2.2.1 Python Datatypes"
   ]
  },
  {
   "cell_type": "markdown",
   "metadata": {
    "deletable": true,
    "editable": true
   },
   "source": [
    "### 2.2.2 Indexing and Slicing"
   ]
  },
  {
   "cell_type": "markdown",
   "metadata": {
    "deletable": true,
    "editable": true
   },
   "source": [
    "### 2.2.3 Vectors and Arrays"
   ]
  },
  {
   "cell_type": "markdown",
   "metadata": {
    "deletable": true,
    "editable": true
   },
   "source": [
    "## 2.3 IPython/Jupyter: An Interactive Programming Environment"
   ]
  },
  {
   "cell_type": "markdown",
   "metadata": {},
   "source": [
    "IPython uses Jupyter to provide different interface options, my favorite being the qtconsole:  \n",
    "```\n",
    "jupyter qtconsole\n",
    "```"
   ]
  },
  {
   "cell_type": "markdown",
   "metadata": {},
   "source": [
    "A very helpful addition is the browser-based notebook, with support for code, text, mathematical expressions, inline plots and other rich media.\n",
    "```\n",
    "jupyter notebook\n",
    "```"
   ]
  },
  {
   "cell_type": "markdown",
   "metadata": {},
   "source": [
    "Note that many of the examples that come with this book are also available as Jupyter Notebooks, which are available at github: https://github.com/thomas-haslwanter/statsintro_python.git."
   ]
  },
  {
   "cell_type": "markdown",
   "metadata": {
    "deletable": true,
    "editable": true
   },
   "source": [
    "### 2.3.1 First Session with the Qt Console"
   ]
  },
  {
   "cell_type": "markdown",
   "metadata": {
    "deletable": true,
    "editable": true
   },
   "source": [
    "### 2.3.2 Notebook and rpy2"
   ]
  },
  {
   "cell_type": "markdown",
   "metadata": {
    "deletable": true,
    "editable": true
   },
   "source": [
    "  * a) The Notebook\n",
    "  * b) rpy2"
   ]
  },
  {
   "cell_type": "markdown",
   "metadata": {
    "deletable": true,
    "editable": true
   },
   "source": [
    "### 2.3.3 IPython Tips"
   ]
  },
  {
   "cell_type": "markdown",
   "metadata": {
    "deletable": true,
    "editable": true
   },
   "source": [
    "## 2.4 Developing Python Programs"
   ]
  },
  {
   "cell_type": "markdown",
   "metadata": {
    "deletable": true,
    "editable": true
   },
   "source": [
    "### 2.4.1 Converting Interactive Commands into a Python Program"
   ]
  },
  {
   "cell_type": "code",
   "execution_count": 5,
   "metadata": {
    "collapsed": false
   },
   "outputs": [
    {
     "data": {
      "image/png": "[encoded data removed]",
      "text/plain": [
       "<matplotlib.figure.Figure at 0xa829bf0208>"
      ]
     },
     "metadata": {},
     "output_type": "display_data"
    }
   ],
   "source": [
    "# %load ch02/L2_4_pythonScript.py\n",
    "'''\n",
    "Short demonstration of a Python script.\n",
    "\n",
    "author: Thomas Haslwanter\n",
    "date:   May-2015\n",
    "ver:    1.0\n",
    "'''\n",
    "\n",
    "# Import standard packages\n",
    "import numpy as np\n",
    "import matplotlib.pyplot as plt\n",
    "\n",
    "# Generate the time-values\n",
    "t = np.r_[0:10:0.1]\n",
    "\n",
    "# Set the frequency, and calculate the sine-value\n",
    "freq = 0.5\n",
    "x = np.sin(2*np.pi*freq*t)\n",
    "\n",
    "# Plot the data\n",
    "plt.plot(t,x)\n",
    "\n",
    "# Format the plot\n",
    "plt.xlabel('Time[sec]')\n",
    "plt.ylabel('Values')\n",
    "\n",
    "# Generate a figure, one directory up\n",
    "plt.savefig(r'..\\Sinewave.png', dpi=200)\n",
    "\n",
    "# Put it on the screen\n",
    "plt.show()\n"
   ]
  },
  {
   "cell_type": "markdown",
   "metadata": {
    "deletable": true,
    "editable": true
   },
   "source": [
    "### 2.4.2 Functions, Modules, and Packages"
   ]
  },
  {
   "cell_type": "markdown",
   "metadata": {},
   "source": [
    "  * a) Functions"
   ]
  },
  {
   "cell_type": "code",
   "execution_count": 8,
   "metadata": {
    "collapsed": false
   },
   "outputs": [
    {
     "name": "stdout",
     "output_type": "stream",
     "text": [
      "Your first transaction was a loss, and will be dropped.\n",
      "You have earned 23.00 EUR, and spent 10.00 EUR.\n"
     ]
    }
   ],
   "source": [
    "# %load ch02/L2_4_pythonFunction.py\n",
    "'''Demonstration of a Python Function\n",
    "\n",
    "author: thomas haslwanter, date: May-2015\n",
    "'''\n",
    "\n",
    "# Import standard packages\n",
    "import numpy as np\n",
    "\n",
    "def incomeAndExpenses(data):\n",
    "    '''Find the sum of the positive numbers, and the sum of the negative ones.'''\n",
    "    income = np.sum(data[data>0])\n",
    "    expenses = np.sum(data[data<0])\n",
    "    \n",
    "    return (income, expenses)\n",
    "\n",
    "if __name__=='__main__':\n",
    "    testData = np.array([-5, 12, 3, -6, -4, 8])\n",
    "    \n",
    "    # If only real banks would be so nice ;)\n",
    "    if testData[0] < 0:\n",
    "        print('Your first transaction was a loss, and will be dropped.')\n",
    "        testData = np.delete(testData, 0)\n",
    "    else:\n",
    "        print('Congratulations: Your first transaction was a gain!')\n",
    "        \n",
    "    (myIncome, myExpenses) = incomeAndExpenses(testData)\n",
    "    print('You have earned {0:5.2f} EUR, and spent {1:5.2f} EUR.'.format(myIncome, -myExpenses))\n",
    "\n"
   ]
  },
  {
   "cell_type": "markdown",
   "metadata": {
    "deletable": true,
    "editable": true
   },
   "source": [
    "  * b) Modules"
   ]
  },
  {
   "cell_type": "code",
   "execution_count": null,
   "metadata": {
    "collapsed": false
   },
   "outputs": [],
   "source": [
    "# %load ch02/L2_4_pythonImport.py\n",
    "'''Demonstration of importing a Python module\n",
    "\n",
    "author: ThH, date: May-2015'''\n",
    "\n",
    "# Import standard packages\n",
    "import numpy as np\n",
    "\n",
    "# additional packages: this imports the function defined above\n",
    "import L2_4_pythonFunction\n",
    "\n",
    "# Generate test-data\n",
    "testData = np.arange(-5, 10)\n",
    "\n",
    "# Use a function from the imported module\n",
    "out = L2_4_pythonFunction.incomeAndExpenses(testData)\n",
    "\n",
    "# Show some results\n",
    "print('You have earned {0:5.2f} EUR, and spent {1:5.2f} EUR.'.format(out[0], -out[1]))\n"
   ]
  },
  {
   "cell_type": "markdown",
   "metadata": {
    "deletable": true,
    "editable": true
   },
   "source": [
    "### 2.4.3 Python Tips"
   ]
  },
  {
   "cell_type": "markdown",
   "metadata": {},
   "source": [
    "1. Stick to the standard conventions.  \n",
    "* Every function should have a documentation string on the line below the function definition.  \n",
    "* Packages should be imported with their commonly used names:  \n",
    "```\n",
    "import numpy as np  \n",
    "import matplotlib.pyplot as plt \n",
    "import scipy as sp  \n",
    "import pandas as pd \n",
    "import seaborn as sns  \n",
    "```\n",
    "2. To get the current directory, use os.path.abspath(os.curdir). And in Python modules a change of directories can NOT be executed with cd (as in IPython), but instead requires the command os.chdir(...).  \n",
    "3. Everything in Python is an object: to find out about ```\"obj\"```, use ```type(obj)``` and  ```dir(obj)```.  \n",
    "4. Learn to use the debugger. Personally, I always use the debugger from the IDE, and rarely resort to the built-in debugger pdb.  \n",
    "5. Know lists, tuples, and dictionaries; also, know about numpy arrays and pandas DataFrames.  \n",
    "6. Use functions a lot, and understand the ```if  __name__ == '__main__':``` construct.  \n",
    "7. If you have all your personal functions in the directory mydir, you can add this directory to your PYTHONPATH with the command ```import sys sys.path.append('mydir')```  \n",
    "8. If you are using non-ASCII characters, such as the German ```\\\"{o}\\\"{a}\\\"{u}{\\ss}``` or the French ```\\`{e}\\'{e}```, you have to let Python know, by adding \n",
    "```\n",
    "# -*- coding: utf-8 -*-  \n",
    "```\n",
    "in the first or second line of your Python module. This has to be done, even if the non-ASCII characters only appear in the comments! This requirement arises from the fact that Python will default to ASCII as standard encoding if no other encoding hints are given.  \n"
   ]
  },
  {
   "cell_type": "markdown",
   "metadata": {
    "deletable": true,
    "editable": true
   },
   "source": [
    "### 2.4.4 Code Versioning"
   ]
  },
  {
   "cell_type": "markdown",
   "metadata": {},
   "source": [
    "  \n",
    "Computer programs rarely come out perfect at the first try.  \n",
    "Typically they are developed iteratively, by successively eliminating the known errors.  \n",
    "Version control programs, also known as revision control programs, allow tracking only the modifications, and storing previous versions of the program under development.  \n",
    "If the latest changes cause a new problem, it is then easy to compare them to earlier versions, and to restore the program to a previous state.  \n",
    "   \n",
    "I have been working with a number of version control programs, and git is the first one I am really happy with.  \n",
    "git is a version control program, and github is a central source code repository.  \n",
    "If you are developing computer software, I strongly recommend the use of git.  \n",
    "It can be used locally, with very little overhead.  \n",
    "And it can also be used to maintain and manage a remote backup copy of the programs.  \n",
    "While the real power of git lies in its features for collaboration, I have been very happy with it for my own data and software.  \n",
    "An introduction to git goes beyond the scope of this book, but a very good instruction is available under https://git-scm.com/.  \n",
    "Good, short, and simple starting instructions—in many languages—can be found at http://rogerdudler.github.io/git-guide/.  \n",
    "  \n",
    "I am mostly working under Windows, and tortoisegit (https://tortoisegit.org/) provides a very useful Windows shell interface for git.  \n",
    "For example, in order to clone a repository from github to a computer where tortoisegit is installed, simply right- click in the folder on your computer where you want the repository to be installed, select Git Clone ..., and enter the repository name—and the whole repository will be cloned there.  \n",
    "Done!  \n",
    "  \n",
    "github (https://github.com/) is an online project using git, and the place where the source code for the majority of Python packages is hosted.  \n"
   ]
  },
  {
   "cell_type": "markdown",
   "metadata": {
    "deletable": true,
    "editable": true
   },
   "source": [
    "## 2.5 Pandas: Data Structures for Statistics"
   ]
  },
  {
   "cell_type": "markdown",
   "metadata": {},
   "source": [
    "pandas is a widely used Python package which has been contributed by Wes McKinney.  \n",
    "It provides data structures suitable for statistical analysis, and adds functions that facilitate data input, data organization, and data manipulation.  \n",
    "It is common to import pandas as pd, which reduces the typing a bit (http://pandas.pydata.org/).  \n",
    "A good introduction to pandas has been written by Olson (2012).  \n"
   ]
  },
  {
   "cell_type": "markdown",
   "metadata": {
    "deletable": true,
    "editable": true
   },
   "source": [
    "### 2.5.1 Data Handling"
   ]
  },
  {
   "cell_type": "markdown",
   "metadata": {},
   "source": [
    "  * a) Common Procedures"
   ]
  },
  {
   "cell_type": "code",
   "execution_count": 14,
   "metadata": {
    "collapsed": false
   },
   "outputs": [],
   "source": [
    "import numpy as np \n",
    "import pandas as pd\n",
    "\n",
    "t = np.arange(0,10,0.1)\n",
    "x = np.sin(t)\n",
    "y = np.cos(t)\n",
    "\n",
    "df = pd.DataFrame({'Time':t, 'x':x, 'y':y})"
   ]
  },
  {
   "cell_type": "code",
   "execution_count": null,
   "metadata": {
    "collapsed": false,
    "scrolled": true
   },
   "outputs": [],
   "source": [
    "df.Time"
   ]
  },
  {
   "cell_type": "code",
   "execution_count": null,
   "metadata": {
    "collapsed": true
   },
   "outputs": [],
   "source": [
    "df['Time']"
   ]
  },
  {
   "cell_type": "code",
   "execution_count": 23,
   "metadata": {
    "collapsed": false,
    "scrolled": true
   },
   "outputs": [
    {
     "data": {
      "text/html": [
       "<div>\n",
       "<table border=\"1\" class=\"dataframe\">\n",
       "  <thead>\n",
       "    <tr style=\"text-align: right;\">\n",
       "      <th></th>\n",
       "      <th>Time</th>\n",
       "      <th>y</th>\n",
       "    </tr>\n",
       "  </thead>\n",
       "  <tbody>\n",
       "    <tr>\n",
       "      <th>0</th>\n",
       "      <td>0.0</td>\n",
       "      <td>1.000000</td>\n",
       "    </tr>\n",
       "    <tr>\n",
       "      <th>1</th>\n",
       "      <td>0.1</td>\n",
       "      <td>0.995004</td>\n",
       "    </tr>\n",
       "    <tr>\n",
       "      <th>2</th>\n",
       "      <td>0.2</td>\n",
       "      <td>0.980067</td>\n",
       "    </tr>\n",
       "    <tr>\n",
       "      <th>3</th>\n",
       "      <td>0.3</td>\n",
       "      <td>0.955336</td>\n",
       "    </tr>\n",
       "    <tr>\n",
       "      <th>4</th>\n",
       "      <td>0.4</td>\n",
       "      <td>0.921061</td>\n",
       "    </tr>\n",
       "  </tbody>\n",
       "</table>\n",
       "</div>"
      ],
      "text/plain": [
       "   Time         y\n",
       "0   0.0  1.000000\n",
       "1   0.1  0.995004\n",
       "2   0.2  0.980067\n",
       "3   0.3  0.955336\n",
       "4   0.4  0.921061"
      ]
     },
     "execution_count": 23,
     "metadata": {},
     "output_type": "execute_result"
    }
   ],
   "source": [
    "data = df[['Time', 'y']]\n",
    "data.head()"
   ]
  },
  {
   "cell_type": "code",
   "execution_count": 22,
   "metadata": {
    "collapsed": false
   },
   "outputs": [
    {
     "data": {
      "text/html": [
       "<div>\n",
       "<table border=\"1\" class=\"dataframe\">\n",
       "  <thead>\n",
       "    <tr style=\"text-align: right;\">\n",
       "      <th></th>\n",
       "      <th>Time</th>\n",
       "      <th>y</th>\n",
       "    </tr>\n",
       "  </thead>\n",
       "  <tbody>\n",
       "    <tr>\n",
       "      <th>95</th>\n",
       "      <td>9.5</td>\n",
       "      <td>-0.997172</td>\n",
       "    </tr>\n",
       "    <tr>\n",
       "      <th>96</th>\n",
       "      <td>9.6</td>\n",
       "      <td>-0.984688</td>\n",
       "    </tr>\n",
       "    <tr>\n",
       "      <th>97</th>\n",
       "      <td>9.7</td>\n",
       "      <td>-0.962365</td>\n",
       "    </tr>\n",
       "    <tr>\n",
       "      <th>98</th>\n",
       "      <td>9.8</td>\n",
       "      <td>-0.930426</td>\n",
       "    </tr>\n",
       "    <tr>\n",
       "      <th>99</th>\n",
       "      <td>9.9</td>\n",
       "      <td>-0.889191</td>\n",
       "    </tr>\n",
       "  </tbody>\n",
       "</table>\n",
       "</div>"
      ],
      "text/plain": [
       "    Time         y\n",
       "95   9.5 -0.997172\n",
       "96   9.6 -0.984688\n",
       "97   9.7 -0.962365\n",
       "98   9.8 -0.930426\n",
       "99   9.9 -0.889191"
      ]
     },
     "execution_count": 22,
     "metadata": {},
     "output_type": "execute_result"
    }
   ],
   "source": [
    "data.tail()"
   ]
  },
  {
   "cell_type": "code",
   "execution_count": 24,
   "metadata": {
    "collapsed": false
   },
   "outputs": [
    {
     "data": {
      "text/html": [
       "<div>\n",
       "<table border=\"1\" class=\"dataframe\">\n",
       "  <thead>\n",
       "    <tr style=\"text-align: right;\">\n",
       "      <th></th>\n",
       "      <th>Time</th>\n",
       "      <th>y</th>\n",
       "    </tr>\n",
       "  </thead>\n",
       "  <tbody>\n",
       "    <tr>\n",
       "      <th>4</th>\n",
       "      <td>0.4</td>\n",
       "      <td>0.921061</td>\n",
       "    </tr>\n",
       "    <tr>\n",
       "      <th>5</th>\n",
       "      <td>0.5</td>\n",
       "      <td>0.877583</td>\n",
       "    </tr>\n",
       "    <tr>\n",
       "      <th>6</th>\n",
       "      <td>0.6</td>\n",
       "      <td>0.825336</td>\n",
       "    </tr>\n",
       "    <tr>\n",
       "      <th>7</th>\n",
       "      <td>0.7</td>\n",
       "      <td>0.764842</td>\n",
       "    </tr>\n",
       "    <tr>\n",
       "      <th>8</th>\n",
       "      <td>0.8</td>\n",
       "      <td>0.696707</td>\n",
       "    </tr>\n",
       "    <tr>\n",
       "      <th>9</th>\n",
       "      <td>0.9</td>\n",
       "      <td>0.621610</td>\n",
       "    </tr>\n",
       "  </tbody>\n",
       "</table>\n",
       "</div>"
      ],
      "text/plain": [
       "   Time         y\n",
       "4   0.4  0.921061\n",
       "5   0.5  0.877583\n",
       "6   0.6  0.825336\n",
       "7   0.7  0.764842\n",
       "8   0.8  0.696707\n",
       "9   0.9  0.621610"
      ]
     },
     "execution_count": 24,
     "metadata": {},
     "output_type": "execute_result"
    }
   ],
   "source": [
    "data[4:10]"
   ]
  },
  {
   "cell_type": "code",
   "execution_count": 25,
   "metadata": {
    "collapsed": false
   },
   "outputs": [
    {
     "data": {
      "text/html": [
       "<div>\n",
       "<table border=\"1\" class=\"dataframe\">\n",
       "  <thead>\n",
       "    <tr style=\"text-align: right;\">\n",
       "      <th></th>\n",
       "      <th>Time</th>\n",
       "      <th>y</th>\n",
       "    </tr>\n",
       "  </thead>\n",
       "  <tbody>\n",
       "    <tr>\n",
       "      <th>4</th>\n",
       "      <td>0.4</td>\n",
       "      <td>0.921061</td>\n",
       "    </tr>\n",
       "    <tr>\n",
       "      <th>5</th>\n",
       "      <td>0.5</td>\n",
       "      <td>0.877583</td>\n",
       "    </tr>\n",
       "    <tr>\n",
       "      <th>6</th>\n",
       "      <td>0.6</td>\n",
       "      <td>0.825336</td>\n",
       "    </tr>\n",
       "    <tr>\n",
       "      <th>7</th>\n",
       "      <td>0.7</td>\n",
       "      <td>0.764842</td>\n",
       "    </tr>\n",
       "    <tr>\n",
       "      <th>8</th>\n",
       "      <td>0.8</td>\n",
       "      <td>0.696707</td>\n",
       "    </tr>\n",
       "    <tr>\n",
       "      <th>9</th>\n",
       "      <td>0.9</td>\n",
       "      <td>0.621610</td>\n",
       "    </tr>\n",
       "  </tbody>\n",
       "</table>\n",
       "</div>"
      ],
      "text/plain": [
       "   Time         y\n",
       "4   0.4  0.921061\n",
       "5   0.5  0.877583\n",
       "6   0.6  0.825336\n",
       "7   0.7  0.764842\n",
       "8   0.8  0.696707\n",
       "9   0.9  0.621610"
      ]
     },
     "execution_count": 25,
     "metadata": {},
     "output_type": "execute_result"
    }
   ],
   "source": [
    "df[['Time', 'y']][4:10]"
   ]
  },
  {
   "cell_type": "code",
   "execution_count": 26,
   "metadata": {
    "collapsed": false
   },
   "outputs": [
    {
     "data": {
      "text/html": [
       "<div>\n",
       "<table border=\"1\" class=\"dataframe\">\n",
       "  <thead>\n",
       "    <tr style=\"text-align: right;\">\n",
       "      <th></th>\n",
       "      <th>Time</th>\n",
       "      <th>y</th>\n",
       "    </tr>\n",
       "  </thead>\n",
       "  <tbody>\n",
       "    <tr>\n",
       "      <th>4</th>\n",
       "      <td>0.4</td>\n",
       "      <td>0.921061</td>\n",
       "    </tr>\n",
       "    <tr>\n",
       "      <th>5</th>\n",
       "      <td>0.5</td>\n",
       "      <td>0.877583</td>\n",
       "    </tr>\n",
       "    <tr>\n",
       "      <th>6</th>\n",
       "      <td>0.6</td>\n",
       "      <td>0.825336</td>\n",
       "    </tr>\n",
       "    <tr>\n",
       "      <th>7</th>\n",
       "      <td>0.7</td>\n",
       "      <td>0.764842</td>\n",
       "    </tr>\n",
       "    <tr>\n",
       "      <th>8</th>\n",
       "      <td>0.8</td>\n",
       "      <td>0.696707</td>\n",
       "    </tr>\n",
       "    <tr>\n",
       "      <th>9</th>\n",
       "      <td>0.9</td>\n",
       "      <td>0.621610</td>\n",
       "    </tr>\n",
       "  </tbody>\n",
       "</table>\n",
       "</div>"
      ],
      "text/plain": [
       "   Time         y\n",
       "4   0.4  0.921061\n",
       "5   0.5  0.877583\n",
       "6   0.6  0.825336\n",
       "7   0.7  0.764842\n",
       "8   0.8  0.696707\n",
       "9   0.9  0.621610"
      ]
     },
     "execution_count": 26,
     "metadata": {},
     "output_type": "execute_result"
    }
   ],
   "source": [
    "df.iloc[4:10, [0,2]]"
   ]
  },
  {
   "cell_type": "code",
   "execution_count": null,
   "metadata": {
    "collapsed": false,
    "scrolled": true
   },
   "outputs": [],
   "source": [
    "data.values"
   ]
  },
  {
   "cell_type": "markdown",
   "metadata": {
    "deletable": true,
    "editable": true
   },
   "source": [
    "  * b) Notes on Data Selection"
   ]
  },
  {
   "cell_type": "markdown",
   "metadata": {},
   "source": [
    "While pandas’ DataFrames are similar to numpy arrays, their philosophy  is different, and I have wasted a lot of nerves addressing data correctly.  \n",
    "Therefore I want to explicitly point out the differences here:   \n",
    "  \n",
    "__numpy__  handles “rows” first. E.g., ```data[0]``` is the first row of an array  \n",
    "__pandas__  starts with the columns. E.g.,```df['values'][0]``` is the first element of the column 'values'.  \n",
    "  \n",
    "If a DataFrame has labeled rows, you can extract for example the row “rowlabel” with ```df.loc['rowlabel']```.  \n",
    "If you want to address a row by its number, e.g., row number “15,” use ```df.iloc[15]```.  \n",
    "You can also use iloc to address “rows/columns,” e.g., ```df.iloc[2:4,3]```.  \n",
    "  \n",
    "Slicing of rows also works, e.g., ```df[0:5]``` for the first ```5(!)``` rows.  \n",
    "A sometimes confusing convention is that if you want to slice out a single row, e.g., row “5,” you have to use df[5:6].  \n",
    "If you use df[5] alone, you get an error!  \n"
   ]
  },
  {
   "cell_type": "markdown",
   "metadata": {
    "deletable": true,
    "editable": true
   },
   "source": [
    "### 2.5.2 Grouping"
   ]
  },
  {
   "cell_type": "markdown",
   "metadata": {},
   "source": [
    "pandas offers powerful functions to handle missing data which are often replaced by nan’s (“Not-A-Number”).  \n",
    "It also allows more complex types of data manipulation like pivoting.  \n",
    "For example, you can use data-frames to efficiently group objects, and do a statistical evaluation of each group.  \n",
    "The following data are simulated (but realistic) data of a survey on how many hours a day people watch the TV, grouped into “m”ale and “f”emale responses:   \n"
   ]
  },
  {
   "cell_type": "code",
   "execution_count": 29,
   "metadata": {
    "collapsed": false
   },
   "outputs": [
    {
     "name": "stdout",
     "output_type": "stream",
     "text": [
      "                    TV\n",
      "Gender                \n",
      "f      count  5.000000\n",
      "       mean   4.080000\n",
      "       std    0.769415\n",
      "       min    3.400000\n",
      "       25%    3.500000\n",
      "       50%    3.700000\n",
      "       75%    4.700000\n",
      "       max    5.100000\n",
      "m      count  6.000000\n",
      "       mean   3.516667\n",
      "       std    0.926103\n",
      "       min    2.100000\n",
      "       25%    2.925000\n",
      "       50%    4.000000\n",
      "       75%    4.100000\n",
      "       max    4.300000\n"
     ]
    },
    {
     "data": {
      "image/png": "[encoded data removed]",
      "text/plain": [
       "<matplotlib.figure.Figure at 0xa82d3a3f28>"
      ]
     },
     "metadata": {},
     "output_type": "display_data"
    }
   ],
   "source": [
    "import pandas as pd\n",
    "import matplotlib.pyplot as plt\n",
    "\n",
    "data = pd.DataFrame({\n",
    "    'Gender': ['f', 'f', 'm', 'f', 'm',\n",
    "               'm', 'f', 'm', 'f', 'm', 'm'],\n",
    "    'TV': [3.4, 3.5, 2.6, 4.7, 4.1, 4.1,\n",
    "           5.1, 3.9, 3.7, 2.1, 4.3]\n",
    "})\n",
    "\n",
    "#--------------------------------------------\n",
    " \n",
    "\n",
    "# Group the data\n",
    "grouped = data.groupby('Gender')\n",
    "\n",
    "# Do some overview statistics \n",
    "print(grouped.describe())\n",
    "\n",
    "# Plot the data: \n",
    "grouped.boxplot()\n",
    "plt.show()\n",
    "\n",
    "#--------------------------------------------\n",
    "# Get the groups as DataFrames \n",
    "df_female = grouped.get_group('f')\n",
    "\n",
    "# Get the corresponding numpy-array \n",
    "values_female = grouped.get_group('f').values\n"
   ]
  },
  {
   "cell_type": "markdown",
   "metadata": {
    "deletable": true,
    "editable": true
   },
   "source": [
    "## 2.6 Statsmodels: Tools for Statistical Modeling"
   ]
  },
  {
   "cell_type": "markdown",
   "metadata": {},
   "source": [
    "statsmodels is a Python package contributed to the community by the statsmodels development team (http://www.statsmodels.org/).  \n",
    "It has a very active user commu- nity, and has in the last five years massively increased the functionality of Python for statistical data analysis.  \n",
    "statsmodels provides classes and functions for the estimation of many different statistical models, as well as for conducting statistical tests and statistical data exploration.  \n",
    "An extensive list of result statistics are available for each estimator.  \n",
    "  \n",
    "statsmodels also allows the formulation of models with the popular formula language based on the notation introduced by Wilkinson and Rogers (1973), and also used by S and R.  \n",
    "For example, the following example would fit a model that assumes a linear relationship between x and y to a given dataset:  \n"
   ]
  },
  {
   "cell_type": "code",
   "execution_count": 32,
   "metadata": {
    "collapsed": false
   },
   "outputs": [
    {
     "name": "stdout",
     "output_type": "stream",
     "text": [
      "                            OLS Regression Results                            \n",
      "==============================================================================\n",
      "Dep. Variable:                      y   R-squared:                       0.994\n",
      "Model:                            OLS   Adj. R-squared:                  0.994\n",
      "Method:                 Least Squares   F-statistic:                 1.603e+04\n",
      "Date:                Sun, 02 Apr 2017   Prob (F-statistic):          2.04e-110\n",
      "Time:                        22:18:59   Log-Likelihood:                -153.52\n",
      "No. Observations:                 100   AIC:                             311.0\n",
      "Df Residuals:                      98   BIC:                             316.3\n",
      "Df Model:                           1                                         \n",
      "Covariance Type:            nonrobust                                         \n",
      "==============================================================================\n",
      "                 coef    std err          t      P>|t|      [95.0% Conf. Int.]\n",
      "------------------------------------------------------------------------------\n",
      "Intercept    -19.7535      0.225    -87.695      0.000       -20.200   -19.306\n",
      "x              0.4977      0.004    126.597      0.000         0.490     0.505\n",
      "==============================================================================\n",
      "Omnibus:                        5.242   Durbin-Watson:                   1.865\n",
      "Prob(Omnibus):                  0.073   Jarque-Bera (JB):                4.636\n",
      "Skew:                           0.503   Prob(JB):                       0.0985\n",
      "Kurtosis:                       3.319   Cond. No.                         114.\n",
      "==============================================================================\n",
      "\n",
      "Warnings:\n",
      "[1] Standard Errors assume that the covariance matrix of the errors is correctly specified.\n"
     ]
    }
   ],
   "source": [
    "import numpy as np \n",
    "import pandas as pd\n",
    "import statsmodels.formula.api as sm\n",
    "\n",
    "# Generate a noisy line, and save the data in a pandas-DataFrame \n",
    "x = np.arange(100)\n",
    "y = 0.5*x - 20 + np.random.randn(len(x)) \n",
    "\n",
    "df = pd.DataFrame({'x':x, 'y':y})\n",
    " \n",
    "# Fit a linear model, using the \"formula\" language\n",
    "# added by the package \"patsy\"\n",
    "model = sm.ols('y~x', data=df).fit() \n",
    "print( model.summary() )\n"
   ]
  },
  {
   "cell_type": "markdown",
   "metadata": {},
   "source": [
    "An extensive list of result statistics are available for each estimator.  \n",
    "The results of all statsmodels commands have been tested against existing statistical packages to ensure that they are correct. Features include:  \n",
    "* Linear Regression  \n",
    "* Generalized Linear Models  \n",
    "* Generalized Estimating Equations  \n",
    "* Robust Linear Models  \n",
    "* Linear Mixed Effects Models  \n",
    "* Regression with Discrete Dependent Variables  \n",
    "* ANOVA  \n",
    "* Time Series analysis  \n",
    "* Models for Survival and Duration Analysis  \n",
    "* Statistics (e.g., Multiple Tests, Sample Size Calculations, etc.)  \n",
    "* Nonparametric Methods  \n",
    "* Generalized Method of Moments  \n",
    "* Empirical Likelihood  \n",
    "* Graphics functions  \n",
    "* A Datasets Package  \n"
   ]
  },
  {
   "cell_type": "markdown",
   "metadata": {
    "deletable": true,
    "editable": true
   },
   "source": [
    "## 2.7 Seaborn: Data Visualization"
   ]
  },
  {
   "cell_type": "markdown",
   "metadata": {},
   "source": [
    "seaborn is a Python visualization library based on matplotlib.  \n",
    "Its primary goal is to provide a concise, high-level interface for drawing statistical graphics that are both informative and attractive http://stanford.edu/~mwaskom/software/seaborn/ (Fig. 2.9).  \n",
    "\n",
    "For example, the following code already  produces  a  nice  regression  plot (Fig. 2.9), with line-fit and confidence intervals:  \n"
   ]
  },
  {
   "cell_type": "code",
   "execution_count": 33,
   "metadata": {
    "collapsed": false
   },
   "outputs": [
    {
     "data": {
      "image/png": "[encoded data removed]",
      "text/plain": [
       "<matplotlib.figure.Figure at 0xa82e1be4e0>"
      ]
     },
     "metadata": {},
     "output_type": "display_data"
    }
   ],
   "source": [
    "import numpy as np\n",
    "import matplotlib.pyplot as plt\n",
    "import pandas as pd \n",
    "import seaborn as sns\n",
    "\n",
    "x = np.linspace(1, 7, 50)\n",
    "y = 3 + 2*x + 1.5*np.random.randn(len(x))\n",
    "df = pd.DataFrame({'xData':x, 'yData':y}) \n",
    "sns.regplot('xData', 'yData', data=df)\n",
    "plt.show()"
   ]
  },
  {
   "cell_type": "markdown",
   "metadata": {
    "deletable": true,
    "editable": true
   },
   "source": [
    "## 2.8 General Routines"
   ]
  },
  {
   "cell_type": "markdown",
   "metadata": {},
   "source": [
    "* https://github.com/thomas-haslwanter/statsintro_python/blob/master/ISP/Code_Quantlets/Utilities. "
   ]
  },
  {
   "cell_type": "markdown",
   "metadata": {
    "deletable": true,
    "editable": true
   },
   "source": [
    "## 2.9 Exercises"
   ]
  },
  {
   "cell_type": "markdown",
   "metadata": {},
   "source": [
    "* __2.1 Data Input__  \n",
    "Read in data from different sources:  \n",
    "    * A CVS-file with a header (’.\\Data\\data_kaplan\\swim100m.csv’). Also show the first 5 data points.  \n",
    "    * An MS-Excel file (’.\\Data\\data_others\\Table 2.8 Waist loss.xls’). Show the last five data points.  \n",
    "    * Read in the same file, but this time from the zipped archive http://cdn.crcpress.com/downloads/C9500/GLM_data.zip.  "
   ]
  },
  {
   "cell_type": "markdown",
   "metadata": {
    "collapsed": true,
    "deletable": true,
    "editable": true
   },
   "source": [
    "* __2.2 First Steps with Pandas__  \n",
    "    * Generate a pandas DataFrame, with the x-column time stamps from 0 to 10 s, at a rate of 10 Hz, the y-column data values with a sine with 1.5 Hz, and the z-column the corresponding cosine values. Label the x-column “Time”, and the y-column “YVals”, and the z-column “ZVals”.  \n",
    "    * Show the head of this DataFrame.  \n",
    "    * Extract the data in lines 10–15 from “Yvals” and “ZVals”, and write them to the file “out.txt”.  \n",
    "    * Let the user know where the data have been written to.  "
   ]
  },
  {
   "cell_type": "code",
   "execution_count": null,
   "metadata": {
    "collapsed": true
   },
   "outputs": [],
   "source": []
  }
 ],
 "metadata": {
  "kernelspec": {
   "display_name": "Python 3",
   "language": "python",
   "name": "python3"
  },
  "language_info": {
   "codemirror_mode": {
    "name": "ipython",
    "version": 3
   },
   "file_extension": ".py",
   "mimetype": "text/x-python",
   "name": "python",
   "nbconvert_exporter": "python",
   "pygments_lexer": "ipython3",
   "version": "3.6.0"
  }
 },
 "nbformat": 4,
 "nbformat_minor": 1
}
