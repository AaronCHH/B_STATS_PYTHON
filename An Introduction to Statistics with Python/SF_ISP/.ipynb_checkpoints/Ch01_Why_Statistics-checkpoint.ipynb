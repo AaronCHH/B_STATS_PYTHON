{
 "cells": [
  {
   "cell_type": "markdown",
   "metadata": {},
   "source": [
    "# Chapter 1 Why Statistics?"
   ]
  },
  {
   "cell_type": "markdown",
   "metadata": {},
   "source": [
    "WWW In the web, you will find very extensive information on statistics in English at  \n",
    "• http://www.statsref.com/  \n",
    "• http://www.vassarstats.net/  \n",
    "• http://www.biostathandbook.com/  \n",
    "• http://onlinestatbook.com/2/index.html  \n",
    "• http://www.itl.nist.gov/div898/handbook/index.htm  \n",
    "A good German web page on statistics and regulatory issues is http://www.reiter1.com/.  "
   ]
  },
  {
   "cell_type": "code",
   "execution_count": null,
   "metadata": {
    "collapsed": true
   },
   "outputs": [],
   "source": []
  }
 ],
 "metadata": {
  "kernelspec": {
   "display_name": "Python 3",
   "language": "python",
   "name": "python3"
  },
  "language_info": {
   "codemirror_mode": {
    "name": "ipython",
    "version": 3
   },
   "file_extension": ".py",
   "mimetype": "text/x-python",
   "name": "python",
   "nbconvert_exporter": "python",
   "pygments_lexer": "ipython3",
   "version": "3.6.0"
  }
 },
 "nbformat": 4,
 "nbformat_minor": 1
}
