{
 "cells": [
  {
   "cell_type": "markdown",
   "metadata": {
    "deletable": true,
    "editable": true
   },
   "source": [
    "# 3 Statistics"
   ]
  },
  {
   "cell_type": "markdown",
   "metadata": {
    "deletable": true,
    "editable": true
   },
   "source": [
    "<div id=\"toc\"></div>"
   ]
  },
  {
   "cell_type": "markdown",
   "metadata": {
    "deletable": true,
    "editable": true
   },
   "source": [
    "## 3.1 Introduction"
   ]
  },
  {
   "cell_type": "markdown",
   "metadata": {
    "deletable": true,
    "editable": true
   },
   "source": [
    "## 3.2 Python Modules for Statistics"
   ]
  },
  {
   "cell_type": "markdown",
   "metadata": {
    "deletable": true,
    "editable": true
   },
   "source": [
    "### 3.2.1 Scipy Statistics Module"
   ]
  },
  {
   "cell_type": "code",
   "execution_count": 3,
   "metadata": {
    "collapsed": false
   },
   "outputs": [
    {
     "data": {
      "text/plain": [
       "<scipy.stats._distn_infrastructure.rv_frozen at 0x762f7c9940>"
      ]
     },
     "execution_count": 3,
     "metadata": {},
     "output_type": "execute_result"
    }
   ],
   "source": [
    "import scipy.stats # might take awhile\n",
    "n = scipy.stats.norm(0,10) # create normal distrib\n",
    "n"
   ]
  },
  {
   "cell_type": "code",
   "execution_count": 4,
   "metadata": {
    "collapsed": false
   },
   "outputs": [
    {
     "data": {
      "text/plain": [
       "0.0"
      ]
     },
     "execution_count": 4,
     "metadata": {},
     "output_type": "execute_result"
    }
   ],
   "source": [
    "n.mean() # we already know this from its definition!"
   ]
  },
  {
   "cell_type": "code",
   "execution_count": 5,
   "metadata": {
    "collapsed": false
   },
   "outputs": [
    {
     "data": {
      "text/plain": [
       "30000.0"
      ]
     },
     "execution_count": 5,
     "metadata": {},
     "output_type": "execute_result"
    }
   ],
   "source": [
    "n.moment(4)"
   ]
  },
  {
   "cell_type": "code",
   "execution_count": 6,
   "metadata": {
    "collapsed": false
   },
   "outputs": [
    {
     "data": {
      "text/plain": [
       "0.039894228040143268"
      ]
     },
     "execution_count": 6,
     "metadata": {},
     "output_type": "execute_result"
    }
   ],
   "source": [
    "n.pdf(0)"
   ]
  },
  {
   "cell_type": "code",
   "execution_count": 7,
   "metadata": {
    "collapsed": false
   },
   "outputs": [
    {
     "data": {
      "text/plain": [
       "0.5"
      ]
     },
     "execution_count": 7,
     "metadata": {},
     "output_type": "execute_result"
    }
   ],
   "source": [
    "n.cdf(0)"
   ]
  },
  {
   "cell_type": "code",
   "execution_count": 8,
   "metadata": {
    "collapsed": false
   },
   "outputs": [
    {
     "data": {
      "text/plain": [
       "array([ -3.34335197,  16.10507687,   3.08586178,   4.23101862,\n",
       "        13.63803945,  -4.3565258 ,  27.38408865,   9.44491787,\n",
       "         8.66860182,   0.50589409])"
      ]
     },
     "execution_count": 8,
     "metadata": {},
     "output_type": "execute_result"
    }
   ],
   "source": [
    "n.rvs(10)"
   ]
  },
  {
   "cell_type": "code",
   "execution_count": 9,
   "metadata": {
    "collapsed": false
   },
   "outputs": [
    {
     "data": {
      "text/plain": [
       "(0.9853184819221497, 0.3347501754760742)"
      ]
     },
     "execution_count": 9,
     "metadata": {},
     "output_type": "execute_result"
    }
   ],
   "source": [
    "scipy.stats.shapiro(n.rvs(100))"
   ]
  },
  {
   "cell_type": "markdown",
   "metadata": {
    "deletable": true,
    "editable": true
   },
   "source": [
    "### 3.2.2 Sympy Statistics Module"
   ]
  },
  {
   "cell_type": "code",
   "execution_count": 11,
   "metadata": {
    "collapsed": false
   },
   "outputs": [
    {
     "data": {
      "text/plain": [
       "2.59995815363879"
      ]
     },
     "execution_count": 11,
     "metadata": {},
     "output_type": "execute_result"
    }
   ],
   "source": [
    "from sympy import stats\n",
    "X = stats.Normal('x',0,10) # create normal random variable\n",
    "from sympy.abc import x\n",
    "stats.density(X)(x)\n",
    "stats.cdf(X)(0)\n",
    "stats.P(X>0) # prob X >0?\n",
    "stats.E(abs(X)**(1/2)).evalf()"
   ]
  },
  {
   "cell_type": "markdown",
   "metadata": {
    "deletable": true,
    "editable": true
   },
   "source": [
    "### 3.2.3 Other Python Modules for Statistics"
   ]
  },
  {
   "cell_type": "markdown",
   "metadata": {
    "deletable": true,
    "editable": true
   },
   "source": [
    "## 3.3 Types of Convergence"
   ]
  },
  {
   "cell_type": "markdown",
   "metadata": {
    "deletable": true,
    "editable": true
   },
   "source": [
    "### 3.3.1 Almost Sure Convergence"
   ]
  },
  {
   "cell_type": "code",
   "execution_count": 12,
   "metadata": {
    "collapsed": false
   },
   "outputs": [
    {
     "data": {
      "text/plain": [
       "0.83090085498038646"
      ]
     },
     "execution_count": 12,
     "metadata": {},
     "output_type": "execute_result"
    }
   ],
   "source": [
    "from scipy import stats\n",
    "u = stats.uniform()\n",
    "xn = lambda i: u.rvs(i).max()\n",
    "xn(5)"
   ]
  },
  {
   "cell_type": "code",
   "execution_count": 13,
   "metadata": {
    "collapsed": false,
    "scrolled": true
   },
   "outputs": [
    {
     "data": {
      "text/plain": [
       "0.95599999999999996"
      ]
     },
     "execution_count": 13,
     "metadata": {},
     "output_type": "execute_result"
    }
   ],
   "source": [
    "import numpy as np\n",
    "np.mean([xn(60) > 0.95 for i in range(1000)])"
   ]
  },
  {
   "cell_type": "code",
   "execution_count": 15,
   "metadata": {
    "collapsed": false
   },
   "outputs": [
    {
     "name": "stdout",
     "output_type": "stream",
     "text": [
      "89.7811349607\n"
     ]
    }
   ],
   "source": [
    "print(np.log(1-.99)/np.log(.95))"
   ]
  },
  {
   "cell_type": "code",
   "execution_count": 16,
   "metadata": {
    "collapsed": false
   },
   "outputs": [
    {
     "data": {
      "text/plain": [
       "0.98799999999999999"
      ]
     },
     "execution_count": 16,
     "metadata": {},
     "output_type": "execute_result"
    }
   ],
   "source": [
    "import numpy as np\n",
    "np.mean([xn(90) > 0.95 for i in range(1000)])"
   ]
  },
  {
   "cell_type": "markdown",
   "metadata": {
    "deletable": true,
    "editable": true
   },
   "source": [
    "### 3.3.2 Convergence in Probability"
   ]
  },
  {
   "cell_type": "code",
   "execution_count": 17,
   "metadata": {
    "collapsed": true
   },
   "outputs": [],
   "source": [
    "make_interval= lambda n: np.array(zip(range(n+1),range(1,n+1)))/n"
   ]
  },
  {
   "cell_type": "code",
   "execution_count": null,
   "metadata": {
    "collapsed": false
   },
   "outputs": [],
   "source": [
    "intervals = np.vstack([make_interval(i) for i in range(1,5)])\n",
    "print(intervals)"
   ]
  },
  {
   "cell_type": "code",
   "execution_count": null,
   "metadata": {
    "collapsed": false,
    "scrolled": true
   },
   "outputs": [],
   "source": [
    "bits= lambda u:((intervals[:,0] < u) & (u<=intervals[:,1])).astype(int)\n",
    "bits(u.rvs())"
   ]
  },
  {
   "cell_type": "code",
   "execution_count": null,
   "metadata": {
    "collapsed": false
   },
   "outputs": [],
   "source": [
    "print(np.vstack([bits(u.rvs()) for i in range(10)]))"
   ]
  },
  {
   "cell_type": "code",
   "execution_count": null,
   "metadata": {
    "collapsed": false
   },
   "outputs": [],
   "source": [
    "np.vstack([bits(u.rvs()) for i in range(1000)]).mean(axis=0)"
   ]
  },
  {
   "cell_type": "markdown",
   "metadata": {
    "deletable": true,
    "editable": true
   },
   "source": [
    "### 3.3.3 Convergence in Distribution"
   ]
  },
  {
   "cell_type": "markdown",
   "metadata": {
    "deletable": true,
    "editable": true
   },
   "source": [
    "### 3.3.4 Limit Theorems"
   ]
  },
  {
   "cell_type": "markdown",
   "metadata": {
    "deletable": true,
    "editable": true
   },
   "source": [
    "## 3.4 Estimation Using Maximum Likelihood"
   ]
  },
  {
   "cell_type": "markdown",
   "metadata": {
    "deletable": true,
    "editable": true
   },
   "source": [
    "### 3.4.1 Setting Up the Coin Flipping Experiment"
   ]
  },
  {
   "cell_type": "code",
   "execution_count": 23,
   "metadata": {
    "collapsed": false
   },
   "outputs": [
    {
     "name": "stdout",
     "output_type": "stream",
     "text": [
      "[1 0 0 0 0 1 1 1 0 0 1 1 0 1 1 0 1 1 0 1 1 1 0 1 1 0 1 1 0 0]\n"
     ]
    }
   ],
   "source": [
    "from scipy.stats import bernoulli\n",
    "p_true=1/2.0 # estimate this!\n",
    "fp=bernoulli(p_true) # create bernoulli random variate\n",
    "xs = fp.rvs(100) # generate some samples\n",
    "print(xs[:30]) # see first 30 samples"
   ]
  },
  {
   "cell_type": "code",
   "execution_count": 24,
   "metadata": {
    "collapsed": false
   },
   "outputs": [
    {
     "name": "stdout",
     "output_type": "stream",
     "text": [
      "p**51.0*(-p + 1)**49\n"
     ]
    }
   ],
   "source": [
    "import sympy\n",
    "x,p,z=sympy.symbols('x p z', positive=True)\n",
    "phi=p**x*(1-p)**(1-x) # distribution function\n",
    "L=np.prod([phi.subs(x,i) for i in xs]) # likelihood function\n",
    "print(L) # approx 0.5?"
   ]
  },
  {
   "cell_type": "code",
   "execution_count": 25,
   "metadata": {
    "collapsed": false
   },
   "outputs": [
    {
     "name": "stdout",
     "output_type": "stream",
     "text": [
      "0.510000000000000\n"
     ]
    }
   ],
   "source": [
    "logL = sympy.expand_log(sympy.log(L))\n",
    "sol, = sympy.solve(sympy.diff(logL,p),p)\n",
    "print(sol)"
   ]
  },
  {
   "cell_type": "code",
   "execution_count": null,
   "metadata": {
    "collapsed": false
   },
   "outputs": [],
   "source": [
    "fig,ax=subplots()\n",
    "x=np.linspace(0,1,100)\n",
    "ax.plot(x,map(sympy.lambdify(p,logJ,'numpy'),x),'k-',lw=3)\n",
    "ax.plot(sol,logJ.subs(p,sol),'o',\n",
    "        color='gray',ms=15,label='Estimated')\n",
    "ax.plot(p_true,logJ.subs(p,p_true),'s',\n",
    "        color='k',ms=15,label='Actual')\n",
    "ax.set_xlabel('$p$',fontsize=18)\n",
    "ax.set_ylabel('Likelihood',fontsize=18)\n",
    "ax.set_title('Estimate not equal to true value',fontsize=18)\n",
    "ax.legend(loc=0)"
   ]
  },
  {
   "cell_type": "code",
   "execution_count": 27,
   "metadata": {
    "collapsed": false
   },
   "outputs": [
    {
     "name": "stdout",
     "output_type": "stream",
     "text": [
      "0.953955933071\n"
     ]
    }
   ],
   "source": [
    "from scipy.stats import binom\n",
    "# n=100, p = 0.5, distribution of the estimator phat\n",
    "b = binom(100,.5)\n",
    "# symmetric sum the probability around the mean\n",
    "g = lambda i:b.pmf(np.arange(-i,i)+50).sum()\n",
    "print(g(10)) # approx 0.95"
   ]
  },
  {
   "cell_type": "code",
   "execution_count": 28,
   "metadata": {
    "collapsed": false
   },
   "outputs": [
    {
     "name": "stdout",
     "output_type": "stream",
     "text": [
      "True\n"
     ]
    }
   ],
   "source": [
    "from scipy.stats import bernoulli\n",
    "b=bernoulli(0.5) # coin distribution\n",
    "xs = b.rvs(100) # flip it 100 times\n",
    "phat = np.mean(xs) # estimated p\n",
    "print(abs(phat-0.5) < 0.5*0.20 )# make it w/in interval?"
   ]
  },
  {
   "cell_type": "code",
   "execution_count": 30,
   "metadata": {
    "collapsed": false
   },
   "outputs": [
    {
     "name": "stdout",
     "output_type": "stream",
     "text": [
      "97.2\n"
     ]
    }
   ],
   "source": [
    "out=[]\n",
    "b=bernoulli(0.5) # coin distribution\n",
    "\n",
    "for i in range(500): # number of tries\n",
    "    xs = b.rvs(100) # flip it 100 times\n",
    "    phat = np.mean(xs) # estimated p\n",
    "    out.append(abs(phat-0.5) < 0.5*0.20 ) # within 20% ?\n",
    "\n",
    "# percentage of tries w/in 20\\,% interval\n",
    "print(100*np.mean(out))"
   ]
  },
  {
   "cell_type": "code",
   "execution_count": 32,
   "metadata": {
    "collapsed": false
   },
   "outputs": [
    {
     "name": "stdout",
     "output_type": "stream",
     "text": [
      "0.98969419136\n",
      "8.04200833005e-05\n"
     ]
    }
   ],
   "source": [
    "import numpy as np\n",
    "from scipy import stats\n",
    "rv = stats.uniform(0,1) # define uniform random variable\n",
    "mle = rv.rvs((100,500)).max(0) # max along row-dimension\n",
    "print(np.mean(mle)) # approx n/(n+1) = 100/101 ˜= 0.99\n",
    "print(np.var(mle)) #approx n/(n+1)**2/(n+2) ˜= 9.61E-5"
   ]
  },
  {
   "cell_type": "markdown",
   "metadata": {
    "deletable": true,
    "editable": true
   },
   "source": [
    "### 3.4.2 Delta Method"
   ]
  },
  {
   "cell_type": "code",
   "execution_count": 34,
   "metadata": {
    "collapsed": false
   },
   "outputs": [
    {
     "name": "stdout",
     "output_type": "stream",
     "text": [
      "odds ratio= 0.123205555556 var= 0.0175364184171\n"
     ]
    }
   ],
   "source": [
    "from scipy import stats\n",
    "# compute MLE estimates\n",
    "d=stats.bernoulli(0.1).rvs((10,5000)).mean(0)\n",
    "# avoid divide-by-zero\n",
    "d=d[np.logical_not(np.isclose(d,1))]\n",
    "# compute odds ratio\n",
    "odds = d/(1-d)\n",
    "print('odds ratio=',np.mean(odds),'var=',np.var(odds))"
   ]
  },
  {
   "cell_type": "code",
   "execution_count": 36,
   "metadata": {
    "collapsed": false
   },
   "outputs": [
    {
     "name": "stdout",
     "output_type": "stream",
     "text": [
      "odds ratio= 0.501161161161 var= 0.0247834364895\n"
     ]
    }
   ],
   "source": [
    "from scipy import stats\n",
    "d = stats.bernoulli(.5).rvs((10,5000)).mean(0)\n",
    "d = d[np.logical_not(np.isclose(d,1))]\n",
    "print('odds ratio=',np.mean(d),'var=',np.var(d))"
   ]
  },
  {
   "cell_type": "markdown",
   "metadata": {
    "deletable": true,
    "editable": true
   },
   "source": [
    "## 3.5 Hypothesis Testing and P-Values"
   ]
  },
  {
   "cell_type": "markdown",
   "metadata": {
    "deletable": true,
    "editable": true
   },
   "source": [
    "### 3.5.1 Back to the Coin Flipping Example"
   ]
  },
  {
   "cell_type": "code",
   "execution_count": null,
   "metadata": {
    "collapsed": false,
    "deletable": true,
    "editable": true
   },
   "outputs": [],
   "source": [
    "from sympy.stats import P, Binomial\n",
    "theta = S.symbols('theta',real=True)\n",
    "X = Binomial('x',100,theta)\n",
    "beta_function = P(X>60)\n",
    "print(beta_function.subs(theta,0.5)) # alpha\n",
    "print(beta_function.subs(theta,0.70))"
   ]
  },
  {
   "cell_type": "code",
   "execution_count": 38,
   "metadata": {
    "collapsed": false
   },
   "outputs": [
    {
     "name": "stdout",
     "output_type": "stream",
     "text": [
      "0.018\n"
     ]
    }
   ],
   "source": [
    "from scipy import stats\n",
    "rv=stats.bernoulli(0.5) # true p = 0.5\n",
    "# number of false alarms ˜ 0.018\n",
    "print(sum(rv.rvs((1000,100)).sum(axis=1)>60)/1000)"
   ]
  },
  {
   "cell_type": "markdown",
   "metadata": {
    "deletable": true,
    "editable": true
   },
   "source": [
    "### 3.5.2 Receiver Operating Characteristic"
   ]
  },
  {
   "cell_type": "markdown",
   "metadata": {
    "deletable": true,
    "editable": true
   },
   "source": [
    "### 3.5.3 P-Values"
   ]
  },
  {
   "cell_type": "markdown",
   "metadata": {
    "deletable": true,
    "editable": true
   },
   "source": [
    "### 3.5.4 Test Statistics"
   ]
  },
  {
   "cell_type": "code",
   "execution_count": 44,
   "metadata": {
    "collapsed": false
   },
   "outputs": [],
   "source": [
    "import sympy as S\n",
    "from sympy import stats\n",
    "s = stats.Normal('s',1,1) # signal+noise\n",
    "n = stats.Normal('n',0,1) # noise\n",
    "x = S.symbols('x',real=True)\n",
    "L = stats.density(s)(x)/stats.density(n)(x)"
   ]
  },
  {
   "cell_type": "code",
   "execution_count": 46,
   "metadata": {
    "collapsed": true
   },
   "outputs": [],
   "source": [
    "g = S.symbols('g',positive=True) # define gamma\n",
    "v = S.integrate(stats.density(n)(x),\n",
    "                (x,S.Rational(1,2)+S.log(g),S.oo))"
   ]
  },
  {
   "cell_type": "code",
   "execution_count": 47,
   "metadata": {
    "collapsed": false
   },
   "outputs": [
    {
     "name": "stdout",
     "output_type": "stream",
     "text": [
      "6.21116124253284\n"
     ]
    }
   ],
   "source": [
    "print(S.nsolve(v-0.01,3.0)) # approx 6.21"
   ]
  },
  {
   "cell_type": "code",
   "execution_count": 49,
   "metadata": {
    "collapsed": true
   },
   "outputs": [],
   "source": [
    "from scipy.stats import binom, chi2\n",
    "import numpy as np\n",
    "# some sample parameters\n",
    "p0,p1,p2 = 0.3,0.4,0.5\n",
    "n0,n1,n2 = 50,180,200\n",
    "brvs= [ binom(i,j) for i,j in zip((n0,n1,n2),(p0,p1,p2))]\n",
    "def gen_sample(n=1):\n",
    "    'generate samples from separate binomial distributions'\n",
    "    if n==1:\n",
    "        return [i.rvs() for i in brvs]\n",
    "    else:\n",
    "        return [gen_sample() for k in range(n)]"
   ]
  },
  {
   "cell_type": "code",
   "execution_count": 50,
   "metadata": {
    "collapsed": false
   },
   "outputs": [
    {
     "name": "stdout",
     "output_type": "stream",
     "text": [
      "13 64 101\n"
     ]
    }
   ],
   "source": [
    "k0,k1,k2 = gen_sample()\n",
    "print(k0,k1,k2)"
   ]
  },
  {
   "cell_type": "code",
   "execution_count": 51,
   "metadata": {
    "collapsed": false
   },
   "outputs": [
    {
     "name": "stdout",
     "output_type": "stream",
     "text": [
      "-14.9487619239\n"
     ]
    }
   ],
   "source": [
    "pH0 = sum((k0,k1,k2))/sum((n0,n1,n2))\n",
    "numer = np.sum([np.log(binom(ni,pH0).pmf(ki)) for ni,ki in zip((n0,n1,n2),(k0,k1,k2))])\n",
    "print(numer)"
   ]
  },
  {
   "cell_type": "code",
   "execution_count": 52,
   "metadata": {
    "collapsed": false,
    "scrolled": true
   },
   "outputs": [
    {
     "name": "stdout",
     "output_type": "stream",
     "text": [
      "-8.67115888386\n"
     ]
    }
   ],
   "source": [
    "denom = np.sum([np.log(binom(ni,pi).pmf(ki)) for ni,ki,pi in zip((n0,n1,n2),(k0,k1,k2),(p0,p1,p2))])\n",
    "print(denom)"
   ]
  },
  {
   "cell_type": "code",
   "execution_count": 53,
   "metadata": {
    "collapsed": false
   },
   "outputs": [
    {
     "name": "stdout",
     "output_type": "stream",
     "text": [
      "12.5552060801\n"
     ]
    }
   ],
   "source": [
    "chsq=chi2(2)\n",
    "logLambda =-2*(numer-denom)\n",
    "print(logLambda)"
   ]
  },
  {
   "cell_type": "code",
   "execution_count": 54,
   "metadata": {
    "collapsed": false
   },
   "outputs": [
    {
     "name": "stdout",
     "output_type": "stream",
     "text": [
      "0.00187789644647\n"
     ]
    }
   ],
   "source": [
    "print(1- chsq.cdf(logLambda))"
   ]
  },
  {
   "cell_type": "code",
   "execution_count": 55,
   "metadata": {
    "collapsed": false
   },
   "outputs": [
    {
     "name": "stdout",
     "output_type": "stream",
     "text": [
      "0.55\n"
     ]
    }
   ],
   "source": [
    "c = chsq.isf(.05) # 5% significance level\n",
    "out = []\n",
    "\n",
    "for k0,k1,k2 in gen_sample(100):\n",
    "    pH0 = sum((k0,k1,k2))/sum((n0,n1,n2))\n",
    "    numer = np.sum([np.log(binom(ni,pH0).pmf(ki)) for ni,ki in zip((n0,n1,n2),(k0,k1,k2))])\n",
    "    \n",
    "    denom = np.sum([np.log(binom(ni,pi).pmf(ki)) for ni,ki,pi in zip((n0,n1,n2),(k0,k1,k2),(p0,p1,p2))])\n",
    "    out.append(-2*(numer-denom)>c)\n",
    "    \n",
    "print(np.mean(out)) # estimated probability of detection"
   ]
  },
  {
   "cell_type": "code",
   "execution_count": 56,
   "metadata": {
    "collapsed": false
   },
   "outputs": [
    {
     "name": "stdout",
     "output_type": "stream",
     "text": [
      "p-value =  0.06\n"
     ]
    }
   ],
   "source": [
    "x=binom(10,0.3).rvs(5) # p=0.3\n",
    "y=binom(10,0.5).rvs(3) # p=0.5\n",
    "z = np.hstack([x,y]) # combine into one array\n",
    "t_o = abs(x.mean()-y.mean())\n",
    "out = [] # output container\n",
    "\n",
    "for k in range(1000):\n",
    "    perm = np.random.permutation(z)\n",
    "    T=abs(perm[:len(x)].mean()-perm[len(x):].mean())\n",
    "    out.append((T>t_o))\n",
    "    \n",
    "print('p-value = ', np.mean(out))\n"
   ]
  },
  {
   "cell_type": "code",
   "execution_count": 57,
   "metadata": {
    "collapsed": false
   },
   "outputs": [
    {
     "name": "stdout",
     "output_type": "stream",
     "text": [
      "True\n"
     ]
    }
   ],
   "source": [
    "from scipy import stats\n",
    "theta0 = 0.5 # H0\n",
    "k=np.random.binomial(1000,0.3)\n",
    "theta_hat = k/1000. # MLE\n",
    "W = (theta_hat-theta0)/np.sqrt(theta_hat*(1-theta_hat)/1000)\n",
    "c = stats.norm().isf(0.05/2) # z_{alpha/2}\n",
    "print(abs(W)>c) # if true, reject H0"
   ]
  },
  {
   "cell_type": "code",
   "execution_count": 58,
   "metadata": {
    "collapsed": false
   },
   "outputs": [
    {
     "name": "stdout",
     "output_type": "stream",
     "text": [
      "1.0\n"
     ]
    }
   ],
   "source": [
    "theta0 = 0.5 # H0\n",
    "c = stats.norm().isf(0.05/2.) # z_{alpha/2}\n",
    "out = []\n",
    "\n",
    "for i in range(100):\n",
    "    k=np.random.binomial(1000,0.3)\n",
    "    theta_hat = k/1000. # MLE\n",
    "    W = (theta_hat-theta0)/np.sqrt(theta_hat*(1-theta_hat)/1000.)\n",
    "    out.append(abs(W)>c) # if true, reject H0\n",
    "    \n",
    "print(np.mean(out)) # detection probability"
   ]
  },
  {
   "cell_type": "markdown",
   "metadata": {
    "deletable": true,
    "editable": true
   },
   "source": [
    "### 3.5.5 Testing Multiple Hypotheses"
   ]
  },
  {
   "cell_type": "markdown",
   "metadata": {
    "deletable": true,
    "editable": true
   },
   "source": [
    "## 3.6 Confidence Intervals"
   ]
  },
  {
   "cell_type": "code",
   "execution_count": 59,
   "metadata": {
    "collapsed": false
   },
   "outputs": [
    {
     "name": "stdout",
     "output_type": "stream",
     "text": [
      "Interval trapped correct value  100.0 % of the time\n"
     ]
    }
   ],
   "source": [
    "from scipy import stats\n",
    "import numpy as np\n",
    "b= stats.bernoulli(.5) # fair coin distribution\n",
    "nsamples = 100\n",
    "# flip it nsamples times for 200 estimates\n",
    "xs = b.rvs(nsamples*200).reshape(nsamples,-1)\n",
    "phat = np.mean(xs,axis=0) # estimated p\n",
    "# edge of 95\\,% confidence interval\n",
    "epsilon_n=np.sqrt(np.log(2/0.05)/2/nsamples)\n",
    "pct=np.logical_and(phat-epsilon_n<=0.5,\n",
    "                   0.5 <= (epsilon_n +phat)\n",
    "                  ).mean()*100\n",
    "print('Interval trapped correct value ', pct,'% of the time')"
   ]
  },
  {
   "cell_type": "code",
   "execution_count": 61,
   "metadata": {
    "collapsed": false
   },
   "outputs": [],
   "source": [
    "# compute estimated se for all trials\n",
    "se=np.sqrt(phat*(1-phat)/xs.shape[0])\n",
    "# generate random variable for trial 0\n",
    "rv=stats.norm(0, se[0])\n",
    "# compute 95\\,% confidence interval for that trial 0\n",
    "np.array(rv.interval(0.95))+phat[0]\n",
    "\n",
    "def compute_CI(i):\n",
    "    return stats.norm.interval(0.95,loc=i,\n",
    "                               scale=np.sqrt(i*(1-i)/xs.shape[0]))\n",
    "lower,upper = compute_CI(phat)"
   ]
  },
  {
   "cell_type": "markdown",
   "metadata": {
    "deletable": true,
    "editable": true
   },
   "source": [
    "## 3.7 Linear Regression"
   ]
  },
  {
   "cell_type": "code",
   "execution_count": 62,
   "metadata": {
    "collapsed": true
   },
   "outputs": [],
   "source": [
    "import numpy as np\n",
    "a = 6;b = 1 # parameters to estimate\n",
    "x = np.linspace(0,1,100)\n",
    "y = a*x + np.random.randn(len(x))+b\n",
    "p,var_=np.polyfit(x,y,1,cov=True) # fit data to line\n",
    "y_ = np.polyval(p,x) # estimated by linear regression"
   ]
  },
  {
   "cell_type": "code",
   "execution_count": 63,
   "metadata": {
    "collapsed": true
   },
   "outputs": [],
   "source": [
    "x0, xn =x[0],x[80]\n",
    "# generate synthetic data\n",
    "y_0 = a*x0 + np.random.randn(20)+b\n",
    "y_1 = a*xn + np.random.randn(20)+b\n",
    "# mean along sample dimension\n",
    "yhat = np.array([y_0,y_1]).mean(axis=1)\n",
    "a_,b_=np.linalg.solve(np.array([[x0,1],\n",
    "                                [xn,1]]),yhat)"
   ]
  },
  {
   "cell_type": "code",
   "execution_count": 64,
   "metadata": {
    "collapsed": true
   },
   "outputs": [],
   "source": [
    "from scipy import stats\n",
    "slope,intercept,r_value,p_value,stderr = stats.linregress(x,y)"
   ]
  },
  {
   "cell_type": "code",
   "execution_count": 65,
   "metadata": {
    "collapsed": true
   },
   "outputs": [],
   "source": [
    "import statsmodels.formula.api as smf\n",
    "from pandas import DataFrame\n",
    "import numpy as np\n",
    "d = DataFrame({'x':np.linspace(0,1,10)}) # create data\n",
    "d['y'] = a*d.x+ b + np.random.randn(*d.x.shape)"
   ]
  },
  {
   "cell_type": "code",
   "execution_count": null,
   "metadata": {
    "collapsed": false
   },
   "outputs": [],
   "source": [
    "results = smf.ols('y ˜ x', data=d).fit()"
   ]
  },
  {
   "cell_type": "markdown",
   "metadata": {
    "deletable": true,
    "editable": true
   },
   "source": [
    "### 3.7.1 Extensions to Multiple Covariates"
   ]
  },
  {
   "cell_type": "code",
   "execution_count": 67,
   "metadata": {
    "collapsed": true
   },
   "outputs": [],
   "source": [
    "fit = lambda i,x,y: np.polyval(np.polyfit(x,y,1),i)\n",
    "omit = lambda i,x: ([k for j,k in enumerate(x) if j !=i])\n",
    "def cook_d(k):\n",
    "    num = sum((fit(j,omit(k,x),omit(k,y))- fit(j,x,y))**2 for j in x)\n",
    "    den = sum((y-np.polyval(np.polyfit(x,y,1),x))**2/len(x)*2)\n",
    "    return num/den"
   ]
  },
  {
   "cell_type": "markdown",
   "metadata": {
    "deletable": true,
    "editable": true
   },
   "source": [
    "## 3.8 Maximum A-Posteriori"
   ]
  },
  {
   "cell_type": "code",
   "execution_count": 69,
   "metadata": {
    "collapsed": false
   },
   "outputs": [
    {
     "data": {
      "text/plain": [
       "(k + 5)/(n + 10)"
      ]
     },
     "execution_count": 69,
     "metadata": {},
     "output_type": "execute_result"
    }
   ],
   "source": [
    "import sympy\n",
    "from sympy import stats as st\n",
    "from sympy.abc import p,k,n\n",
    "obj = sympy.expand_log(sympy.log(p**k*(1-p)**(n-k)* st.density(st.Beta('p',6,6))(p)))\n",
    "sol = sympy.solve(sympy.simplify(sympy.diff(obj,p)),p)[0]\n",
    "sol"
   ]
  },
  {
   "cell_type": "markdown",
   "metadata": {
    "deletable": true,
    "editable": true
   },
   "source": [
    "## 3.9 Robust Statistics"
   ]
  },
  {
   "cell_type": "code",
   "execution_count": 70,
   "metadata": {
    "collapsed": true
   },
   "outputs": [],
   "source": [
    "import statsmodels.api as sm\n",
    "from scipy import stats\n",
    "data=np.hstack([stats.norm(10,1).rvs(10),stats.norm(0,1).rvs(100)])"
   ]
  },
  {
   "cell_type": "code",
   "execution_count": 71,
   "metadata": {
    "collapsed": true
   },
   "outputs": [],
   "source": [
    "huber = sm.robust.scale.Huber()\n",
    "loc,scl=huber(data)"
   ]
  },
  {
   "cell_type": "markdown",
   "metadata": {
    "deletable": true,
    "editable": true
   },
   "source": [
    "## 3.10 Bootstrapping"
   ]
  },
  {
   "cell_type": "code",
   "execution_count": 72,
   "metadata": {
    "collapsed": true
   },
   "outputs": [],
   "source": [
    "import numpy as np\n",
    "from scipy import stats\n",
    "rv = stats.beta(3,2)\n",
    "xsamples = rv.rvs(50)"
   ]
  },
  {
   "cell_type": "code",
   "execution_count": 73,
   "metadata": {
    "collapsed": true
   },
   "outputs": [],
   "source": [
    "yboot = np.random.choice(xsamples,(100,50))\n",
    "yboot_mn = yboot.mean()"
   ]
  },
  {
   "cell_type": "code",
   "execution_count": 74,
   "metadata": {
    "collapsed": false
   },
   "outputs": [
    {
     "data": {
      "text/plain": [
       "0.024178108705133088"
      ]
     },
     "execution_count": 74,
     "metadata": {},
     "output_type": "execute_result"
    }
   ],
   "source": [
    "np.std(yboot.mean(axis=1)) # approx sqrt(1/1250) "
   ]
  },
  {
   "cell_type": "code",
   "execution_count": 75,
   "metadata": {
    "collapsed": false
   },
   "outputs": [
    {
     "name": "stdout",
     "output_type": "stream",
     "text": [
      "sqrt(-1/(20000*beta(3, 2)**2) + 1/(1500*beta(3, 2)))\n"
     ]
    }
   ],
   "source": [
    "import sympy as S\n",
    "import sympy.stats\n",
    "\n",
    "for i in range(50): # 50 samples\n",
    "    # load sympy.stats Beta random variables\n",
    "    # into global namespace using exec\n",
    "    execstring = \"x%d = S.stats.Beta('x'+str(%d),3,2)\"%(i,i)\n",
    "    exec(execstring)\n",
    "    \n",
    "# populate xlist with the sympy.stats random variables\n",
    "# from above\n",
    "xlist = [eval('x%d'%(i)) for i in range(50) ]\n",
    "# compute sample mean\n",
    "sample_mean = sum(xlist)/len(xlist)\n",
    "# compute expectation of sample mean\n",
    "sample_mean_1 = S.stats.E(sample_mean)\n",
    "# compute 2nd moment of sample mean\n",
    "sample_mean_2 = S.stats.E(S.expand(sample_mean**2))\n",
    "# standard deviation of sample mean\n",
    "# use sympy sqrt function\n",
    "sigma_smn = S.sqrt(sample_mean_2-sample_mean_1**2) # 1/sqrt(1250)\n",
    "print(sigma_smn)\n"
   ]
  },
  {
   "cell_type": "code",
   "execution_count": 76,
   "metadata": {
    "collapsed": false
   },
   "outputs": [
    {
     "name": "stdout",
     "output_type": "stream",
     "text": [
      "[0 0 0 0 0 0 0 0 0 0]\n"
     ]
    }
   ],
   "source": [
    "from scipy import stats\n",
    "import numpy as np\n",
    "p= 0.25 # true head-up probability\n",
    "x = stats.bernoulli(p).rvs(10)\n",
    "print(x)"
   ]
  },
  {
   "cell_type": "code",
   "execution_count": 77,
   "metadata": {
    "collapsed": false
   },
   "outputs": [
    {
     "name": "stdout",
     "output_type": "stream",
     "text": [
      "0.0\n"
     ]
    }
   ],
   "source": [
    "phat = x.mean()\n",
    "print(phat)"
   ]
  },
  {
   "cell_type": "code",
   "execution_count": 78,
   "metadata": {
    "collapsed": false
   },
   "outputs": [
    {
     "name": "stdout",
     "output_type": "stream",
     "text": [
      "0.0\n"
     ]
    }
   ],
   "source": [
    "print((1-2*phat)**2*(phat)**2/10.)"
   ]
  },
  {
   "cell_type": "code",
   "execution_count": 80,
   "metadata": {
    "collapsed": false
   },
   "outputs": [
    {
     "name": "stdout",
     "output_type": "stream",
     "text": [
      "0.0\n"
     ]
    }
   ],
   "source": [
    "phat_b = np.random.choice(x,(50,10)).mean(1)\n",
    "print(np.var(phat_b*(1-phat_b)))"
   ]
  },
  {
   "cell_type": "code",
   "execution_count": 81,
   "metadata": {
    "collapsed": true
   },
   "outputs": [],
   "source": [
    "import sympy as S\n",
    "from sympy.stats import E, Bernoulli\n",
    "xdata =[Bernoulli(i,p) for i in S.symbols('x:10')]\n",
    "ph = sum(xdata)/float(len(xdata))\n",
    "g = ph*(1-ph)"
   ]
  },
  {
   "cell_type": "code",
   "execution_count": 82,
   "metadata": {
    "collapsed": false
   },
   "outputs": [
    {
     "name": "stdout",
     "output_type": "stream",
     "text": [
      "0.00442968750000000\n"
     ]
    }
   ],
   "source": [
    "print(E(g**2) - E(g)**2)"
   ]
  },
  {
   "cell_type": "markdown",
   "metadata": {
    "deletable": true,
    "editable": true
   },
   "source": [
    "### 3.10.1 Parametric Bootstrap"
   ]
  },
  {
   "cell_type": "code",
   "execution_count": 83,
   "metadata": {
    "collapsed": true
   },
   "outputs": [],
   "source": [
    "rv = stats.norm(0,2)\n",
    "xsamples = rv.rvs(45)\n",
    "# estimate mean and var from xsamples\n",
    "mn_ = np.mean(xsamples)\n",
    "std_ = np.std(xsamples)\n",
    "# bootstrap from assumed normal distribution with\n",
    "# mn_,std_ as parameters\n",
    "rvb = stats.norm(mn_,std_) #plug-in distribution\n",
    "yboot = rvb.rvs(1000)"
   ]
  },
  {
   "cell_type": "code",
   "execution_count": 85,
   "metadata": {
    "collapsed": false
   },
   "outputs": [
    {
     "name": "stdout",
     "output_type": "stream",
     "text": [
      "2.33433879437\n"
     ]
    }
   ],
   "source": [
    "# MLE-Plugin Variance of the sample mean\n",
    "print(2*(std_**2)**2/9.) # MLE plugin"
   ]
  },
  {
   "cell_type": "code",
   "execution_count": 86,
   "metadata": {
    "collapsed": false
   },
   "outputs": [
    {
     "name": "stdout",
     "output_type": "stream",
     "text": [
      "3.1688336913\n"
     ]
    }
   ],
   "source": [
    "# Bootstrap variance of the sample mean\n",
    "print(yboot.var())"
   ]
  },
  {
   "cell_type": "code",
   "execution_count": 87,
   "metadata": {
    "collapsed": false
   },
   "outputs": [
    {
     "name": "stdout",
     "output_type": "stream",
     "text": [
      "3.5555555555555554\n"
     ]
    }
   ],
   "source": [
    "# True variance of sample mean\n",
    "print(2*(2**2)**2/9.)"
   ]
  },
  {
   "cell_type": "markdown",
   "metadata": {
    "deletable": true,
    "editable": true
   },
   "source": [
    "## 3.11 Gauss Markov"
   ]
  },
  {
   "cell_type": "code",
   "execution_count": 93,
   "metadata": {
    "collapsed": false
   },
   "outputs": [],
   "source": [
    "Q = np.eye(3)*0.1 # error covariance matrix\n",
    "# this is what we are trying estimate\n",
    "beta = np.matrix(np.ones((2,1)))\n",
    "W = np.matrix([[1,2],\n",
    "               [2,3],\n",
    "               [1,1]])\n",
    "ntrials = 50\n",
    "epsilon = np.random.multivariate_normal((0,0,0),Q,ntrials).T\n",
    "y=W*beta+epsilon"
   ]
  },
  {
   "cell_type": "code",
   "execution_count": null,
   "metadata": {
    "collapsed": false,
    "scrolled": false
   },
   "outputs": [],
   "source": [
    "from matplotlib.patches import Ellipse\n",
    "U,S,V = linalg.svd(bm_cov)\n",
    "err = np.sqrt((matrix(bm))*(bm_cov)*(matrix(bm).T))\n",
    "theta = np.arccos(U[0,1])/np.pi*180\n",
    "\n",
    "ax.add_patch(Ellipse(bm,err*2/np.sqrt(S[0]),\n",
    "                     err*2/np.sqrt(S[1]),\n",
    "                     angle=theta,color=’gray’))"
   ]
  },
  {
   "cell_type": "markdown",
   "metadata": {
    "deletable": true,
    "editable": true
   },
   "source": [
    "## 3.12 Nonparametric Methods"
   ]
  },
  {
   "cell_type": "markdown",
   "metadata": {
    "deletable": true,
    "editable": true
   },
   "source": [
    "### 3.12.1 Kernel Density Estimation"
   ]
  },
  {
   "cell_type": "code",
   "execution_count": null,
   "metadata": {
    "collapsed": true
   },
   "outputs": [],
   "source": [
    "def generate_samples(n,ntrials=500):\n",
    "    phat = np.zeros((nbins,ntrials))\n",
    "    for k in range(ntrials):\n",
    "        d = rv.rvs(n)\n",
    "        phat[:,k],_=histogram(d,bins,density=True)\n",
    "    return phat"
   ]
  },
  {
   "cell_type": "markdown",
   "metadata": {
    "deletable": true,
    "editable": true
   },
   "source": [
    "### 3.12.2 Kernel Smoothing"
   ]
  },
  {
   "cell_type": "code",
   "execution_count": 98,
   "metadata": {
    "collapsed": true
   },
   "outputs": [],
   "source": [
    "from scipy.integrate import quad\n",
    "from scipy import stats\n",
    "rv= stats.beta(2,2)\n",
    "n=100 # number of samples to generate\n",
    "d = rv.rvs(n)[:,None] # generate samples as column-vector"
   ]
  },
  {
   "cell_type": "code",
   "execution_count": null,
   "metadata": {
    "collapsed": false,
    "scrolled": true
   },
   "outputs": [],
   "source": [
    "train,test,_,_ = train_test_split(d,d,test_size=0.5)\n",
    "kdes=[KernelDensity(bandwidth=i).fit(train) for i in [.05,0.1,0.2,0.3]]"
   ]
  },
  {
   "cell_type": "code",
   "execution_count": null,
   "metadata": {
    "collapsed": false
   },
   "outputs": [],
   "source": [
    "import numpy as np\n",
    "for i in kdes:\n",
    "    f = lambda x: np.exp(i.score_samples(x))\n",
    "    f2 = lambda x: f(x)**2\n",
    "    print('h=%3.2f\\t %3.4f'%(i.bandwidth,quad(f2,0,1)[0]\n",
    "                             -2*np.mean(f(test))))"
   ]
  },
  {
   "cell_type": "code",
   "execution_count": null,
   "metadata": {
    "collapsed": false,
    "scrolled": true
   },
   "outputs": [],
   "source": [
    "class KernelDensityWrapper(KernelDensity):\n",
    "    def predict(self,x):\n",
    "        return np.exp(self.score_samples(x))\n",
    "    def score(self,test):\n",
    "        f = lambda x: self.predict(x)\n",
    "        f2 = lambda x: f(x)**2\n",
    "        return -(quad(f2,0,1)[0]-2*np.mean(f(test)))"
   ]
  },
  {
   "cell_type": "code",
   "execution_count": null,
   "metadata": {
    "collapsed": false,
    "scrolled": false
   },
   "outputs": [],
   "source": [
    "from sklearn.grid_search import GridSearchCV\n",
    "params = {'bandwidth':np.linspace(0.01,0.5,10)}\n",
    "clf = GridSearchCV(KernelDensityWrapper(), param_grid=params,cv=2)\n",
    "clf.fit(d)\n",
    "print(clf.best_params_)\n",
    "\n",
    "from pprint import pprint\n",
    "pprint(clf.grid_scores_)"
   ]
  },
  {
   "cell_type": "markdown",
   "metadata": {
    "deletable": true,
    "editable": true
   },
   "source": [
    "### 3.12.3 Nonparametric Regression Estimators"
   ]
  },
  {
   "cell_type": "markdown",
   "metadata": {
    "deletable": true,
    "editable": true
   },
   "source": [
    "### 3.12.4 Nearest Neighbors Regression"
   ]
  },
  {
   "cell_type": "code",
   "execution_count": 106,
   "metadata": {
    "collapsed": true
   },
   "outputs": [],
   "source": [
    "import numpy as np\n",
    "from numpy import cos, pi\n",
    "xi = np.linspace(0,1,100)[:,None]\n",
    "xin = np.linspace(0,1,12)[:,None]\n",
    "f0 = 1 # init frequency\n",
    "BW = 5\n",
    "y = cos(2*pi*(f0*xin+(BW/2.0)*xin**2))"
   ]
  },
  {
   "cell_type": "code",
   "execution_count": 107,
   "metadata": {
    "collapsed": false
   },
   "outputs": [
    {
     "data": {
      "text/plain": [
       "KNeighborsRegressor(algorithm='auto', leaf_size=30, metric='minkowski',\n",
       "          metric_params=None, n_jobs=1, n_neighbors=2, p=2,\n",
       "          weights='uniform')"
      ]
     },
     "execution_count": 107,
     "metadata": {},
     "output_type": "execute_result"
    }
   ],
   "source": [
    "from sklearn.neighbors import KNeighborsRegressor\n",
    "knr = KNeighborsRegressor(2)\n",
    "knr.fit(xin,y)"
   ]
  },
  {
   "cell_type": "code",
   "execution_count": 108,
   "metadata": {
    "collapsed": false
   },
   "outputs": [
    {
     "data": {
      "text/plain": [
       "KNeighborsRegressor(algorithm='auto', leaf_size=30, metric='minkowski',\n",
       "          metric_params=None, n_jobs=1, n_neighbors=3, p=2,\n",
       "          weights='uniform')"
      ]
     },
     "execution_count": 108,
     "metadata": {},
     "output_type": "execute_result"
    }
   ],
   "source": [
    "knr=KNeighborsRegressor(3)\n",
    "knr.fit(xin,y)"
   ]
  },
  {
   "cell_type": "code",
   "execution_count": 109,
   "metadata": {
    "collapsed": true
   },
   "outputs": [],
   "source": [
    "from sklearn.cross_validation import LeaveOneOut\n",
    "loo=LeaveOneOut(len(xin))"
   ]
  },
  {
   "cell_type": "code",
   "execution_count": 110,
   "metadata": {
    "collapsed": false
   },
   "outputs": [
    {
     "name": "stdout",
     "output_type": "stream",
     "text": [
      "Pretty printing has been turned OFF\n"
     ]
    }
   ],
   "source": [
    "pprint(list(LeaveOneOut(3)))"
   ]
  },
  {
   "cell_type": "code",
   "execution_count": 111,
   "metadata": {
    "collapsed": false
   },
   "outputs": [
    {
     "name": "stdout",
     "output_type": "stream",
     "text": [
      "Leave-one-out Estimated Risk:  1.03517136627\n"
     ]
    }
   ],
   "source": [
    "out=[]\n",
    "for train_index, test_index in loo:\n",
    "    _=knr.fit(xin[train_index],y[train_index])\n",
    "    out.append((knr.predict(xi[test_index])-y[test_index])**2)\n",
    "print('Leave-one-out Estimated Risk: ',np.mean(out),)"
   ]
  },
  {
   "cell_type": "code",
   "execution_count": 112,
   "metadata": {
    "collapsed": true
   },
   "outputs": [],
   "source": [
    "_= knr.fit(xin,y) # fit on all data\n",
    "S=(knr.kneighbors_graph(xin)).todense()/float(knr.n_neighbors)"
   ]
  },
  {
   "cell_type": "code",
   "execution_count": 113,
   "metadata": {
    "collapsed": false
   },
   "outputs": [
    {
     "name": "stdout",
     "output_type": "stream",
     "text": [
      "[[ 0.33333333  0.33333333  0.33333333  0.          0.        ]\n",
      " [ 0.33333333  0.33333333  0.33333333  0.          0.        ]\n",
      " [ 0.          0.33333333  0.33333333  0.33333333  0.        ]\n",
      " [ 0.          0.          0.33333333  0.33333333  0.33333333]\n",
      " [ 0.          0.          0.          0.33333333  0.33333333]]\n"
     ]
    }
   ],
   "source": [
    "print(S[:5,:5])"
   ]
  },
  {
   "cell_type": "code",
   "execution_count": 114,
   "metadata": {
    "collapsed": false
   },
   "outputs": [
    {
     "name": "stdout",
     "output_type": "stream",
     "text": [
      "[[ 0.55781314  0.55781314]\n",
      " [ 0.55781314  0.55781314]\n",
      " [-0.09768138 -0.09768138]\n",
      " [-0.46686876 -0.46686876]\n",
      " [-0.10877633 -0.10877633]]\n"
     ]
    }
   ],
   "source": [
    "print(np.hstack([knr.predict(xin[:5]),(S*y)[:5]]))#columns match"
   ]
  },
  {
   "cell_type": "code",
   "execution_count": 115,
   "metadata": {
    "collapsed": false
   },
   "outputs": [
    {
     "name": "stdout",
     "output_type": "stream",
     "text": [
      "True\n"
     ]
    }
   ],
   "source": [
    "print(np.allclose(knr.predict(xin),S*y))"
   ]
  },
  {
   "cell_type": "markdown",
   "metadata": {
    "deletable": true,
    "editable": true
   },
   "source": [
    "### 3.12.5 Kernel Regression"
   ]
  },
  {
   "cell_type": "code",
   "execution_count": null,
   "metadata": {
    "collapsed": false,
    "scrolled": true
   },
   "outputs": [],
   "source": [
    "from kernel_regression import KernelRegression"
   ]
  },
  {
   "cell_type": "code",
   "execution_count": null,
   "metadata": {
    "collapsed": false,
    "scrolled": true
   },
   "outputs": [],
   "source": [
    "kr = KernelRegression(gamma=np.linspace(6e3,7e3,500))\n",
    "kr.fit(xin,y)"
   ]
  },
  {
   "cell_type": "markdown",
   "metadata": {
    "deletable": true,
    "editable": true
   },
   "source": [
    "### 3.12.6 Curse of Dimensionality"
   ]
  },
  {
   "cell_type": "code",
   "execution_count": 118,
   "metadata": {
    "collapsed": true
   },
   "outputs": [],
   "source": [
    "import numpy as np\n",
    "v=np.random.rand(1000,2)-1/2."
   ]
  },
  {
   "cell_type": "code",
   "execution_count": null,
   "metadata": {
    "collapsed": false,
    "scrolled": true
   },
   "outputs": [],
   "source": [
    "for d in [2,3,5,10,20,50]:\n",
    "    v=np.random.rand(5000,d)-1/2.\n",
    "    hist([np.linalg.norm(i) for i in v])"
   ]
  },
  {
   "cell_type": "markdown",
   "metadata": {
    "deletable": true,
    "editable": true
   },
   "source": [
    "## References"
   ]
  },
  {
   "cell_type": "code",
   "execution_count": null,
   "metadata": {
    "collapsed": true,
    "deletable": true,
    "editable": true
   },
   "outputs": [],
   "source": []
  }
 ],
 "metadata": {
  "kernelspec": {
   "display_name": "Python 3",
   "language": "python",
   "name": "python3"
  },
  "language_info": {
   "codemirror_mode": {
    "name": "ipython",
    "version": 3
   },
   "file_extension": ".py",
   "mimetype": "text/x-python",
   "name": "python",
   "nbconvert_exporter": "python",
   "pygments_lexer": "ipython3",
   "version": "3.6.0"
  }
 },
 "nbformat": 4,
 "nbformat_minor": 1
}
