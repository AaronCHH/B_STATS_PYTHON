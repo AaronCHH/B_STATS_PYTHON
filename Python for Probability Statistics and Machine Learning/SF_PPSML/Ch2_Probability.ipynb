{
 "cells": [
  {
   "cell_type": "markdown",
   "metadata": {
    "deletable": true,
    "editable": true
   },
   "source": [
    "# 2 Probability"
   ]
  },
  {
   "cell_type": "markdown",
   "metadata": {
    "deletable": true,
    "editable": true
   },
   "source": [
    "<div id=\"toc\"></div>"
   ]
  },
  {
   "cell_type": "markdown",
   "metadata": {
    "deletable": true,
    "editable": true
   },
   "source": [
    "## 2.1 Introduction"
   ]
  },
  {
   "cell_type": "markdown",
   "metadata": {
    "deletable": true,
    "editable": true
   },
   "source": [
    "### 2.1.1 Understanding Probability Density"
   ]
  },
  {
   "cell_type": "markdown",
   "metadata": {
    "deletable": true,
    "editable": true
   },
   "source": [
    "### 2.1.2 Random Variables"
   ]
  },
  {
   "cell_type": "code",
   "execution_count": null,
   "metadata": {
    "collapsed": false
   },
   "outputs": [],
   "source": [
    "d = {(i,j):i+j for i in range(1,7) for j in range(1,7)}\n",
    "d"
   ]
  },
  {
   "cell_type": "code",
   "execution_count": null,
   "metadata": {
    "collapsed": false,
    "scrolled": false
   },
   "outputs": [],
   "source": [
    "from collections import defaultdict\n",
    "dinv = defaultdict(list)\n",
    "for i,j in d.iteritems():\n",
    "    dinv[j].append(i)"
   ]
  },
  {
   "cell_type": "code",
   "execution_count": null,
   "metadata": {
    "collapsed": false
   },
   "outputs": [],
   "source": [
    "X = {i:len(j)/36. for i,j in dinv.iteritems()}\n",
    "print(X)"
   ]
  },
  {
   "cell_type": "code",
   "execution_count": null,
   "metadata": {
    "collapsed": false,
    "scrolled": false
   },
   "outputs": [],
   "source": [
    "d={(i,j,k):((i*j*k)/2>i+j+k) for i in range(1,7) for j in range(1,7) for k in range(1,7)}\n",
    "d"
   ]
  },
  {
   "cell_type": "code",
   "execution_count": null,
   "metadata": {
    "collapsed": false,
    "scrolled": true
   },
   "outputs": [],
   "source": [
    "dinv = defaultdict(list)\n",
    "for i,j in d.iteritems(): \n",
    "    dinv[j].append(i)"
   ]
  },
  {
   "cell_type": "code",
   "execution_count": null,
   "metadata": {
    "collapsed": false,
    "scrolled": true
   },
   "outputs": [],
   "source": [
    "X={i:len(j)/6.0**3 for i,j in dinv.iteritems() }\n",
    "print(X)"
   ]
  },
  {
   "cell_type": "code",
   "execution_count": null,
   "metadata": {
    "collapsed": false
   },
   "outputs": [],
   "source": [
    "from pandas import DataFrame\n",
    "d = DataFrame(index=[(i,j) for i in range(1,7) for j in range(1,7)],\n",
    "              columns=['sm','d1','d2','pd1','pd2','p'])"
   ]
  },
  {
   "cell_type": "code",
   "execution_count": 20,
   "metadata": {
    "collapsed": true
   },
   "outputs": [],
   "source": [
    "d.d1=[i[0] for i in d.index]\n",
    "d.d2=[i[1] for i in d.index]"
   ]
  },
  {
   "cell_type": "code",
   "execution_count": 21,
   "metadata": {
    "collapsed": true
   },
   "outputs": [],
   "source": [
    "d.sm=map(sum,d.index) "
   ]
  },
  {
   "cell_type": "code",
   "execution_count": 22,
   "metadata": {
    "collapsed": false
   },
   "outputs": [
    {
     "data": {
      "text/html": [
       "<div>\n",
       "<table border=\"1\" class=\"dataframe\">\n",
       "  <thead>\n",
       "    <tr style=\"text-align: right;\">\n",
       "      <th></th>\n",
       "      <th>sm</th>\n",
       "      <th>d1</th>\n",
       "      <th>d2</th>\n",
       "      <th>pd1</th>\n",
       "      <th>pd2</th>\n",
       "      <th>p</th>\n",
       "    </tr>\n",
       "  </thead>\n",
       "  <tbody>\n",
       "    <tr>\n",
       "      <th>(1, 1)</th>\n",
       "      <td>&lt;map object at 0x0000005EC1C6AA20&gt;</td>\n",
       "      <td>1</td>\n",
       "      <td>1</td>\n",
       "      <td>NaN</td>\n",
       "      <td>NaN</td>\n",
       "      <td>NaN</td>\n",
       "    </tr>\n",
       "    <tr>\n",
       "      <th>(1, 2)</th>\n",
       "      <td>&lt;map object at 0x0000005EC1C6AA20&gt;</td>\n",
       "      <td>1</td>\n",
       "      <td>2</td>\n",
       "      <td>NaN</td>\n",
       "      <td>NaN</td>\n",
       "      <td>NaN</td>\n",
       "    </tr>\n",
       "    <tr>\n",
       "      <th>(1, 3)</th>\n",
       "      <td>&lt;map object at 0x0000005EC1C6AA20&gt;</td>\n",
       "      <td>1</td>\n",
       "      <td>3</td>\n",
       "      <td>NaN</td>\n",
       "      <td>NaN</td>\n",
       "      <td>NaN</td>\n",
       "    </tr>\n",
       "    <tr>\n",
       "      <th>(1, 4)</th>\n",
       "      <td>&lt;map object at 0x0000005EC1C6AA20&gt;</td>\n",
       "      <td>1</td>\n",
       "      <td>4</td>\n",
       "      <td>NaN</td>\n",
       "      <td>NaN</td>\n",
       "      <td>NaN</td>\n",
       "    </tr>\n",
       "    <tr>\n",
       "      <th>(1, 5)</th>\n",
       "      <td>&lt;map object at 0x0000005EC1C6AA20&gt;</td>\n",
       "      <td>1</td>\n",
       "      <td>5</td>\n",
       "      <td>NaN</td>\n",
       "      <td>NaN</td>\n",
       "      <td>NaN</td>\n",
       "    </tr>\n",
       "  </tbody>\n",
       "</table>\n",
       "</div>"
      ],
      "text/plain": [
       "                                        sm  d1  d2  pd1  pd2    p\n",
       "(1, 1)  <map object at 0x0000005EC1C6AA20>   1   1  NaN  NaN  NaN\n",
       "(1, 2)  <map object at 0x0000005EC1C6AA20>   1   2  NaN  NaN  NaN\n",
       "(1, 3)  <map object at 0x0000005EC1C6AA20>   1   3  NaN  NaN  NaN\n",
       "(1, 4)  <map object at 0x0000005EC1C6AA20>   1   4  NaN  NaN  NaN\n",
       "(1, 5)  <map object at 0x0000005EC1C6AA20>   1   5  NaN  NaN  NaN"
      ]
     },
     "execution_count": 22,
     "metadata": {},
     "output_type": "execute_result"
    }
   ],
   "source": [
    "d.head(5) # show first five lines"
   ]
  },
  {
   "cell_type": "code",
   "execution_count": 24,
   "metadata": {
    "collapsed": false,
    "scrolled": true
   },
   "outputs": [
    {
     "data": {
      "text/html": [
       "<div>\n",
       "<table border=\"1\" class=\"dataframe\">\n",
       "  <thead>\n",
       "    <tr style=\"text-align: right;\">\n",
       "      <th></th>\n",
       "      <th>sm</th>\n",
       "      <th>d1</th>\n",
       "      <th>d2</th>\n",
       "      <th>pd1</th>\n",
       "      <th>pd2</th>\n",
       "      <th>p</th>\n",
       "    </tr>\n",
       "  </thead>\n",
       "  <tbody>\n",
       "    <tr>\n",
       "      <th>(1, 1)</th>\n",
       "      <td>&lt;map object at 0x0000005EC1C6AA20&gt;</td>\n",
       "      <td>1</td>\n",
       "      <td>1</td>\n",
       "      <td>0.111111</td>\n",
       "      <td>0.166667</td>\n",
       "      <td>NaN</td>\n",
       "    </tr>\n",
       "    <tr>\n",
       "      <th>(1, 2)</th>\n",
       "      <td>&lt;map object at 0x0000005EC1C6AA20&gt;</td>\n",
       "      <td>1</td>\n",
       "      <td>2</td>\n",
       "      <td>0.111111</td>\n",
       "      <td>0.166667</td>\n",
       "      <td>NaN</td>\n",
       "    </tr>\n",
       "    <tr>\n",
       "      <th>(1, 3)</th>\n",
       "      <td>&lt;map object at 0x0000005EC1C6AA20&gt;</td>\n",
       "      <td>1</td>\n",
       "      <td>3</td>\n",
       "      <td>0.111111</td>\n",
       "      <td>0.166667</td>\n",
       "      <td>NaN</td>\n",
       "    </tr>\n",
       "    <tr>\n",
       "      <th>(1, 4)</th>\n",
       "      <td>&lt;map object at 0x0000005EC1C6AA20&gt;</td>\n",
       "      <td>1</td>\n",
       "      <td>4</td>\n",
       "      <td>0.111111</td>\n",
       "      <td>0.166667</td>\n",
       "      <td>NaN</td>\n",
       "    </tr>\n",
       "    <tr>\n",
       "      <th>(1, 5)</th>\n",
       "      <td>&lt;map object at 0x0000005EC1C6AA20&gt;</td>\n",
       "      <td>1</td>\n",
       "      <td>5</td>\n",
       "      <td>0.111111</td>\n",
       "      <td>0.166667</td>\n",
       "      <td>NaN</td>\n",
       "    </tr>\n",
       "    <tr>\n",
       "      <th>(1, 6)</th>\n",
       "      <td>&lt;map object at 0x0000005EC1C6AA20&gt;</td>\n",
       "      <td>1</td>\n",
       "      <td>6</td>\n",
       "      <td>0.111111</td>\n",
       "      <td>0.166667</td>\n",
       "      <td>NaN</td>\n",
       "    </tr>\n",
       "    <tr>\n",
       "      <th>(2, 1)</th>\n",
       "      <td>&lt;map object at 0x0000005EC1C6AA20&gt;</td>\n",
       "      <td>2</td>\n",
       "      <td>1</td>\n",
       "      <td>0.111111</td>\n",
       "      <td>0.166667</td>\n",
       "      <td>NaN</td>\n",
       "    </tr>\n",
       "    <tr>\n",
       "      <th>(2, 2)</th>\n",
       "      <td>&lt;map object at 0x0000005EC1C6AA20&gt;</td>\n",
       "      <td>2</td>\n",
       "      <td>2</td>\n",
       "      <td>0.111111</td>\n",
       "      <td>0.166667</td>\n",
       "      <td>NaN</td>\n",
       "    </tr>\n",
       "    <tr>\n",
       "      <th>(2, 3)</th>\n",
       "      <td>&lt;map object at 0x0000005EC1C6AA20&gt;</td>\n",
       "      <td>2</td>\n",
       "      <td>3</td>\n",
       "      <td>0.111111</td>\n",
       "      <td>0.166667</td>\n",
       "      <td>NaN</td>\n",
       "    </tr>\n",
       "    <tr>\n",
       "      <th>(2, 4)</th>\n",
       "      <td>&lt;map object at 0x0000005EC1C6AA20&gt;</td>\n",
       "      <td>2</td>\n",
       "      <td>4</td>\n",
       "      <td>0.111111</td>\n",
       "      <td>0.166667</td>\n",
       "      <td>NaN</td>\n",
       "    </tr>\n",
       "  </tbody>\n",
       "</table>\n",
       "</div>"
      ],
      "text/plain": [
       "                                        sm  d1  d2       pd1       pd2    p\n",
       "(1, 1)  <map object at 0x0000005EC1C6AA20>   1   1  0.111111  0.166667  NaN\n",
       "(1, 2)  <map object at 0x0000005EC1C6AA20>   1   2  0.111111  0.166667  NaN\n",
       "(1, 3)  <map object at 0x0000005EC1C6AA20>   1   3  0.111111  0.166667  NaN\n",
       "(1, 4)  <map object at 0x0000005EC1C6AA20>   1   4  0.111111  0.166667  NaN\n",
       "(1, 5)  <map object at 0x0000005EC1C6AA20>   1   5  0.111111  0.166667  NaN\n",
       "(1, 6)  <map object at 0x0000005EC1C6AA20>   1   6  0.111111  0.166667  NaN\n",
       "(2, 1)  <map object at 0x0000005EC1C6AA20>   2   1  0.111111  0.166667  NaN\n",
       "(2, 2)  <map object at 0x0000005EC1C6AA20>   2   2  0.111111  0.166667  NaN\n",
       "(2, 3)  <map object at 0x0000005EC1C6AA20>   2   3  0.111111  0.166667  NaN\n",
       "(2, 4)  <map object at 0x0000005EC1C6AA20>   2   4  0.111111  0.166667  NaN"
      ]
     },
     "execution_count": 24,
     "metadata": {},
     "output_type": "execute_result"
    }
   ],
   "source": [
    "d.loc[d.d1<=3,'pd1']=1/9.\n",
    "d.loc[d.d1 > 3,'pd1']=2/9.\n",
    "d.pd2=1/6.\n",
    "d.head(10)"
   ]
  },
  {
   "cell_type": "code",
   "execution_count": 25,
   "metadata": {
    "collapsed": false
   },
   "outputs": [
    {
     "data": {
      "text/html": [
       "<div>\n",
       "<table border=\"1\" class=\"dataframe\">\n",
       "  <thead>\n",
       "    <tr style=\"text-align: right;\">\n",
       "      <th></th>\n",
       "      <th>sm</th>\n",
       "      <th>d1</th>\n",
       "      <th>d2</th>\n",
       "      <th>pd1</th>\n",
       "      <th>pd2</th>\n",
       "      <th>p</th>\n",
       "    </tr>\n",
       "  </thead>\n",
       "  <tbody>\n",
       "    <tr>\n",
       "      <th>(1, 1)</th>\n",
       "      <td>&lt;map object at 0x0000005EC1C6AA20&gt;</td>\n",
       "      <td>1</td>\n",
       "      <td>1</td>\n",
       "      <td>0.111111</td>\n",
       "      <td>0.166667</td>\n",
       "      <td>0.0185185</td>\n",
       "    </tr>\n",
       "    <tr>\n",
       "      <th>(1, 2)</th>\n",
       "      <td>&lt;map object at 0x0000005EC1C6AA20&gt;</td>\n",
       "      <td>1</td>\n",
       "      <td>2</td>\n",
       "      <td>0.111111</td>\n",
       "      <td>0.166667</td>\n",
       "      <td>0.0185185</td>\n",
       "    </tr>\n",
       "    <tr>\n",
       "      <th>(1, 3)</th>\n",
       "      <td>&lt;map object at 0x0000005EC1C6AA20&gt;</td>\n",
       "      <td>1</td>\n",
       "      <td>3</td>\n",
       "      <td>0.111111</td>\n",
       "      <td>0.166667</td>\n",
       "      <td>0.0185185</td>\n",
       "    </tr>\n",
       "    <tr>\n",
       "      <th>(1, 4)</th>\n",
       "      <td>&lt;map object at 0x0000005EC1C6AA20&gt;</td>\n",
       "      <td>1</td>\n",
       "      <td>4</td>\n",
       "      <td>0.111111</td>\n",
       "      <td>0.166667</td>\n",
       "      <td>0.0185185</td>\n",
       "    </tr>\n",
       "    <tr>\n",
       "      <th>(1, 5)</th>\n",
       "      <td>&lt;map object at 0x0000005EC1C6AA20&gt;</td>\n",
       "      <td>1</td>\n",
       "      <td>5</td>\n",
       "      <td>0.111111</td>\n",
       "      <td>0.166667</td>\n",
       "      <td>0.0185185</td>\n",
       "    </tr>\n",
       "  </tbody>\n",
       "</table>\n",
       "</div>"
      ],
      "text/plain": [
       "                                        sm  d1  d2       pd1       pd2  \\\n",
       "(1, 1)  <map object at 0x0000005EC1C6AA20>   1   1  0.111111  0.166667   \n",
       "(1, 2)  <map object at 0x0000005EC1C6AA20>   1   2  0.111111  0.166667   \n",
       "(1, 3)  <map object at 0x0000005EC1C6AA20>   1   3  0.111111  0.166667   \n",
       "(1, 4)  <map object at 0x0000005EC1C6AA20>   1   4  0.111111  0.166667   \n",
       "(1, 5)  <map object at 0x0000005EC1C6AA20>   1   5  0.111111  0.166667   \n",
       "\n",
       "                p  \n",
       "(1, 1)  0.0185185  \n",
       "(1, 2)  0.0185185  \n",
       "(1, 3)  0.0185185  \n",
       "(1, 4)  0.0185185  \n",
       "(1, 5)  0.0185185  "
      ]
     },
     "execution_count": 25,
     "metadata": {},
     "output_type": "execute_result"
    }
   ],
   "source": [
    "d.p = d.pd1 * d.pd2\n",
    "d.head(5)"
   ]
  },
  {
   "cell_type": "code",
   "execution_count": 26,
   "metadata": {
    "collapsed": false
   },
   "outputs": [
    {
     "data": {
      "text/plain": [
       "sm\n",
       "<map object at 0x0000005EC1C6AA20>    1.0\n",
       "Name: p, dtype: float64"
      ]
     },
     "execution_count": 26,
     "metadata": {},
     "output_type": "execute_result"
    }
   ],
   "source": [
    "d.groupby('sm')['p'].sum() "
   ]
  },
  {
   "cell_type": "markdown",
   "metadata": {
    "deletable": true,
    "editable": true
   },
   "source": [
    "### 2.1.3 Continuous Random Variables"
   ]
  },
  {
   "cell_type": "markdown",
   "metadata": {
    "deletable": true,
    "editable": true
   },
   "source": [
    "### 2.1.4 Transformation of Variables Beyond Calculus"
   ]
  },
  {
   "cell_type": "markdown",
   "metadata": {
    "deletable": true,
    "editable": true
   },
   "source": [
    "### 2.1.5 Independent Random Variables"
   ]
  },
  {
   "cell_type": "markdown",
   "metadata": {
    "deletable": true,
    "editable": true
   },
   "source": [
    "### 2.1.6 Classic Broken Rod Example"
   ]
  },
  {
   "cell_type": "code",
   "execution_count": 27,
   "metadata": {
    "collapsed": false
   },
   "outputs": [
    {
     "data": {
      "text/plain": [
       "0.113"
      ]
     },
     "execution_count": 27,
     "metadata": {},
     "output_type": "execute_result"
    }
   ],
   "source": [
    "import numpy as np\n",
    "x,y = np.random.rand(2,1000) # uniform rv\n",
    "a,b,c = x,(y-x),1-y # 3 sides\n",
    "s = (a+b+c)/2\n",
    "np.mean((s>a) & (s>b) & (s>c) & (y>x)) # approx 1/8=0.125"
   ]
  },
  {
   "cell_type": "markdown",
   "metadata": {
    "deletable": true,
    "editable": true
   },
   "source": [
    "## 2.2 Projection Methods"
   ]
  },
  {
   "cell_type": "code",
   "execution_count": 28,
   "metadata": {
    "collapsed": true
   },
   "outputs": [],
   "source": [
    "from sympy.abc import y,x\n",
    "from sympy import integrate, simplify\n",
    "fxy = x + y # joint density\n",
    "fy = integrate(fxy,(x,0,1)) # marginal density\n",
    "fx = integrate(fxy,(y,0,1)) # marginal density\n",
    "EXY = (3*y+2)/(6*y+3) # conditional expectation"
   ]
  },
  {
   "cell_type": "code",
   "execution_count": 32,
   "metadata": {
    "collapsed": false
   },
   "outputs": [
    {
     "data": {
      "text/plain": [
       "-log(3)/144 + 1/12"
      ]
     },
     "execution_count": 32,
     "metadata": {},
     "output_type": "execute_result"
    }
   ],
   "source": [
    "# from the definition\n",
    "LHS=integrate((x-EXY)**2*fxy,(x,0,1),(y,0,1))\n",
    "LHS # left-hand-side"
   ]
  },
  {
   "cell_type": "code",
   "execution_count": 33,
   "metadata": {
    "collapsed": false
   },
   "outputs": [
    {
     "data": {
      "text/plain": [
       "-log(3)/144 + 1/12"
      ]
     },
     "execution_count": 33,
     "metadata": {},
     "output_type": "execute_result"
    }
   ],
   "source": [
    "# using Pythagorean theorem\n",
    "RHS=integrate((x)**2*fx,(x,0,1))-integrate((EXY)**2*fy,(y,0,1))\n",
    "RHS # right-hand-side"
   ]
  },
  {
   "cell_type": "code",
   "execution_count": 34,
   "metadata": {
    "collapsed": false
   },
   "outputs": [
    {
     "ename": "SyntaxError",
     "evalue": "invalid syntax (<ipython-input-34-f9bcab6c6bb1>, line 1)",
     "output_type": "error",
     "traceback": [
      "\u001b[0;36m  File \u001b[0;32m\"<ipython-input-34-f9bcab6c6bb1>\"\u001b[0;36m, line \u001b[0;32m1\u001b[0m\n\u001b[0;31m    print simplify(LHS-RHS)==0\u001b[0m\n\u001b[0m                 ^\u001b[0m\n\u001b[0;31mSyntaxError\u001b[0m\u001b[0;31m:\u001b[0m invalid syntax\n"
     ]
    }
   ],
   "source": [
    "print simplify(LHS-RHS)==0"
   ]
  },
  {
   "cell_type": "markdown",
   "metadata": {
    "deletable": true,
    "editable": true
   },
   "source": [
    "### 2.2.1 Weighted Distance"
   ]
  },
  {
   "cell_type": "markdown",
   "metadata": {
    "deletable": true,
    "editable": true
   },
   "source": [
    "## 2.3 Conditional Expectation as Projection"
   ]
  },
  {
   "cell_type": "markdown",
   "metadata": {
    "deletable": true,
    "editable": true
   },
   "source": [
    "### 2.3.1 Appendix"
   ]
  },
  {
   "cell_type": "markdown",
   "metadata": {
    "deletable": true,
    "editable": true
   },
   "source": [
    "## 2.4 Conditional Expectation and Mean Squared Error"
   ]
  },
  {
   "cell_type": "code",
   "execution_count": 37,
   "metadata": {
    "collapsed": false
   },
   "outputs": [
    {
     "name": "stdout",
     "output_type": "stream",
     "text": [
      "329*a**2/6 - 329*a/6 + 91/6\n"
     ]
    }
   ],
   "source": [
    "import sympy as S\n",
    "from sympy.stats import density, E, Die\n",
    "x=Die('D1',6) # 1st six sided die\n",
    "y=Die('D2',6) # 2nd six sides die\n",
    "a=S.symbols('a')\n",
    "z = x+y # sum of 1st and 2nd die\n",
    "J = E((x-a*(x+y))**2) # expectation\n",
    "print(S.simplify(J))"
   ]
  },
  {
   "cell_type": "code",
   "execution_count": 38,
   "metadata": {
    "collapsed": false
   },
   "outputs": [
    {
     "name": "stdout",
     "output_type": "stream",
     "text": [
      "1/2\n"
     ]
    }
   ],
   "source": [
    "sol,=S.solve(S.diff(J,a),a) # using calculus to minimize\n",
    "print(sol) # solution is 1/2"
   ]
  },
  {
   "cell_type": "code",
   "execution_count": 40,
   "metadata": {
    "collapsed": false
   },
   "outputs": [
    {
     "name": "stdout",
     "output_type": "stream",
     "text": [
      "MSE=9.33 using 6 vs MSE=3.13 using 7/2 \n"
     ]
    }
   ],
   "source": [
    "import numpy as np\n",
    "from sympy import stats\n",
    "# Eq constrains Z\n",
    "samples_z7 = lambda : stats.sample(x, S.Eq(z,7))\n",
    "#using 6 as an estimate\n",
    "mn= np.mean([(6-samples_z7())**2 for i in range(100)])\n",
    "#7/2 is the MSE estimate\n",
    "mn0= np.mean([(7/2.-samples_z7())**2 for i in range(100)])\n",
    "print('MSE=%3.2f using 6 vs MSE=%3.2f using 7/2 ' % (mn,mn0))"
   ]
  },
  {
   "cell_type": "code",
   "execution_count": 42,
   "metadata": {
    "collapsed": false,
    "scrolled": true
   },
   "outputs": [],
   "source": [
    "# here 6 is ten times more probable than any other outcome\n",
    "x=stats.FiniteRV('D3',{1:1/15., \n",
    "                       2:1/15.,3:1/15., \n",
    "                       4:1/15.,5:1/15., \n",
    "                       6:2/3.})"
   ]
  },
  {
   "cell_type": "code",
   "execution_count": 43,
   "metadata": {
    "collapsed": false
   },
   "outputs": [
    {
     "name": "stdout",
     "output_type": "stream",
     "text": [
      "MSE=3.61 using 6 vs MSE=2.55 using 5 \n"
     ]
    }
   ],
   "source": [
    "E(x, S.Eq(z,7)) # conditional expectation E(x|z=7)\n",
    "samples_z7 = lambda : stats.sample(x, S.Eq(z,7))\n",
    "#using 6 as an estimate\n",
    "mn= np.mean([(6-samples_z7())**2 for i in range(100)])\n",
    "#5 is the MSE estimate\n",
    "mn0= np.mean([(5-samples_z7())**2 for i in range(100)])\n",
    "print('MSE=%3.2f using 6 vs MSE=%3.2f using 5 ' % (mn,mn0))"
   ]
  },
  {
   "cell_type": "markdown",
   "metadata": {
    "deletable": true,
    "editable": true
   },
   "source": [
    "## 2.5 Worked Examples of Conditional Expectation# and Mean Square Error Optimization"
   ]
  },
  {
   "cell_type": "code",
   "execution_count": null,
   "metadata": {
    "collapsed": true
   },
   "outputs": [],
   "source": []
  },
  {
   "cell_type": "markdown",
   "metadata": {
    "deletable": true,
    "editable": true
   },
   "source": [
    "### 2.5.1 Example"
   ]
  },
  {
   "cell_type": "code",
   "execution_count": 47,
   "metadata": {
    "collapsed": false
   },
   "outputs": [
    {
     "name": "stdout",
     "output_type": "stream",
     "text": [
      "160/3\n"
     ]
    }
   ],
   "source": [
    "import sympy as S\n",
    "X10,X20,X50 = S.symbols('X10,X20,X50',real=True)\n",
    "xi = 10*X10+20*X20+50*X50\n",
    "eta = X10*X20*(1-X50)+X10*(1-X20)*(X50)+(1-X10)*X20*(X50)\n",
    "num=S.summation(xi*eta,(X10,0,1),(X20,0,1),(X50,0,1))\n",
    "den=S.summation(eta*eta,(X10,0,1),(X20,0,1),(X50,0,1))\n",
    "alpha=num/den\n",
    "print(alpha) # alpha=160/3"
   ]
  },
  {
   "cell_type": "code",
   "execution_count": 48,
   "metadata": {
    "collapsed": true
   },
   "outputs": [],
   "source": [
    "import pandas as pd\n",
    "d = pd.DataFrame(columns=['X10','X20','X50'])\n",
    "d.X10 = np.random.randint(0,2,1000)\n",
    "d.X10 = np.random.randint(0,2,1000)\n",
    "d.X20 = np.random.randint(0,2,1000)\n",
    "d.X50 = np.random.randint(0,2,1000)"
   ]
  },
  {
   "cell_type": "code",
   "execution_count": 49,
   "metadata": {
    "collapsed": true
   },
   "outputs": [],
   "source": [
    "grp=d.groupby(d.eval('X10+X20+X50'))"
   ]
  },
  {
   "cell_type": "code",
   "execution_count": 50,
   "metadata": {
    "collapsed": false
   },
   "outputs": [
    {
     "data": {
      "text/plain": [
       "53.395225464190979"
      ]
     },
     "execution_count": 50,
     "metadata": {},
     "output_type": "execute_result"
    }
   ],
   "source": [
    "grp.get_group(2).eval('10*X10+20*X20+50*X50').mean()"
   ]
  },
  {
   "cell_type": "code",
   "execution_count": 52,
   "metadata": {
    "collapsed": false
   },
   "outputs": [
    {
     "name": "stdout",
     "output_type": "stream",
     "text": [
      "53.9733333333\n"
     ]
    }
   ],
   "source": [
    "import numpy as np\n",
    "from numpy import array\n",
    "x=np.random.randint(0,2,(3,1000))\n",
    "print(np.dot(x[:,x.sum(axis=0)==2].T,array([10,20,50])).mean())"
   ]
  },
  {
   "cell_type": "code",
   "execution_count": 53,
   "metadata": {
    "collapsed": false
   },
   "outputs": [
    {
     "data": {
      "text/plain": [
       "[(0, 0, 0),\n",
       " (0, 0, 1),\n",
       " (0, 1, 0),\n",
       " (0, 1, 1),\n",
       " (1, 0, 0),\n",
       " (1, 0, 1),\n",
       " (1, 1, 0),\n",
       " (1, 1, 1)]"
      ]
     },
     "execution_count": 53,
     "metadata": {},
     "output_type": "execute_result"
    }
   ],
   "source": [
    "import itertools as it\n",
    "list(it.product((0,1),(0,1),(0,1)))"
   ]
  },
  {
   "cell_type": "code",
   "execution_count": null,
   "metadata": {
    "collapsed": false,
    "scrolled": true
   },
   "outputs": [],
   "source": [
    "list(it.ifilter(lambda i:sum(i)==2,it.product((0,1),(0,1),(0,1))))"
   ]
  },
  {
   "cell_type": "code",
   "execution_count": null,
   "metadata": {
    "collapsed": false,
    "scrolled": true
   },
   "outputs": [],
   "source": [
    "map(lambda k:10*k[0]+20*k[1]+50*k[2],\n",
    "    it.ifilter(lambda i:sum(i)==2,\n",
    "               it.product((0,1),(0,1),(0,1))))"
   ]
  },
  {
   "cell_type": "markdown",
   "metadata": {
    "deletable": true,
    "editable": true
   },
   "source": [
    "### 2.5.2 Example"
   ]
  },
  {
   "cell_type": "code",
   "execution_count": 57,
   "metadata": {
    "collapsed": false
   },
   "outputs": [
    {
     "name": "stdout",
     "output_type": "stream",
     "text": [
      "{a: 64/3, b: 32}\n"
     ]
    }
   ],
   "source": [
    "from sympy.abc import a,b\n",
    "h = a*eta + b\n",
    "eta = X10*X20*30 + X10*(1-X20)*(10)+ (1-X10)*X20*(20)\n",
    "MSE=S.summation((xi-h)**2*S.Rational(1,8),(X10,0,1),\n",
    "                (X20,0,1),\n",
    "                (X50,0,1))\n",
    "sol=S.solve([S.diff(MSE,a),S.diff(MSE,b)],(a,b))\n",
    "print(sol)"
   ]
  },
  {
   "cell_type": "code",
   "execution_count": 58,
   "metadata": {
    "collapsed": false,
    "scrolled": true
   },
   "outputs": [
    {
     "name": "stdout",
     "output_type": "stream",
     "text": [
      "30*X10**2*X20*X50*a - 10*X10**2*X20*a - 10*X10**2*X50*a + 100*X10**2 + 60*X10*X20**2*X50*a - 20*X10*X20**2*a - 30*X10*X20*X50*a + 400*X10*X20 + 500*X10*X50 - 10*X10*b - 20*X20**2*X50*a + 400*X20**2 + 1000*X20*X50 - 20*X20*b\n"
     ]
    },
    {
     "data": {
      "text/plain": [
       "-7.5*a - 15.0*b + 725.0"
      ]
     },
     "execution_count": 58,
     "metadata": {},
     "output_type": "execute_result"
    }
   ],
   "source": [
    "expr = expr=S.expand((xi-h)*eta)\n",
    "print(expr)\n",
    "expr.xreplace({X10**2:0.5, X20**2:0.5,X10:0.5,X20:0.5,X50:0.5})"
   ]
  },
  {
   "cell_type": "code",
   "execution_count": 60,
   "metadata": {
    "collapsed": false
   },
   "outputs": [
    {
     "name": "stdout",
     "output_type": "stream",
     "text": [
      "-0.375*a - b + 40.0\n"
     ]
    }
   ],
   "source": [
    "print(S.expand((xi-h)*1).xreplace({X10**2:0.5,\n",
    "                                   X20**2:0.5,\n",
    "                                   X10:0.5,\n",
    "                                   X20:0.5,\n",
    "                                   X50:0.5}))"
   ]
  },
  {
   "cell_type": "code",
   "execution_count": 61,
   "metadata": {
    "collapsed": false
   },
   "outputs": [
    {
     "name": "stdout",
     "output_type": "stream",
     "text": [
      "{a: 1.00000000000000, b: 25.0000000000000}\n"
     ]
    }
   ],
   "source": [
    "print(S.solve([-350.0*a-15.0*b+725.0,-15.0*a-b+40.0]))"
   ]
  },
  {
   "cell_type": "code",
   "execution_count": 63,
   "metadata": {
    "collapsed": false
   },
   "outputs": [
    {
     "data": {
      "text/html": [
       "<div>\n",
       "<table border=\"1\" class=\"dataframe\">\n",
       "  <thead>\n",
       "    <tr style=\"text-align: right;\">\n",
       "      <th></th>\n",
       "      <th>X10</th>\n",
       "      <th>X20</th>\n",
       "      <th>X50</th>\n",
       "    </tr>\n",
       "    <tr>\n",
       "      <th>sm</th>\n",
       "      <th></th>\n",
       "      <th></th>\n",
       "      <th></th>\n",
       "    </tr>\n",
       "  </thead>\n",
       "  <tbody>\n",
       "    <tr>\n",
       "      <th>0</th>\n",
       "      <td>0.0</td>\n",
       "      <td>0.0</td>\n",
       "      <td>0.465649</td>\n",
       "    </tr>\n",
       "    <tr>\n",
       "      <th>10</th>\n",
       "      <td>1.0</td>\n",
       "      <td>0.0</td>\n",
       "      <td>0.490272</td>\n",
       "    </tr>\n",
       "    <tr>\n",
       "      <th>20</th>\n",
       "      <td>0.0</td>\n",
       "      <td>1.0</td>\n",
       "      <td>0.508065</td>\n",
       "    </tr>\n",
       "    <tr>\n",
       "      <th>30</th>\n",
       "      <td>1.0</td>\n",
       "      <td>1.0</td>\n",
       "      <td>0.463519</td>\n",
       "    </tr>\n",
       "  </tbody>\n",
       "</table>\n",
       "</div>"
      ],
      "text/plain": [
       "    X10  X20       X50\n",
       "sm                    \n",
       "0   0.0  0.0  0.465649\n",
       "10  1.0  0.0  0.490272\n",
       "20  0.0  1.0  0.508065\n",
       "30  1.0  1.0  0.463519"
      ]
     },
     "execution_count": 63,
     "metadata": {},
     "output_type": "execute_result"
    }
   ],
   "source": [
    "d['sm'] = d.eval('X10*10+X20*20')\n",
    "d.groupby('sm').mean()"
   ]
  },
  {
   "cell_type": "code",
   "execution_count": 64,
   "metadata": {
    "collapsed": false
   },
   "outputs": [
    {
     "data": {
      "text/plain": [
       "sm\n",
       "0     23.282443\n",
       "10    34.513619\n",
       "20    45.403226\n",
       "30    53.175966\n",
       "dtype: float64"
      ]
     },
     "execution_count": 64,
     "metadata": {},
     "output_type": "execute_result"
    }
   ],
   "source": [
    "d.groupby('sm').mean().eval('10*X10+20*X20+50*X50')"
   ]
  },
  {
   "cell_type": "markdown",
   "metadata": {
    "deletable": true,
    "editable": true
   },
   "source": [
    "### 2.5.3 Example"
   ]
  },
  {
   "cell_type": "code",
   "execution_count": 65,
   "metadata": {
    "collapsed": true
   },
   "outputs": [],
   "source": [
    "x,c,b,a=S.symbols('x,c,b,a')\n",
    "xi = 2*x**2\n",
    "\n",
    "eta=S.Piecewise((1,S.And(S.Gt(x,0),\n",
    "                         S.Lt(x,S.Rational(1,3)))), # 0 < x < 1/3\n",
    "                (2,S.And(S.Gt(x,S.Rational(1,3)),\n",
    "                         S.Lt(x,S.Rational(2,3)))), # 1/3 < x < 2/3,\n",
    "                (0,S.And(S.Gt(x,S.Rational(2,3)),\n",
    "                         S.Lt(x,1)))) # 1/3 < x < 2/3\n",
    "h = a + b*eta + c*eta**2\n",
    "J=S.integrate((xi-h)**2,(x,0,1))\n",
    "sol=S.solve([S.diff(J,a),\n",
    "             S.diff(J,b),\n",
    "             S.diff(J,c),\n",
    "            ],\n",
    "            (a,b,c))"
   ]
  },
  {
   "cell_type": "code",
   "execution_count": 67,
   "metadata": {
    "collapsed": false
   },
   "outputs": [
    {
     "name": "stdout",
     "output_type": "stream",
     "text": [
      "{a: 38/27, b: -20/9, c: 8/9}\n"
     ]
    }
   ],
   "source": [
    "print(sol)"
   ]
  },
  {
   "cell_type": "code",
   "execution_count": 68,
   "metadata": {
    "collapsed": false,
    "scrolled": true
   },
   "outputs": [
    {
     "name": "stdout",
     "output_type": "stream",
     "text": [
      "Piecewise((2/27, And(x < 1/3, x > 0)), (14/27, And(x < 2/3, x > 1/3)), (38/27, And(x < 1, x > 2/3)))\n"
     ]
    }
   ],
   "source": [
    "print(S.piecewise_fold(h.subs(sol)))"
   ]
  },
  {
   "cell_type": "code",
   "execution_count": 70,
   "metadata": {
    "collapsed": false
   },
   "outputs": [],
   "source": [
    "x,a,b,c,eta = S.symbols('x,a,b,c,eta',real=True)\n",
    "xi = 2*x**2\n",
    "eta=S.Piecewise((1,S.And(S.Gt(x,0),\n",
    "                         S.Lt(x,S.Rational(1,3)))), # 0 < x < 1/3\n",
    "                (2,S.And(S.Gt(x,S.Rational(1,3)),\n",
    "                         S.Lt(x,S.Rational(2,3)))), # 1/3 < x < 2/3,\n",
    "                (0,S.And(S.Gt(x,S.Rational(2,3)),\n",
    "                         S.Lt(x,1)))) # 1/3 < x < 2/3\n",
    "h = c+b*eta+a*eta**2"
   ]
  },
  {
   "cell_type": "code",
   "execution_count": 72,
   "metadata": {
    "collapsed": false
   },
   "outputs": [
    {
     "data": {
      "text/plain": [
       "-5*a/3 - b - c + 2/3"
      ]
     },
     "execution_count": 72,
     "metadata": {},
     "output_type": "execute_result"
    }
   ],
   "source": [
    "S.integrate((xi-h)*1,(x,0,1))"
   ]
  },
  {
   "cell_type": "code",
   "execution_count": 73,
   "metadata": {
    "collapsed": false
   },
   "outputs": [
    {
     "data": {
      "text/plain": [
       "-3*a - 5*b/3 - c + 10/27"
      ]
     },
     "execution_count": 73,
     "metadata": {},
     "output_type": "execute_result"
    }
   ],
   "source": [
    "S.integrate((xi-h)*eta,(x,0,1))"
   ]
  },
  {
   "cell_type": "code",
   "execution_count": 74,
   "metadata": {
    "collapsed": false
   },
   "outputs": [
    {
     "data": {
      "text/plain": [
       "-17*a/3 - 3*b - 5*c/3 + 58/81"
      ]
     },
     "execution_count": 74,
     "metadata": {},
     "output_type": "execute_result"
    }
   ],
   "source": [
    "S.integrate((xi-h)*eta**2,(x,0,1))"
   ]
  },
  {
   "cell_type": "code",
   "execution_count": 75,
   "metadata": {
    "collapsed": true
   },
   "outputs": [],
   "source": [
    "eqs=[ -5*a/3 - b - c + 2/3,\n",
    "     -3*a - 5*b/3 - c + 10/27,\n",
    "     -17*a/3 - 3*b - 5*c/3 + 58/81]"
   ]
  },
  {
   "cell_type": "code",
   "execution_count": 76,
   "metadata": {
    "collapsed": false,
    "scrolled": true
   },
   "outputs": [
    {
     "name": "stdout",
     "output_type": "stream",
     "text": [
      "{a: 0.888888888888889, b: -2.22222222222222, c: 1.40740740740741}\n",
      "Piecewise((0.0740740740740740, And(x < 1/3, x > 0)), (0.518518518518518, And(x < 2/3, x > 1/3)), (1.40740740740741, And(x < 1, x > 2/3)))\n"
     ]
    }
   ],
   "source": [
    "sol=S.solve(eqs)\n",
    "print(sol)\n",
    "print(S.piecewise_fold(h.subs(sol)))"
   ]
  },
  {
   "cell_type": "code",
   "execution_count": 81,
   "metadata": {
    "collapsed": false
   },
   "outputs": [
    {
     "data": {
      "text/plain": [
       "0        (0, 0.333]\n",
       "1        (0, 0.333]\n",
       "2        (0, 0.333]\n",
       "3        (0.667, 1]\n",
       "4    (0.333, 0.667]\n",
       "Name: x, dtype: category\n",
       "Categories (3, object): [(0, 0.333] < (0.333, 0.667] < (0.667, 1]]"
      ]
     },
     "execution_count": 81,
     "metadata": {},
     "output_type": "execute_result"
    }
   ],
   "source": [
    "d = pd.DataFrame(columns=['x','eta','xi'])\n",
    "d.x = np.random.rand(1000)\n",
    "d.xi = 2*d.x**2\n",
    "pd.cut(d.x,[0,1/3,2/3,1]).head()"
   ]
  },
  {
   "cell_type": "code",
   "execution_count": 82,
   "metadata": {
    "collapsed": false
   },
   "outputs": [
    {
     "data": {
      "text/plain": [
       "x\n",
       "(0, 0.333]        0.068886\n",
       "(0.333, 0.667]    0.525851\n",
       "(0.667, 1]        1.425069\n",
       "Name: xi, dtype: float64"
      ]
     },
     "execution_count": 82,
     "metadata": {},
     "output_type": "execute_result"
    }
   ],
   "source": [
    "d.groupby(pd.cut(d.x,[0,1/3,2/3,1])).mean()['xi']"
   ]
  },
  {
   "cell_type": "code",
   "execution_count": 83,
   "metadata": {
    "collapsed": false
   },
   "outputs": [
    {
     "data": {
      "text/plain": [
       "2/27"
      ]
     },
     "execution_count": 83,
     "metadata": {},
     "output_type": "execute_result"
    }
   ],
   "source": [
    "from sympy.stats import E, Uniform\n",
    "x=Uniform('x',0,1)\n",
    "E(2*x**2,S.And(x < S.Rational(1,3), x > 0))"
   ]
  },
  {
   "cell_type": "code",
   "execution_count": 84,
   "metadata": {
    "collapsed": false
   },
   "outputs": [
    {
     "data": {
      "text/plain": [
       "14/27"
      ]
     },
     "execution_count": 84,
     "metadata": {},
     "output_type": "execute_result"
    }
   ],
   "source": [
    "E(2*x**2,S.And(x < S.Rational(2,3), x > S.Rational(1,3)))"
   ]
  },
  {
   "cell_type": "code",
   "execution_count": 85,
   "metadata": {
    "collapsed": false
   },
   "outputs": [
    {
     "data": {
      "text/plain": [
       "38/27"
      ]
     },
     "execution_count": 85,
     "metadata": {},
     "output_type": "execute_result"
    }
   ],
   "source": [
    "E(2*x**2,S.And(x < 1, x > S.Rational(2,3)))"
   ]
  },
  {
   "cell_type": "markdown",
   "metadata": {
    "deletable": true,
    "editable": true
   },
   "source": [
    "### 2.5.4 Example"
   ]
  },
  {
   "cell_type": "markdown",
   "metadata": {
    "deletable": true,
    "editable": true
   },
   "source": [
    "### 2.5.5 Example"
   ]
  },
  {
   "cell_type": "code",
   "execution_count": 86,
   "metadata": {
    "collapsed": true
   },
   "outputs": [],
   "source": [
    "from pandas import DataFrame\n",
    "import numpy as np\n",
    "d = DataFrame(columns=['xi','eta','x','h','h1','h2'])\n",
    "# 100 random samples"
   ]
  },
  {
   "cell_type": "code",
   "execution_count": 88,
   "metadata": {
    "collapsed": false
   },
   "outputs": [
    {
     "data": {
      "text/html": [
       "<div>\n",
       "<table border=\"1\" class=\"dataframe\">\n",
       "  <thead>\n",
       "    <tr style=\"text-align: right;\">\n",
       "      <th></th>\n",
       "      <th>xi</th>\n",
       "      <th>eta</th>\n",
       "      <th>x</th>\n",
       "      <th>h</th>\n",
       "      <th>h1</th>\n",
       "      <th>h2</th>\n",
       "    </tr>\n",
       "  </thead>\n",
       "  <tbody>\n",
       "    <tr>\n",
       "      <th>0</th>\n",
       "      <td>0.308479</td>\n",
       "      <td>0.785467</td>\n",
       "      <td>0.392734</td>\n",
       "      <td>0.308479</td>\n",
       "      <td>0.308479</td>\n",
       "      <td>0.000000</td>\n",
       "    </tr>\n",
       "    <tr>\n",
       "      <th>1</th>\n",
       "      <td>0.318254</td>\n",
       "      <td>0.797814</td>\n",
       "      <td>0.398907</td>\n",
       "      <td>0.318254</td>\n",
       "      <td>0.318254</td>\n",
       "      <td>0.000000</td>\n",
       "    </tr>\n",
       "    <tr>\n",
       "      <th>2</th>\n",
       "      <td>0.156723</td>\n",
       "      <td>0.559862</td>\n",
       "      <td>0.279931</td>\n",
       "      <td>0.156723</td>\n",
       "      <td>0.156723</td>\n",
       "      <td>0.000000</td>\n",
       "    </tr>\n",
       "    <tr>\n",
       "      <th>3</th>\n",
       "      <td>0.643968</td>\n",
       "      <td>0.865127</td>\n",
       "      <td>0.567436</td>\n",
       "      <td>0.643968</td>\n",
       "      <td>0.000000</td>\n",
       "      <td>0.643968</td>\n",
       "    </tr>\n",
       "    <tr>\n",
       "      <th>4</th>\n",
       "      <td>0.015170</td>\n",
       "      <td>0.174182</td>\n",
       "      <td>0.087091</td>\n",
       "      <td>0.015170</td>\n",
       "      <td>0.015170</td>\n",
       "      <td>0.000000</td>\n",
       "    </tr>\n",
       "  </tbody>\n",
       "</table>\n",
       "</div>"
      ],
      "text/plain": [
       "         xi       eta         x         h        h1        h2\n",
       "0  0.308479  0.785467  0.392734  0.308479  0.308479  0.000000\n",
       "1  0.318254  0.797814  0.398907  0.318254  0.318254  0.000000\n",
       "2  0.156723  0.559862  0.279931  0.156723  0.156723  0.000000\n",
       "3  0.643968  0.865127  0.567436  0.643968  0.000000  0.643968\n",
       "4  0.015170  0.174182  0.087091  0.015170  0.015170  0.000000"
      ]
     },
     "execution_count": 88,
     "metadata": {},
     "output_type": "execute_result"
    }
   ],
   "source": [
    "d.x = np.random.rand(100)\n",
    "d.xi = d.eval('2*x**2')\n",
    "d.eta =1-abs(2*d.x-1)\n",
    "d.h1=d[(d.x<0.5)].eval('eta**2/2')\n",
    "d.h2=d[(d.x>=0.5)].eval('(2-eta)**2/2')\n",
    "d.fillna(0,inplace=True)\n",
    "d.h = d.h1+d.h2\n",
    "d.head()"
   ]
  },
  {
   "cell_type": "code",
   "execution_count": 97,
   "metadata": {
    "collapsed": false
   },
   "outputs": [
    {
     "data": {
      "image/png": "[encoded data removed]",
      "text/plain": [
       "<matplotlib.figure.Figure at 0x5ec7e9c470>"
      ]
     },
     "metadata": {},
     "output_type": "display_data"
    }
   ],
   "source": [
    "import matplotlib.pylab as plt\n",
    "from matplotlib.pyplot import subplots\n",
    "fig,ax=subplots()\n",
    "ax.plot(d.xi,d.eta,'.',alpha=.3,label='$\\eta$')\n",
    "ax.plot(d.xi,d.h,'k.',label='$h(\\eta)$')\n",
    "ax.legend(loc=0,fontsize=18)\n",
    "ax.set_xlabel('$2 xˆ2$',fontsize=18)\n",
    "ax.set_ylabel('$h(\\eta)$',fontsize=18)\n",
    "plt.show()"
   ]
  },
  {
   "cell_type": "markdown",
   "metadata": {
    "deletable": true,
    "editable": true
   },
   "source": [
    "### 2.5.6 Example"
   ]
  },
  {
   "cell_type": "markdown",
   "metadata": {
    "deletable": true,
    "editable": true
   },
   "source": [
    "## 2.6 Information Entropy"
   ]
  },
  {
   "cell_type": "markdown",
   "metadata": {
    "deletable": true,
    "editable": true
   },
   "source": [
    "### 2.6.1 Information Theory Concepts"
   ]
  },
  {
   "cell_type": "markdown",
   "metadata": {
    "deletable": true,
    "editable": true
   },
   "source": [
    "### 2.6.2 Properties of Information Entropy"
   ]
  },
  {
   "cell_type": "markdown",
   "metadata": {
    "deletable": true,
    "editable": true
   },
   "source": [
    "### 2.6.3 Kullback-Leibler Divergence"
   ]
  },
  {
   "cell_type": "markdown",
   "metadata": {
    "deletable": true,
    "editable": true
   },
   "source": [
    "## 2.7 Moment Generating Functions"
   ]
  },
  {
   "cell_type": "code",
   "execution_count": 99,
   "metadata": {
    "collapsed": false
   },
   "outputs": [
    {
     "name": "stdout",
     "output_type": "stream",
     "text": [
      "10*p\n",
      "10*p\n",
      "10*p\n",
      "10*p*(9*p + 1)\n"
     ]
    }
   ],
   "source": [
    "import sympy as S\n",
    "from sympy import stats\n",
    "p,t = S.symbols('p t',positive=True)\n",
    "x=stats.Binomial('x',10,p)\n",
    "mgf = stats.E(S.exp(t*x))\n",
    "print(S.simplify(stats.E(x)))\n",
    "print(S.simplify(S.diff(mgf,t).subs(t,0)))\n",
    "print(S.simplify(stats.moment(x,1))) # mean)\n",
    "print(S.simplify(stats.moment(x,2))) # 2nd moment"
   ]
  },
  {
   "cell_type": "code",
   "execution_count": 100,
   "metadata": {
    "collapsed": false
   },
   "outputs": [
    {
     "data": {
      "text/plain": [
       "t**2*(sigma0**2/2 + sigma1**2/2) + t*(mu0 + mu1)"
      ]
     },
     "execution_count": 100,
     "metadata": {},
     "output_type": "execute_result"
    }
   ],
   "source": [
    "S.var('x:2',real=True)\n",
    "S.var('mu:2',real=True)\n",
    "S.var('sigma:2',positive=True)\n",
    "S.var('t',positive=True)\n",
    "x0 = stats.Normal(x0,mu0,sigma0)\n",
    "x1 = stats.Normal(x1,mu1,sigma1)\n",
    "mgf0 = S.simplify(stats.E(S.exp(t*x0)))\n",
    "mgf1 = S.simplify(stats.E(S.exp(t*x1)))\n",
    "mgfY = S.simplify(mgf0*mgf1)\n",
    "S.collect(S.expand(S.log(mgfY)),t)"
   ]
  },
  {
   "cell_type": "markdown",
   "metadata": {
    "deletable": true,
    "editable": true
   },
   "source": [
    "## 2.8 Monte Carlo Sampling Methods"
   ]
  },
  {
   "cell_type": "markdown",
   "metadata": {
    "deletable": true,
    "editable": true
   },
   "source": [
    "### 2.8.1 Inverse CDF Method for Discrete Variables"
   ]
  },
  {
   "cell_type": "code",
   "execution_count": 102,
   "metadata": {
    "collapsed": true
   },
   "outputs": [],
   "source": [
    "import pandas as pd\n",
    "import numpy as np\n",
    "from pandas import DataFrame\n",
    "u= np.random.rand(100)\n",
    "df = DataFrame(data=u,columns=['u'])\n",
    "labels = [1,2,3,4,5,6]\n",
    "\n",
    "df['v']=pd.cut(df.u,np.linspace(0,1,7),\n",
    "               include_lowest=True,labels=labels)"
   ]
  },
  {
   "cell_type": "code",
   "execution_count": 103,
   "metadata": {
    "collapsed": false
   },
   "outputs": [
    {
     "data": {
      "text/html": [
       "<div>\n",
       "<table border=\"1\" class=\"dataframe\">\n",
       "  <thead>\n",
       "    <tr style=\"text-align: right;\">\n",
       "      <th></th>\n",
       "      <th>u</th>\n",
       "      <th>v</th>\n",
       "    </tr>\n",
       "  </thead>\n",
       "  <tbody>\n",
       "    <tr>\n",
       "      <th>0</th>\n",
       "      <td>0.718461</td>\n",
       "      <td>5</td>\n",
       "    </tr>\n",
       "    <tr>\n",
       "      <th>1</th>\n",
       "      <td>0.839452</td>\n",
       "      <td>6</td>\n",
       "    </tr>\n",
       "    <tr>\n",
       "      <th>2</th>\n",
       "      <td>0.908277</td>\n",
       "      <td>6</td>\n",
       "    </tr>\n",
       "    <tr>\n",
       "      <th>3</th>\n",
       "      <td>0.351629</td>\n",
       "      <td>3</td>\n",
       "    </tr>\n",
       "    <tr>\n",
       "      <th>4</th>\n",
       "      <td>0.885413</td>\n",
       "      <td>6</td>\n",
       "    </tr>\n",
       "  </tbody>\n",
       "</table>\n",
       "</div>"
      ],
      "text/plain": [
       "          u  v\n",
       "0  0.718461  5\n",
       "1  0.839452  6\n",
       "2  0.908277  6\n",
       "3  0.351629  3\n",
       "4  0.885413  6"
      ]
     },
     "execution_count": 103,
     "metadata": {},
     "output_type": "execute_result"
    }
   ],
   "source": [
    "df.head()"
   ]
  },
  {
   "cell_type": "code",
   "execution_count": 104,
   "metadata": {
    "collapsed": false
   },
   "outputs": [
    {
     "data": {
      "text/html": [
       "<div>\n",
       "<table border=\"1\" class=\"dataframe\">\n",
       "  <thead>\n",
       "    <tr style=\"text-align: right;\">\n",
       "      <th></th>\n",
       "      <th>u</th>\n",
       "    </tr>\n",
       "    <tr>\n",
       "      <th>v</th>\n",
       "      <th></th>\n",
       "    </tr>\n",
       "  </thead>\n",
       "  <tbody>\n",
       "    <tr>\n",
       "      <th>1</th>\n",
       "      <td>16</td>\n",
       "    </tr>\n",
       "    <tr>\n",
       "      <th>2</th>\n",
       "      <td>17</td>\n",
       "    </tr>\n",
       "    <tr>\n",
       "      <th>3</th>\n",
       "      <td>14</td>\n",
       "    </tr>\n",
       "    <tr>\n",
       "      <th>4</th>\n",
       "      <td>12</td>\n",
       "    </tr>\n",
       "    <tr>\n",
       "      <th>5</th>\n",
       "      <td>25</td>\n",
       "    </tr>\n",
       "    <tr>\n",
       "      <th>6</th>\n",
       "      <td>16</td>\n",
       "    </tr>\n",
       "  </tbody>\n",
       "</table>\n",
       "</div>"
      ],
      "text/plain": [
       "    u\n",
       "v    \n",
       "1  16\n",
       "2  17\n",
       "3  14\n",
       "4  12\n",
       "5  25\n",
       "6  16"
      ]
     },
     "execution_count": 104,
     "metadata": {},
     "output_type": "execute_result"
    }
   ],
   "source": [
    "df.groupby('v').count()"
   ]
  },
  {
   "cell_type": "code",
   "execution_count": 105,
   "metadata": {
    "collapsed": true
   },
   "outputs": [],
   "source": [
    "df['v']=pd.cut(df.u,[0,1/12,2/12,3/12,2/4,3/4,1],\n",
    "               include_lowest=True,labels=labels)"
   ]
  },
  {
   "cell_type": "code",
   "execution_count": 106,
   "metadata": {
    "collapsed": false
   },
   "outputs": [
    {
     "data": {
      "text/html": [
       "<div>\n",
       "<table border=\"1\" class=\"dataframe\">\n",
       "  <thead>\n",
       "    <tr style=\"text-align: right;\">\n",
       "      <th></th>\n",
       "      <th>u</th>\n",
       "    </tr>\n",
       "    <tr>\n",
       "      <th>v</th>\n",
       "      <th></th>\n",
       "    </tr>\n",
       "  </thead>\n",
       "  <tbody>\n",
       "    <tr>\n",
       "      <th>1</th>\n",
       "      <td>0.08</td>\n",
       "    </tr>\n",
       "    <tr>\n",
       "      <th>2</th>\n",
       "      <td>0.08</td>\n",
       "    </tr>\n",
       "    <tr>\n",
       "      <th>3</th>\n",
       "      <td>0.06</td>\n",
       "    </tr>\n",
       "    <tr>\n",
       "      <th>4</th>\n",
       "      <td>0.25</td>\n",
       "    </tr>\n",
       "    <tr>\n",
       "      <th>5</th>\n",
       "      <td>0.26</td>\n",
       "    </tr>\n",
       "    <tr>\n",
       "      <th>6</th>\n",
       "      <td>0.27</td>\n",
       "    </tr>\n",
       "  </tbody>\n",
       "</table>\n",
       "</div>"
      ],
      "text/plain": [
       "      u\n",
       "v      \n",
       "1  0.08\n",
       "2  0.08\n",
       "3  0.06\n",
       "4  0.25\n",
       "5  0.26\n",
       "6  0.27"
      ]
     },
     "execution_count": 106,
     "metadata": {},
     "output_type": "execute_result"
    }
   ],
   "source": [
    "df.groupby('v').count()/df.shape[0]"
   ]
  },
  {
   "cell_type": "markdown",
   "metadata": {
    "deletable": true,
    "editable": true
   },
   "source": [
    "### 2.8.2 Inverse CDF Method for Continuous Variables"
   ]
  },
  {
   "cell_type": "code",
   "execution_count": 107,
   "metadata": {
    "collapsed": true
   },
   "outputs": [],
   "source": [
    "from numpy import array, log\n",
    "import scipy.stats\n",
    "alpha = 1. # distribution parameter\n",
    "nsamp = 1000 # num of samples\n",
    "# define uniform random variable\n",
    "u=scipy.stats.uniform(0,1)\n",
    "# define inverse function\n",
    "Finv=lambda u: 1/alpha*log(1/(1-u))\n",
    "# apply inverse function to samples\n",
    "v = array(map(Finv,u.rvs(nsamp)))"
   ]
  },
  {
   "cell_type": "code",
   "execution_count": null,
   "metadata": {
    "collapsed": false
   },
   "outputs": [],
   "source": [
    "fig,ax=subplots()\n",
    "scipy.stats.probplot(v,(1,),dist='expon',plot=ax)"
   ]
  },
  {
   "cell_type": "markdown",
   "metadata": {
    "deletable": true,
    "editable": true
   },
   "source": [
    "### 2.8.3 Rejection Method"
   ]
  },
  {
   "cell_type": "code",
   "execution_count": 109,
   "metadata": {
    "collapsed": true
   },
   "outputs": [],
   "source": [
    "import numpy as np\n",
    "x = np.linspace(0.001,15,100)\n",
    "f= lambda x: np.exp(-(x-1)**2/2./x)*(x+1)/12.\n",
    "fx = f(x)\n",
    "M=0.3 # scale factor\n",
    "u1 = np.random.rand(10000)*15 # uniform random samples scaled out\n",
    "u2 = np.random.rand(10000) # uniform random samples\n",
    "idx,= np.where(u2<=f(u1)/M) # rejection criterion\n",
    "v = u1[idx]"
   ]
  },
  {
   "cell_type": "code",
   "execution_count": 110,
   "metadata": {
    "collapsed": true
   },
   "outputs": [],
   "source": [
    "ch=scipy.stats.chi2(4) # chi-squared\n",
    "h = lambda x: f(x)/ch.pdf(x) # h-function\n",
    "hmax=h(x).max()\n",
    "u1 = ch.rvs(5000) # samples from chi-square distribution\n",
    "u2 = np.random.rand(5000)# uniform random samples\n",
    "idx = (u2 <= h(u1)/hmax) # rejection criterion\n",
    "v = u1[idx] # keep these only"
   ]
  },
  {
   "cell_type": "markdown",
   "metadata": {
    "deletable": true,
    "editable": true
   },
   "source": [
    "## 2.9 Useful Inequalities"
   ]
  },
  {
   "cell_type": "markdown",
   "metadata": {
    "deletable": true,
    "editable": true
   },
   "source": [
    "### 2.9.1 Markov's Inequality"
   ]
  },
  {
   "cell_type": "markdown",
   "metadata": {
    "deletable": true,
    "editable": true
   },
   "source": [
    "### 2.9.2 Chebyshev's Inequality"
   ]
  },
  {
   "cell_type": "code",
   "execution_count": 112,
   "metadata": {
    "collapsed": false
   },
   "outputs": [],
   "source": [
    "import sympy\n",
    "import sympy.stats as ss\n",
    "t=sympy.symbols('t',real=True)\n",
    "x=ss.ChiSquared('x',1)"
   ]
  },
  {
   "cell_type": "code",
   "execution_count": 113,
   "metadata": {
    "collapsed": true
   },
   "outputs": [],
   "source": [
    "r = ss.P((x-1) > t,x>1)+ss.P(-(x-1) > t,x<1)"
   ]
  },
  {
   "cell_type": "code",
   "execution_count": 114,
   "metadata": {
    "collapsed": true
   },
   "outputs": [],
   "source": [
    "w=(1-ss.cdf(x)(t+1))+ss.cdf(x)(1-t)"
   ]
  },
  {
   "cell_type": "code",
   "execution_count": 115,
   "metadata": {
    "collapsed": true
   },
   "outputs": [],
   "source": [
    "fw=sympy.lambdify(t,w)"
   ]
  },
  {
   "cell_type": "code",
   "execution_count": 116,
   "metadata": {
    "collapsed": false
   },
   "outputs": [
    {
     "data": {
      "text/plain": [
       "<map at 0x5ec7f18898>"
      ]
     },
     "execution_count": 116,
     "metadata": {},
     "output_type": "execute_result"
    }
   ],
   "source": [
    "map(fw,[0,1,2,3,4])"
   ]
  },
  {
   "cell_type": "markdown",
   "metadata": {
    "deletable": true,
    "editable": true
   },
   "source": [
    "### 2.9.3 Hoeffding's Inequality"
   ]
  },
  {
   "cell_type": "code",
   "execution_count": null,
   "metadata": {
    "collapsed": true
   },
   "outputs": [],
   "source": []
  },
  {
   "cell_type": "markdown",
   "metadata": {
    "deletable": true,
    "editable": true
   },
   "source": [
    "## References"
   ]
  },
  {
   "cell_type": "code",
   "execution_count": null,
   "metadata": {
    "collapsed": true,
    "deletable": true,
    "editable": true
   },
   "outputs": [],
   "source": []
  }
 ],
 "metadata": {
  "kernelspec": {
   "display_name": "Python 3",
   "language": "python",
   "name": "python3"
  },
  "language_info": {
   "codemirror_mode": {
    "name": "ipython",
    "version": 3
   },
   "file_extension": ".py",
   "mimetype": "text/x-python",
   "name": "python",
   "nbconvert_exporter": "python",
   "pygments_lexer": "ipython3",
   "version": "3.6.0"
  }
 },
 "nbformat": 4,
 "nbformat_minor": 1
}
